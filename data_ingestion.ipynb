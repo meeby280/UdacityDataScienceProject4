{
 "cells": [
  {
   "cell_type": "code",
   "execution_count": 1,
   "id": "99618e43",
   "metadata": {},
   "outputs": [],
   "source": [
    "import pandas as pd\n",
    "import numpy as np\n",
    "\n",
    "from sqlalchemy import create_engine"
   ]
  },
  {
   "cell_type": "markdown",
   "id": "e104d26f",
   "metadata": {},
   "source": [
    "# Initial Ingestion and Cleaning"
   ]
  },
  {
   "cell_type": "code",
   "execution_count": null,
   "id": "f8d233d9",
   "metadata": {},
   "outputs": [],
   "source": [
    "# Loading the data from the JSON files\n",
    "offers = pd.read_json('data/portfolio.json', orient='records', lines=True)\n",
    "users = pd.read_json('data/profile.json', orient='records', lines=True)\n",
    "interactions = pd.read_json('data/transcript.json', orient='records', lines=True)\n",
    "\n",
    "# Mappings for renaming columns to keep better track of where the columns come from\n",
    "offer_col_mapping = {\n",
    "    'id': 'offer_id', \n",
    "    'channels': 'offer_notification_channel', \n",
    "    'offer_type': 'offer_type', \n",
    "    'difficulty': 'offer_spend_minimum', \n",
    "    'reward': 'offer_reward', \n",
    "    'duration': 'offer_duration'\n",
    "}\n",
    "\n",
    "users_col_mapping = {\n",
    "    'id': 'user_id', \n",
    "    'gender': 'user_gender', \n",
    "    'age': 'user_age', \n",
    "    'became_member_on': 'user_member_since', \n",
    "    'income': 'user_income'\n",
    "}\n",
    "\n",
    "interactions_col_mapping = {\n",
    "    'person': 'user_id', \n",
    "    'event': 'intxn_event_type', \n",
    "    'value': 'intxn_value', \n",
    "    'time': 'intxn_time'\n",
    "}\n",
    "\n",
    "# Reordering and renaming columns for offers\n",
    "offers = offers[ list( offer_col_mapping.keys() ) ]\n",
    "offers = offers.rename( columns=offer_col_mapping )\n",
    "offers['offer_duration'] = offers['offer_duration'].apply( lambda x: x * 24 ) # Converting days to hours\n",
    "offers['offer_reward_vs_spend'] = round( offers['offer_reward'] / offers['offer_spend_minimum'], 2 )\n",
    "offers['offer_reward_vs_spend'] = offers['offer_reward_vs_spend'].fillna(0)\n",
    "\n",
    "# Exploding the offers table so that we have one row per channel per offer\n",
    "offers = offers.explode('offer_notification_channel')\n",
    "\n",
    "# Reordering and renaming columns for users\n",
    "users = users[ list( users_col_mapping.keys() ) ]\n",
    "users = users.rename( columns=users_col_mapping )\n",
    "\n",
    "# Users with age 118 are users that do not have an age in their profile\n",
    "users['user_gender'] = users['user_gender'].fillna('N/A')\n",
    "\n",
    "# Creating the user tenure column from the user_member_since column\n",
    "users['user_member_since'] = pd.to_datetime(users['user_member_since'], format='%Y%m%d', errors='coerce')\n",
    "users['user_tenure'] = users['user_member_since'].apply( lambda x: ( pd.Timestamp(2019, 1, 1) - x).days if pd.notnull(x) else np.nan )\n",
    "users['user_tenure'] = users['user_tenure'].apply( lambda x: int(x / 360) )\n",
    "\n",
    "# Assigning a user age group\n",
    "users['user_age'] = users['user_age'].apply( lambda x: np.nan if x == 118 else x )\n",
    "users['user_age_group'] = pd.cut( users['user_age'], bins=[0, 18, 25, 35, 45, 55, 65, np.inf], labels=['0-17', '18-24', '25-34', '35-44', '45-54', '55-64', '65+'], right=False )\n",
    "users['user_age_group'] = users['user_age_group'].cat.add_categories(\"N/A\").fillna(\"N/A\")\n",
    "\n",
    "# Assigning a user income group\n",
    "users['user_income_group'] = pd.cut( users['user_income'], bins=[0, 50000, 75000, 100000, np.inf], labels=['<50k', '50k-75k', '75k-100k', '>100k'], right=False )\n",
    "users['user_income_group'] = users['user_income_group'].cat.add_categories(\"N/A\").fillna(\"N/A\")\n",
    "\n",
    "# Reordering and renaming columns for interactions\n",
    "interactions = interactions[ list( interactions_col_mapping.keys() ) ]\n",
    "interactions = interactions.rename( columns=interactions_col_mapping )\n",
    "\n",
    "# Expanding the interaction value column into separate columns\n",
    "intxn_value_expanded = pd.json_normalize( interactions['intxn_value'] )\n",
    "\n",
    "# https://pandas.pydata.org/docs/reference/api/pandas.DataFrame.combine_first.html\n",
    "# Coalescing the two offer id columns into one since one of them has a space in the name\n",
    "intxn_value_expanded['offer_id'] = intxn_value_expanded['offer_id'].combine_first( intxn_value_expanded['offer id'] )\n",
    "intxn_value_expanded = intxn_value_expanded.drop(columns=['offer id'])\n",
    "intxn_value_expanded = intxn_value_expanded.rename( columns={ col: f'intxn_{col}' for col in intxn_value_expanded.columns.tolist() if col != 'offer_id' } )\n",
    "\n",
    "# Adding the expanded interaction value columns back into the interactions dataframe\n",
    "interactions = pd.concat([interactions, intxn_value_expanded], axis=1)\n",
    "interactions = interactions.drop(columns=['intxn_value'])\n",
    "\n",
    "# Renaming the columns for the interactions dataframe\n",
    "interactions_cols = ['user_id', 'offer_id']\n",
    "interactions_cols += [ col for col in interactions.columns if col.startswith('intxn_') ]\n",
    "interactions = interactions[ interactions_cols ]"
   ]
  },
  {
   "cell_type": "markdown",
   "id": "220837c4",
   "metadata": {},
   "source": [
    "# Loading into Database"
   ]
  },
  {
   "cell_type": "code",
   "execution_count": null,
   "id": "ca4938af",
   "metadata": {},
   "outputs": [
    {
     "data": {
      "text/plain": [
       "306534"
      ]
     },
     "execution_count": 6,
     "metadata": {},
     "output_type": "execute_result"
    }
   ],
   "source": [
    "conn = create_engine('sqlite:///data/starbucks_data.db')\n",
    "\n",
    "offers.to_sql('offers', conn, if_exists='replace', index=False)\n",
    "users.to_sql('users', conn, if_exists='replace', index=False)\n",
    "interactions.to_sql('interactions', conn, if_exists='replace', index=False)\n",
    "\n",
    "print(\"Data loaded into SQLite database successfully.\")"
   ]
  }
 ],
 "metadata": {
  "kernelspec": {
   "display_name": ".venv",
   "language": "python",
   "name": "python3"
  },
  "language_info": {
   "codemirror_mode": {
    "name": "ipython",
    "version": 3
   },
   "file_extension": ".py",
   "mimetype": "text/x-python",
   "name": "python",
   "nbconvert_exporter": "python",
   "pygments_lexer": "ipython3",
   "version": "3.13.3"
  }
 },
 "nbformat": 4,
 "nbformat_minor": 5
}
