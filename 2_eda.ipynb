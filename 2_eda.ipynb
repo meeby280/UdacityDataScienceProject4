{
 "cells": [
  {
   "cell_type": "markdown",
   "id": "4e723b62",
   "metadata": {},
   "source": [
    "# Information\n",
    "\n",
    "This notebook was primarily used for initial data analysis of the Starbucks data."
   ]
  },
  {
   "cell_type": "code",
   "execution_count": 54,
   "id": "99618e43",
   "metadata": {},
   "outputs": [],
   "source": [
    "import pandas as pd\n",
    "import numpy as np\n",
    "\n",
    "from functools import reduce\n",
    "\n",
    "from sqlalchemy import create_engine\n",
    "\n",
    "from datetime import date\n",
    "\n",
    "import matplotlib.pyplot as plt\n",
    "import seaborn as sns"
   ]
  },
  {
   "cell_type": "markdown",
   "id": "19775e53",
   "metadata": {},
   "source": [
    "# Loading raw data"
   ]
  },
  {
   "cell_type": "code",
   "execution_count": 55,
   "id": "38faec2a",
   "metadata": {},
   "outputs": [],
   "source": [
    "offers = pd.read_json('data/portfolio.json', orient='records', lines=True)\n",
    "users = pd.read_json('data/profile.json', orient='records', lines=True)\n",
    "interactions = pd.read_json('data/transcript.json', orient='records', lines=True)"
   ]
  },
  {
   "cell_type": "code",
   "execution_count": 56,
   "id": "c563ff9a",
   "metadata": {},
   "outputs": [
    {
     "data": {
      "application/vnd.microsoft.datawrangler.viewer.v0+json": {
       "columns": [
        {
         "name": "index",
         "rawType": "int64",
         "type": "integer"
        },
        {
         "name": "reward",
         "rawType": "int64",
         "type": "integer"
        },
        {
         "name": "channels",
         "rawType": "object",
         "type": "unknown"
        },
        {
         "name": "difficulty",
         "rawType": "int64",
         "type": "integer"
        },
        {
         "name": "duration",
         "rawType": "int64",
         "type": "integer"
        },
        {
         "name": "offer_type",
         "rawType": "object",
         "type": "string"
        },
        {
         "name": "id",
         "rawType": "object",
         "type": "string"
        }
       ],
       "conversionMethod": "pd.DataFrame",
       "ref": "2c3d65a5-df47-47c7-a459-d6cb100fda3e",
       "rows": [
        [
         "0",
         "10",
         "['email', 'mobile', 'social']",
         "10",
         "7",
         "bogo",
         "ae264e3637204a6fb9bb56bc8210ddfd"
        ],
        [
         "1",
         "10",
         "['web', 'email', 'mobile', 'social']",
         "10",
         "5",
         "bogo",
         "4d5c57ea9a6940dd891ad53e9dbe8da0"
        ],
        [
         "2",
         "0",
         "['web', 'email', 'mobile']",
         "0",
         "4",
         "informational",
         "3f207df678b143eea3cee63160fa8bed"
        ],
        [
         "3",
         "5",
         "['web', 'email', 'mobile']",
         "5",
         "7",
         "bogo",
         "9b98b8c7a33c4b65b9aebfe6a799e6d9"
        ],
        [
         "4",
         "5",
         "['web', 'email']",
         "20",
         "10",
         "discount",
         "0b1e1539f2cc45b7b9fa7c272da2e1d7"
        ],
        [
         "5",
         "3",
         "['web', 'email', 'mobile', 'social']",
         "7",
         "7",
         "discount",
         "2298d6c36e964ae4a3e7e9706d1fb8c2"
        ],
        [
         "6",
         "2",
         "['web', 'email', 'mobile', 'social']",
         "10",
         "10",
         "discount",
         "fafdcd668e3743c1bb461111dcafc2a4"
        ],
        [
         "7",
         "0",
         "['email', 'mobile', 'social']",
         "0",
         "3",
         "informational",
         "5a8bc65990b245e5a138643cd4eb9837"
        ],
        [
         "8",
         "5",
         "['web', 'email', 'mobile', 'social']",
         "5",
         "5",
         "bogo",
         "f19421c1d4aa40978ebb69ca19b0e20d"
        ],
        [
         "9",
         "2",
         "['web', 'email', 'mobile']",
         "10",
         "7",
         "discount",
         "2906b810c7d4411798c6938adc9daaa5"
        ]
       ],
       "shape": {
        "columns": 6,
        "rows": 10
       }
      },
      "text/html": [
       "<div>\n",
       "<style scoped>\n",
       "    .dataframe tbody tr th:only-of-type {\n",
       "        vertical-align: middle;\n",
       "    }\n",
       "\n",
       "    .dataframe tbody tr th {\n",
       "        vertical-align: top;\n",
       "    }\n",
       "\n",
       "    .dataframe thead th {\n",
       "        text-align: right;\n",
       "    }\n",
       "</style>\n",
       "<table border=\"1\" class=\"dataframe\">\n",
       "  <thead>\n",
       "    <tr style=\"text-align: right;\">\n",
       "      <th></th>\n",
       "      <th>reward</th>\n",
       "      <th>channels</th>\n",
       "      <th>difficulty</th>\n",
       "      <th>duration</th>\n",
       "      <th>offer_type</th>\n",
       "      <th>id</th>\n",
       "    </tr>\n",
       "  </thead>\n",
       "  <tbody>\n",
       "    <tr>\n",
       "      <th>0</th>\n",
       "      <td>10</td>\n",
       "      <td>[email, mobile, social]</td>\n",
       "      <td>10</td>\n",
       "      <td>7</td>\n",
       "      <td>bogo</td>\n",
       "      <td>ae264e3637204a6fb9bb56bc8210ddfd</td>\n",
       "    </tr>\n",
       "    <tr>\n",
       "      <th>1</th>\n",
       "      <td>10</td>\n",
       "      <td>[web, email, mobile, social]</td>\n",
       "      <td>10</td>\n",
       "      <td>5</td>\n",
       "      <td>bogo</td>\n",
       "      <td>4d5c57ea9a6940dd891ad53e9dbe8da0</td>\n",
       "    </tr>\n",
       "    <tr>\n",
       "      <th>2</th>\n",
       "      <td>0</td>\n",
       "      <td>[web, email, mobile]</td>\n",
       "      <td>0</td>\n",
       "      <td>4</td>\n",
       "      <td>informational</td>\n",
       "      <td>3f207df678b143eea3cee63160fa8bed</td>\n",
       "    </tr>\n",
       "    <tr>\n",
       "      <th>3</th>\n",
       "      <td>5</td>\n",
       "      <td>[web, email, mobile]</td>\n",
       "      <td>5</td>\n",
       "      <td>7</td>\n",
       "      <td>bogo</td>\n",
       "      <td>9b98b8c7a33c4b65b9aebfe6a799e6d9</td>\n",
       "    </tr>\n",
       "    <tr>\n",
       "      <th>4</th>\n",
       "      <td>5</td>\n",
       "      <td>[web, email]</td>\n",
       "      <td>20</td>\n",
       "      <td>10</td>\n",
       "      <td>discount</td>\n",
       "      <td>0b1e1539f2cc45b7b9fa7c272da2e1d7</td>\n",
       "    </tr>\n",
       "    <tr>\n",
       "      <th>5</th>\n",
       "      <td>3</td>\n",
       "      <td>[web, email, mobile, social]</td>\n",
       "      <td>7</td>\n",
       "      <td>7</td>\n",
       "      <td>discount</td>\n",
       "      <td>2298d6c36e964ae4a3e7e9706d1fb8c2</td>\n",
       "    </tr>\n",
       "    <tr>\n",
       "      <th>6</th>\n",
       "      <td>2</td>\n",
       "      <td>[web, email, mobile, social]</td>\n",
       "      <td>10</td>\n",
       "      <td>10</td>\n",
       "      <td>discount</td>\n",
       "      <td>fafdcd668e3743c1bb461111dcafc2a4</td>\n",
       "    </tr>\n",
       "    <tr>\n",
       "      <th>7</th>\n",
       "      <td>0</td>\n",
       "      <td>[email, mobile, social]</td>\n",
       "      <td>0</td>\n",
       "      <td>3</td>\n",
       "      <td>informational</td>\n",
       "      <td>5a8bc65990b245e5a138643cd4eb9837</td>\n",
       "    </tr>\n",
       "    <tr>\n",
       "      <th>8</th>\n",
       "      <td>5</td>\n",
       "      <td>[web, email, mobile, social]</td>\n",
       "      <td>5</td>\n",
       "      <td>5</td>\n",
       "      <td>bogo</td>\n",
       "      <td>f19421c1d4aa40978ebb69ca19b0e20d</td>\n",
       "    </tr>\n",
       "    <tr>\n",
       "      <th>9</th>\n",
       "      <td>2</td>\n",
       "      <td>[web, email, mobile]</td>\n",
       "      <td>10</td>\n",
       "      <td>7</td>\n",
       "      <td>discount</td>\n",
       "      <td>2906b810c7d4411798c6938adc9daaa5</td>\n",
       "    </tr>\n",
       "  </tbody>\n",
       "</table>\n",
       "</div>"
      ],
      "text/plain": [
       "   reward                      channels  difficulty  duration     offer_type  \\\n",
       "0      10       [email, mobile, social]          10         7           bogo   \n",
       "1      10  [web, email, mobile, social]          10         5           bogo   \n",
       "2       0          [web, email, mobile]           0         4  informational   \n",
       "3       5          [web, email, mobile]           5         7           bogo   \n",
       "4       5                  [web, email]          20        10       discount   \n",
       "5       3  [web, email, mobile, social]           7         7       discount   \n",
       "6       2  [web, email, mobile, social]          10        10       discount   \n",
       "7       0       [email, mobile, social]           0         3  informational   \n",
       "8       5  [web, email, mobile, social]           5         5           bogo   \n",
       "9       2          [web, email, mobile]          10         7       discount   \n",
       "\n",
       "                                 id  \n",
       "0  ae264e3637204a6fb9bb56bc8210ddfd  \n",
       "1  4d5c57ea9a6940dd891ad53e9dbe8da0  \n",
       "2  3f207df678b143eea3cee63160fa8bed  \n",
       "3  9b98b8c7a33c4b65b9aebfe6a799e6d9  \n",
       "4  0b1e1539f2cc45b7b9fa7c272da2e1d7  \n",
       "5  2298d6c36e964ae4a3e7e9706d1fb8c2  \n",
       "6  fafdcd668e3743c1bb461111dcafc2a4  \n",
       "7  5a8bc65990b245e5a138643cd4eb9837  \n",
       "8  f19421c1d4aa40978ebb69ca19b0e20d  \n",
       "9  2906b810c7d4411798c6938adc9daaa5  "
      ]
     },
     "execution_count": 56,
     "metadata": {},
     "output_type": "execute_result"
    }
   ],
   "source": [
    "offers"
   ]
  },
  {
   "cell_type": "code",
   "execution_count": 57,
   "id": "50f42292",
   "metadata": {},
   "outputs": [
    {
     "data": {
      "application/vnd.microsoft.datawrangler.viewer.v0+json": {
       "columns": [
        {
         "name": "reward",
         "rawType": "int64",
         "type": "integer"
        },
        {
         "name": "count",
         "rawType": "int64",
         "type": "integer"
        }
       ],
       "conversionMethod": "pd.DataFrame",
       "ref": "1d6bdff0-2a8d-43d9-847c-5d853fad72ae",
       "rows": [
        [
         "0",
         "2"
        ],
        [
         "2",
         "2"
        ],
        [
         "3",
         "1"
        ],
        [
         "5",
         "3"
        ],
        [
         "10",
         "2"
        ]
       ],
       "shape": {
        "columns": 1,
        "rows": 5
       }
      },
      "text/html": [
       "<div>\n",
       "<style scoped>\n",
       "    .dataframe tbody tr th:only-of-type {\n",
       "        vertical-align: middle;\n",
       "    }\n",
       "\n",
       "    .dataframe tbody tr th {\n",
       "        vertical-align: top;\n",
       "    }\n",
       "\n",
       "    .dataframe thead th {\n",
       "        text-align: right;\n",
       "    }\n",
       "</style>\n",
       "<table border=\"1\" class=\"dataframe\">\n",
       "  <thead>\n",
       "    <tr style=\"text-align: right;\">\n",
       "      <th></th>\n",
       "      <th>count</th>\n",
       "    </tr>\n",
       "    <tr>\n",
       "      <th>reward</th>\n",
       "      <th></th>\n",
       "    </tr>\n",
       "  </thead>\n",
       "  <tbody>\n",
       "    <tr>\n",
       "      <th>0</th>\n",
       "      <td>2</td>\n",
       "    </tr>\n",
       "    <tr>\n",
       "      <th>2</th>\n",
       "      <td>2</td>\n",
       "    </tr>\n",
       "    <tr>\n",
       "      <th>3</th>\n",
       "      <td>1</td>\n",
       "    </tr>\n",
       "    <tr>\n",
       "      <th>5</th>\n",
       "      <td>3</td>\n",
       "    </tr>\n",
       "    <tr>\n",
       "      <th>10</th>\n",
       "      <td>2</td>\n",
       "    </tr>\n",
       "  </tbody>\n",
       "</table>\n",
       "</div>"
      ],
      "text/plain": [
       "        count\n",
       "reward       \n",
       "0           2\n",
       "2           2\n",
       "3           1\n",
       "5           3\n",
       "10          2"
      ]
     },
     "metadata": {},
     "output_type": "display_data"
    },
    {
     "data": {
      "application/vnd.microsoft.datawrangler.viewer.v0+json": {
       "columns": [
        {
         "name": "difficulty",
         "rawType": "int64",
         "type": "integer"
        },
        {
         "name": "count",
         "rawType": "int64",
         "type": "integer"
        }
       ],
       "conversionMethod": "pd.DataFrame",
       "ref": "807cc18f-9e17-4abb-893a-a37cf2832e4f",
       "rows": [
        [
         "0",
         "2"
        ],
        [
         "5",
         "2"
        ],
        [
         "7",
         "1"
        ],
        [
         "10",
         "4"
        ],
        [
         "20",
         "1"
        ]
       ],
       "shape": {
        "columns": 1,
        "rows": 5
       }
      },
      "text/html": [
       "<div>\n",
       "<style scoped>\n",
       "    .dataframe tbody tr th:only-of-type {\n",
       "        vertical-align: middle;\n",
       "    }\n",
       "\n",
       "    .dataframe tbody tr th {\n",
       "        vertical-align: top;\n",
       "    }\n",
       "\n",
       "    .dataframe thead th {\n",
       "        text-align: right;\n",
       "    }\n",
       "</style>\n",
       "<table border=\"1\" class=\"dataframe\">\n",
       "  <thead>\n",
       "    <tr style=\"text-align: right;\">\n",
       "      <th></th>\n",
       "      <th>count</th>\n",
       "    </tr>\n",
       "    <tr>\n",
       "      <th>difficulty</th>\n",
       "      <th></th>\n",
       "    </tr>\n",
       "  </thead>\n",
       "  <tbody>\n",
       "    <tr>\n",
       "      <th>0</th>\n",
       "      <td>2</td>\n",
       "    </tr>\n",
       "    <tr>\n",
       "      <th>5</th>\n",
       "      <td>2</td>\n",
       "    </tr>\n",
       "    <tr>\n",
       "      <th>7</th>\n",
       "      <td>1</td>\n",
       "    </tr>\n",
       "    <tr>\n",
       "      <th>10</th>\n",
       "      <td>4</td>\n",
       "    </tr>\n",
       "    <tr>\n",
       "      <th>20</th>\n",
       "      <td>1</td>\n",
       "    </tr>\n",
       "  </tbody>\n",
       "</table>\n",
       "</div>"
      ],
      "text/plain": [
       "            count\n",
       "difficulty       \n",
       "0               2\n",
       "5               2\n",
       "7               1\n",
       "10              4\n",
       "20              1"
      ]
     },
     "metadata": {},
     "output_type": "display_data"
    },
    {
     "data": {
      "application/vnd.microsoft.datawrangler.viewer.v0+json": {
       "columns": [
        {
         "name": "duration",
         "rawType": "int64",
         "type": "integer"
        },
        {
         "name": "count",
         "rawType": "int64",
         "type": "integer"
        }
       ],
       "conversionMethod": "pd.DataFrame",
       "ref": "a2b17ba4-90c6-4f92-8a11-58b981e7d491",
       "rows": [
        [
         "3",
         "1"
        ],
        [
         "4",
         "1"
        ],
        [
         "5",
         "2"
        ],
        [
         "7",
         "4"
        ],
        [
         "10",
         "2"
        ]
       ],
       "shape": {
        "columns": 1,
        "rows": 5
       }
      },
      "text/html": [
       "<div>\n",
       "<style scoped>\n",
       "    .dataframe tbody tr th:only-of-type {\n",
       "        vertical-align: middle;\n",
       "    }\n",
       "\n",
       "    .dataframe tbody tr th {\n",
       "        vertical-align: top;\n",
       "    }\n",
       "\n",
       "    .dataframe thead th {\n",
       "        text-align: right;\n",
       "    }\n",
       "</style>\n",
       "<table border=\"1\" class=\"dataframe\">\n",
       "  <thead>\n",
       "    <tr style=\"text-align: right;\">\n",
       "      <th></th>\n",
       "      <th>count</th>\n",
       "    </tr>\n",
       "    <tr>\n",
       "      <th>duration</th>\n",
       "      <th></th>\n",
       "    </tr>\n",
       "  </thead>\n",
       "  <tbody>\n",
       "    <tr>\n",
       "      <th>3</th>\n",
       "      <td>1</td>\n",
       "    </tr>\n",
       "    <tr>\n",
       "      <th>4</th>\n",
       "      <td>1</td>\n",
       "    </tr>\n",
       "    <tr>\n",
       "      <th>5</th>\n",
       "      <td>2</td>\n",
       "    </tr>\n",
       "    <tr>\n",
       "      <th>7</th>\n",
       "      <td>4</td>\n",
       "    </tr>\n",
       "    <tr>\n",
       "      <th>10</th>\n",
       "      <td>2</td>\n",
       "    </tr>\n",
       "  </tbody>\n",
       "</table>\n",
       "</div>"
      ],
      "text/plain": [
       "          count\n",
       "duration       \n",
       "3             1\n",
       "4             1\n",
       "5             2\n",
       "7             4\n",
       "10            2"
      ]
     },
     "metadata": {},
     "output_type": "display_data"
    },
    {
     "data": {
      "application/vnd.microsoft.datawrangler.viewer.v0+json": {
       "columns": [
        {
         "name": "offer_type",
         "rawType": "object",
         "type": "string"
        },
        {
         "name": "count",
         "rawType": "int64",
         "type": "integer"
        }
       ],
       "conversionMethod": "pd.DataFrame",
       "ref": "f6dc197b-93c6-47b6-97da-5f041113fac5",
       "rows": [
        [
         "bogo",
         "4"
        ],
        [
         "discount",
         "4"
        ],
        [
         "informational",
         "2"
        ]
       ],
       "shape": {
        "columns": 1,
        "rows": 3
       }
      },
      "text/html": [
       "<div>\n",
       "<style scoped>\n",
       "    .dataframe tbody tr th:only-of-type {\n",
       "        vertical-align: middle;\n",
       "    }\n",
       "\n",
       "    .dataframe tbody tr th {\n",
       "        vertical-align: top;\n",
       "    }\n",
       "\n",
       "    .dataframe thead th {\n",
       "        text-align: right;\n",
       "    }\n",
       "</style>\n",
       "<table border=\"1\" class=\"dataframe\">\n",
       "  <thead>\n",
       "    <tr style=\"text-align: right;\">\n",
       "      <th></th>\n",
       "      <th>count</th>\n",
       "    </tr>\n",
       "    <tr>\n",
       "      <th>offer_type</th>\n",
       "      <th></th>\n",
       "    </tr>\n",
       "  </thead>\n",
       "  <tbody>\n",
       "    <tr>\n",
       "      <th>bogo</th>\n",
       "      <td>4</td>\n",
       "    </tr>\n",
       "    <tr>\n",
       "      <th>discount</th>\n",
       "      <td>4</td>\n",
       "    </tr>\n",
       "    <tr>\n",
       "      <th>informational</th>\n",
       "      <td>2</td>\n",
       "    </tr>\n",
       "  </tbody>\n",
       "</table>\n",
       "</div>"
      ],
      "text/plain": [
       "               count\n",
       "offer_type          \n",
       "bogo               4\n",
       "discount           4\n",
       "informational      2"
      ]
     },
     "metadata": {},
     "output_type": "display_data"
    }
   ],
   "source": [
    "# Getting basic counts for the columns\n",
    "for cn in offers.columns:\n",
    "    if cn not in ['id', 'channels']:\n",
    "        display( offers.groupby(cn).agg( count=('id', 'count') ) )"
   ]
  },
  {
   "cell_type": "code",
   "execution_count": 58,
   "id": "4ec1c616",
   "metadata": {},
   "outputs": [
    {
     "data": {
      "image/png": "[encoded data removed]",
      "text/plain": [
       "<Figure size 640x480 with 1 Axes>"
      ]
     },
     "metadata": {},
     "output_type": "display_data"
    },
    {
     "data": {
      "image/png": "[encoded data removed]",
      "text/plain": [
       "<Figure size 640x480 with 1 Axes>"
      ]
     },
     "metadata": {},
     "output_type": "display_data"
    },
    {
     "data": {
      "image/png": "[encoded data removed]",
      "text/plain": [
       "<Figure size 640x480 with 1 Axes>"
      ]
     },
     "metadata": {},
     "output_type": "display_data"
    },
    {
     "data": {
      "image/png": "[encoded data removed]",
      "text/plain": [
       "<Figure size 640x480 with 1 Axes>"
      ]
     },
     "metadata": {},
     "output_type": "display_data"
    }
   ],
   "source": [
    "# creating pie charts for the user information\n",
    "for cn in offers.columns:\n",
    "    if cn not in ['id', 'channels']:\n",
    "        agg_count = offers.groupby(cn, observed=False, dropna=False).agg( count=('id', 'count') ).reset_index()\n",
    "\n",
    "        fig, ax = plt.subplots()\n",
    "        fig.suptitle(f'Offers by {cn}')\n",
    "        ax.pie(agg_count['count'], labels=agg_count[cn], autopct='%1.1f%%' )\n",
    "\n",
    "        plt.savefig(f\"docs/images/offers_{cn}.png\", bbox_inches='tight')"
   ]
  },
  {
   "cell_type": "code",
   "execution_count": 59,
   "id": "662d0d89",
   "metadata": {},
   "outputs": [
    {
     "data": {
      "application/vnd.microsoft.datawrangler.viewer.v0+json": {
       "columns": [
        {
         "name": "index",
         "rawType": "int64",
         "type": "integer"
        },
        {
         "name": "offer_type",
         "rawType": "object",
         "type": "string"
        },
        {
         "name": "reward",
         "rawType": "int64",
         "type": "integer"
        },
        {
         "name": "difficulty",
         "rawType": "int64",
         "type": "integer"
        },
        {
         "name": "count",
         "rawType": "int64",
         "type": "integer"
        }
       ],
       "conversionMethod": "pd.DataFrame",
       "ref": "856a0ccf-15cc-45d9-b2ea-d929c32a38ae",
       "rows": [
        [
         "0",
         "bogo",
         "5",
         "5",
         "2"
        ],
        [
         "1",
         "bogo",
         "10",
         "10",
         "2"
        ],
        [
         "2",
         "discount",
         "2",
         "10",
         "2"
        ],
        [
         "3",
         "discount",
         "3",
         "7",
         "1"
        ],
        [
         "4",
         "discount",
         "5",
         "20",
         "1"
        ],
        [
         "5",
         "informational",
         "0",
         "0",
         "2"
        ]
       ],
       "shape": {
        "columns": 4,
        "rows": 6
       }
      },
      "text/html": [
       "<div>\n",
       "<style scoped>\n",
       "    .dataframe tbody tr th:only-of-type {\n",
       "        vertical-align: middle;\n",
       "    }\n",
       "\n",
       "    .dataframe tbody tr th {\n",
       "        vertical-align: top;\n",
       "    }\n",
       "\n",
       "    .dataframe thead th {\n",
       "        text-align: right;\n",
       "    }\n",
       "</style>\n",
       "<table border=\"1\" class=\"dataframe\">\n",
       "  <thead>\n",
       "    <tr style=\"text-align: right;\">\n",
       "      <th></th>\n",
       "      <th>offer_type</th>\n",
       "      <th>reward</th>\n",
       "      <th>difficulty</th>\n",
       "      <th>count</th>\n",
       "    </tr>\n",
       "  </thead>\n",
       "  <tbody>\n",
       "    <tr>\n",
       "      <th>0</th>\n",
       "      <td>bogo</td>\n",
       "      <td>5</td>\n",
       "      <td>5</td>\n",
       "      <td>2</td>\n",
       "    </tr>\n",
       "    <tr>\n",
       "      <th>1</th>\n",
       "      <td>bogo</td>\n",
       "      <td>10</td>\n",
       "      <td>10</td>\n",
       "      <td>2</td>\n",
       "    </tr>\n",
       "    <tr>\n",
       "      <th>2</th>\n",
       "      <td>discount</td>\n",
       "      <td>2</td>\n",
       "      <td>10</td>\n",
       "      <td>2</td>\n",
       "    </tr>\n",
       "    <tr>\n",
       "      <th>3</th>\n",
       "      <td>discount</td>\n",
       "      <td>3</td>\n",
       "      <td>7</td>\n",
       "      <td>1</td>\n",
       "    </tr>\n",
       "    <tr>\n",
       "      <th>4</th>\n",
       "      <td>discount</td>\n",
       "      <td>5</td>\n",
       "      <td>20</td>\n",
       "      <td>1</td>\n",
       "    </tr>\n",
       "    <tr>\n",
       "      <th>5</th>\n",
       "      <td>informational</td>\n",
       "      <td>0</td>\n",
       "      <td>0</td>\n",
       "      <td>2</td>\n",
       "    </tr>\n",
       "  </tbody>\n",
       "</table>\n",
       "</div>"
      ],
      "text/plain": [
       "      offer_type  reward  difficulty  count\n",
       "0           bogo       5           5      2\n",
       "1           bogo      10          10      2\n",
       "2       discount       2          10      2\n",
       "3       discount       3           7      1\n",
       "4       discount       5          20      1\n",
       "5  informational       0           0      2"
      ]
     },
     "execution_count": 59,
     "metadata": {},
     "output_type": "execute_result"
    }
   ],
   "source": [
    "offers.groupby( ['offer_type', 'reward', 'difficulty'] ).agg( count=('id', 'count') ).reset_index()"
   ]
  },
  {
   "cell_type": "markdown",
   "id": "d688f6e8",
   "metadata": {},
   "source": [
    "# Users"
   ]
  },
  {
   "cell_type": "code",
   "execution_count": 60,
   "id": "7a2d7265",
   "metadata": {},
   "outputs": [
    {
     "data": {
      "application/vnd.microsoft.datawrangler.viewer.v0+json": {
       "columns": [
        {
         "name": "index",
         "rawType": "int64",
         "type": "integer"
        },
        {
         "name": "gender",
         "rawType": "object",
         "type": "unknown"
        },
        {
         "name": "age",
         "rawType": "int64",
         "type": "integer"
        },
        {
         "name": "id",
         "rawType": "object",
         "type": "string"
        },
        {
         "name": "became_member_on",
         "rawType": "int64",
         "type": "integer"
        },
        {
         "name": "income",
         "rawType": "float64",
         "type": "float"
        }
       ],
       "conversionMethod": "pd.DataFrame",
       "ref": "cd0cabb5-4e78-4394-abbe-6aca8455a197",
       "rows": [
        [
         "0",
         null,
         "118",
         "68be06ca386d4c31939f3a4f0e3dd783",
         "20170212",
         null
        ],
        [
         "1",
         "F",
         "55",
         "0610b486422d4921ae7d2bf64640c50b",
         "20170715",
         "112000.0"
        ],
        [
         "2",
         null,
         "118",
         "38fe809add3b4fcf9315a9694bb96ff5",
         "20180712",
         null
        ],
        [
         "3",
         "F",
         "75",
         "78afa995795e4d85b5d9ceeca43f5fef",
         "20170509",
         "100000.0"
        ],
        [
         "4",
         null,
         "118",
         "a03223e636434f42ac4c3df47e8bac43",
         "20170804",
         null
        ],
        [
         "5",
         "M",
         "68",
         "e2127556f4f64592b11af22de27a7932",
         "20180426",
         "70000.0"
        ],
        [
         "6",
         null,
         "118",
         "8ec6ce2a7e7949b1bf142def7d0e0586",
         "20170925",
         null
        ],
        [
         "7",
         null,
         "118",
         "68617ca6246f4fbc85e91a2a49552598",
         "20171002",
         null
        ],
        [
         "8",
         "M",
         "65",
         "389bc3fa690240e798340f5a15918d5c",
         "20180209",
         "53000.0"
        ],
        [
         "9",
         null,
         "118",
         "8974fc5686fe429db53ddde067b88302",
         "20161122",
         null
        ],
        [
         "10",
         null,
         "118",
         "c4863c7985cf408faee930f111475da3",
         "20170824",
         null
        ],
        [
         "11",
         null,
         "118",
         "148adfcaa27d485b82f323aaaad036bd",
         "20150919",
         null
        ],
        [
         "12",
         "M",
         "58",
         "2eeac8d8feae4a8cad5a6af0499a211d",
         "20171111",
         "51000.0"
        ],
        [
         "13",
         "F",
         "61",
         "aa4862eba776480b8bb9c68455b8c2e1",
         "20170911",
         "57000.0"
        ],
        [
         "14",
         "M",
         "26",
         "e12aeaf2d47d42479ea1c4ac3d8286c6",
         "20140213",
         "46000.0"
        ],
        [
         "15",
         "F",
         "62",
         "31dda685af34476cad5bc968bdb01c53",
         "20160211",
         "71000.0"
        ],
        [
         "16",
         "M",
         "49",
         "62cf5e10845442329191fc246e7bcea3",
         "20141113",
         "52000.0"
        ],
        [
         "17",
         null,
         "118",
         "744d603ef08c4f33af5a61c8c7628d1c",
         "20170801",
         null
        ],
        [
         "18",
         "M",
         "57",
         "6445de3b47274c759400cd68131d91b4",
         "20171231",
         "42000.0"
        ],
        [
         "19",
         "F",
         "61",
         "a448667f336b42c9a66fc5ffd5d73772",
         "20180501",
         "40000.0"
        ],
        [
         "20",
         "F",
         "40",
         "440cf1fd7580490c971d8c651ed962af",
         "20160504",
         "71000.0"
        ],
        [
         "21",
         "M",
         "64",
         "4b0da7e80e5945209a1fdddfe813dbe0",
         "20170909",
         "100000.0"
        ],
        [
         "22",
         "F",
         "78",
         "c27e0d6ab72c455a8bb66d980963de60",
         "20170616",
         "71000.0"
        ],
        [
         "23",
         null,
         "118",
         "2b826eba31074a059d63b0ae8f50b7d5",
         "20170907",
         null
        ],
        [
         "24",
         "M",
         "42",
         "f806632c011441378d4646567f357a21",
         "20130811",
         "69000.0"
        ],
        [
         "25",
         "F",
         "56",
         "d058f73bf8674a26a95227db098147b1",
         "20180428",
         "88000.0"
        ],
        [
         "26",
         null,
         "118",
         "65aba5c617294649aeb624da249e1ee5",
         "20170330",
         null
        ],
        [
         "27",
         "F",
         "33",
         "c6c9884912c645429f3333f912b55f44",
         "20170926",
         "52000.0"
        ],
        [
         "28",
         "F",
         "46",
         "7429a044884842d6862f516c38b1156f",
         "20170911",
         "59000.0"
        ],
        [
         "29",
         "M",
         "59",
         "ebe7ef46ea6f4963a7dd49f501b26779",
         "20150121",
         "41000.0"
        ],
        [
         "30",
         "M",
         "67",
         "5917d13f6fa04286abdf95f4d5cefb1e",
         "20140823",
         "96000.0"
        ],
        [
         "31",
         "O",
         "53",
         "d1ede868e29245ea91818a903fec04c6",
         "20170916",
         "52000.0"
        ],
        [
         "32",
         "M",
         "22",
         "1e9420836d554513ab90eba98552d0a9",
         "20170925",
         "70000.0"
        ],
        [
         "33",
         "F",
         "96",
         "868317b9be554cb18e50bc68484749a2",
         "20171117",
         "89000.0"
        ],
        [
         "34",
         "M",
         "40",
         "f082d80f0aac47a99173ba8ef8fc1909",
         "20160709",
         "33000.0"
        ],
        [
         "35",
         "F",
         "69",
         "102e9454054946fda62242d2e176fdce",
         "20160814",
         "57000.0"
        ],
        [
         "36",
         null,
         "118",
         "4beeb3ed64dd4898b0edf2f6b67426d3",
         "20160707",
         null
        ],
        [
         "37",
         "M",
         "56",
         "8dabe2142cdf4013a6f4786edf8ab00f",
         "20140511",
         "68000.0"
        ],
        [
         "38",
         "F",
         "26",
         "9f30b375d7bd4c62a884ffe7034e09ee",
         "20170812",
         "63000.0"
        ],
        [
         "39",
         null,
         "118",
         "25c906289d154b66bf579693f89481c9",
         "20180113",
         null
        ],
        [
         "40",
         "M",
         "75",
         "6e014185620b49bd98749f728747572f",
         "20151112",
         "40000.0"
        ],
        [
         "41",
         "F",
         "20",
         "02c083884c7d45b39cc68e1314fec56c",
         "20160711",
         "30000.0"
        ],
        [
         "42",
         "M",
         "45",
         "c0d210398dee4a0895b24444a5fcd1d2",
         "20180707",
         "33000.0"
        ],
        [
         "43",
         "M",
         "61",
         "8b70ca1f5f5a45bdac2ac2f990b71526",
         "20171121",
         "98000.0"
        ],
        [
         "44",
         null,
         "118",
         "5b8f1f0e0930464f93bb55e59b5a04e0",
         "20141111",
         null
        ],
        [
         "45",
         null,
         "118",
         "8be4463721e14d7fa600686bf8c8b2ed",
         "20170511",
         null
        ],
        [
         "46",
         "F",
         "69",
         "8e7c7465e98c43d8a01f51e2b5c29542",
         "20130918",
         "37000.0"
        ],
        [
         "47",
         "F",
         "54",
         "57dd18ec5ddc46828afb81ec5977bef2",
         "20170207",
         "80000.0"
        ],
        [
         "48",
         "M",
         "39",
         "be8a5d1981a2458d90b255ddc7e0d174",
         "20140527",
         "51000.0"
        ],
        [
         "49",
         "F",
         "41",
         "3f89b8f80ebc4f94b7074f28071aa8d4",
         "20150921",
         "41000.0"
        ]
       ],
       "shape": {
        "columns": 5,
        "rows": 17000
       }
      },
      "text/html": [
       "<div>\n",
       "<style scoped>\n",
       "    .dataframe tbody tr th:only-of-type {\n",
       "        vertical-align: middle;\n",
       "    }\n",
       "\n",
       "    .dataframe tbody tr th {\n",
       "        vertical-align: top;\n",
       "    }\n",
       "\n",
       "    .dataframe thead th {\n",
       "        text-align: right;\n",
       "    }\n",
       "</style>\n",
       "<table border=\"1\" class=\"dataframe\">\n",
       "  <thead>\n",
       "    <tr style=\"text-align: right;\">\n",
       "      <th></th>\n",
       "      <th>gender</th>\n",
       "      <th>age</th>\n",
       "      <th>id</th>\n",
       "      <th>became_member_on</th>\n",
       "      <th>income</th>\n",
       "    </tr>\n",
       "  </thead>\n",
       "  <tbody>\n",
       "    <tr>\n",
       "      <th>0</th>\n",
       "      <td>None</td>\n",
       "      <td>118</td>\n",
       "      <td>68be06ca386d4c31939f3a4f0e3dd783</td>\n",
       "      <td>20170212</td>\n",
       "      <td>NaN</td>\n",
       "    </tr>\n",
       "    <tr>\n",
       "      <th>1</th>\n",
       "      <td>F</td>\n",
       "      <td>55</td>\n",
       "      <td>0610b486422d4921ae7d2bf64640c50b</td>\n",
       "      <td>20170715</td>\n",
       "      <td>112000.0</td>\n",
       "    </tr>\n",
       "    <tr>\n",
       "      <th>2</th>\n",
       "      <td>None</td>\n",
       "      <td>118</td>\n",
       "      <td>38fe809add3b4fcf9315a9694bb96ff5</td>\n",
       "      <td>20180712</td>\n",
       "      <td>NaN</td>\n",
       "    </tr>\n",
       "    <tr>\n",
       "      <th>3</th>\n",
       "      <td>F</td>\n",
       "      <td>75</td>\n",
       "      <td>78afa995795e4d85b5d9ceeca43f5fef</td>\n",
       "      <td>20170509</td>\n",
       "      <td>100000.0</td>\n",
       "    </tr>\n",
       "    <tr>\n",
       "      <th>4</th>\n",
       "      <td>None</td>\n",
       "      <td>118</td>\n",
       "      <td>a03223e636434f42ac4c3df47e8bac43</td>\n",
       "      <td>20170804</td>\n",
       "      <td>NaN</td>\n",
       "    </tr>\n",
       "    <tr>\n",
       "      <th>...</th>\n",
       "      <td>...</td>\n",
       "      <td>...</td>\n",
       "      <td>...</td>\n",
       "      <td>...</td>\n",
       "      <td>...</td>\n",
       "    </tr>\n",
       "    <tr>\n",
       "      <th>16995</th>\n",
       "      <td>F</td>\n",
       "      <td>45</td>\n",
       "      <td>6d5f3a774f3d4714ab0c092238f3a1d7</td>\n",
       "      <td>20180604</td>\n",
       "      <td>54000.0</td>\n",
       "    </tr>\n",
       "    <tr>\n",
       "      <th>16996</th>\n",
       "      <td>M</td>\n",
       "      <td>61</td>\n",
       "      <td>2cb4f97358b841b9a9773a7aa05a9d77</td>\n",
       "      <td>20180713</td>\n",
       "      <td>72000.0</td>\n",
       "    </tr>\n",
       "    <tr>\n",
       "      <th>16997</th>\n",
       "      <td>M</td>\n",
       "      <td>49</td>\n",
       "      <td>01d26f638c274aa0b965d24cefe3183f</td>\n",
       "      <td>20170126</td>\n",
       "      <td>73000.0</td>\n",
       "    </tr>\n",
       "    <tr>\n",
       "      <th>16998</th>\n",
       "      <td>F</td>\n",
       "      <td>83</td>\n",
       "      <td>9dc1421481194dcd9400aec7c9ae6366</td>\n",
       "      <td>20160307</td>\n",
       "      <td>50000.0</td>\n",
       "    </tr>\n",
       "    <tr>\n",
       "      <th>16999</th>\n",
       "      <td>F</td>\n",
       "      <td>62</td>\n",
       "      <td>e4052622e5ba45a8b96b59aba68cf068</td>\n",
       "      <td>20170722</td>\n",
       "      <td>82000.0</td>\n",
       "    </tr>\n",
       "  </tbody>\n",
       "</table>\n",
       "<p>17000 rows × 5 columns</p>\n",
       "</div>"
      ],
      "text/plain": [
       "      gender  age                                id  became_member_on  \\\n",
       "0       None  118  68be06ca386d4c31939f3a4f0e3dd783          20170212   \n",
       "1          F   55  0610b486422d4921ae7d2bf64640c50b          20170715   \n",
       "2       None  118  38fe809add3b4fcf9315a9694bb96ff5          20180712   \n",
       "3          F   75  78afa995795e4d85b5d9ceeca43f5fef          20170509   \n",
       "4       None  118  a03223e636434f42ac4c3df47e8bac43          20170804   \n",
       "...      ...  ...                               ...               ...   \n",
       "16995      F   45  6d5f3a774f3d4714ab0c092238f3a1d7          20180604   \n",
       "16996      M   61  2cb4f97358b841b9a9773a7aa05a9d77          20180713   \n",
       "16997      M   49  01d26f638c274aa0b965d24cefe3183f          20170126   \n",
       "16998      F   83  9dc1421481194dcd9400aec7c9ae6366          20160307   \n",
       "16999      F   62  e4052622e5ba45a8b96b59aba68cf068          20170722   \n",
       "\n",
       "         income  \n",
       "0           NaN  \n",
       "1      112000.0  \n",
       "2           NaN  \n",
       "3      100000.0  \n",
       "4           NaN  \n",
       "...         ...  \n",
       "16995   54000.0  \n",
       "16996   72000.0  \n",
       "16997   73000.0  \n",
       "16998   50000.0  \n",
       "16999   82000.0  \n",
       "\n",
       "[17000 rows x 5 columns]"
      ]
     },
     "execution_count": 60,
     "metadata": {},
     "output_type": "execute_result"
    }
   ],
   "source": [
    "users"
   ]
  },
  {
   "cell_type": "code",
   "execution_count": 61,
   "id": "22f5825b",
   "metadata": {},
   "outputs": [
    {
     "data": {
      "application/vnd.microsoft.datawrangler.viewer.v0+json": {
       "columns": [
        {
         "name": "gender",
         "rawType": "object",
         "type": "unknown"
        },
        {
         "name": "count",
         "rawType": "int64",
         "type": "integer"
        },
        {
         "name": "percent",
         "rawType": "float64",
         "type": "float"
        }
       ],
       "conversionMethod": "pd.DataFrame",
       "ref": "b1a78452-f3fd-4951-85bf-733455026480",
       "rows": [
        [
         "M",
         "8484",
         "49.91"
        ],
        [
         "F",
         "6129",
         "36.05"
        ],
        [
         null,
         "2175",
         "12.79"
        ],
        [
         "O",
         "212",
         "1.25"
        ]
       ],
       "shape": {
        "columns": 2,
        "rows": 4
       }
      },
      "text/html": [
       "<div>\n",
       "<style scoped>\n",
       "    .dataframe tbody tr th:only-of-type {\n",
       "        vertical-align: middle;\n",
       "    }\n",
       "\n",
       "    .dataframe tbody tr th {\n",
       "        vertical-align: top;\n",
       "    }\n",
       "\n",
       "    .dataframe thead th {\n",
       "        text-align: right;\n",
       "    }\n",
       "</style>\n",
       "<table border=\"1\" class=\"dataframe\">\n",
       "  <thead>\n",
       "    <tr style=\"text-align: right;\">\n",
       "      <th></th>\n",
       "      <th>count</th>\n",
       "      <th>percent</th>\n",
       "    </tr>\n",
       "    <tr>\n",
       "      <th>gender</th>\n",
       "      <th></th>\n",
       "      <th></th>\n",
       "    </tr>\n",
       "  </thead>\n",
       "  <tbody>\n",
       "    <tr>\n",
       "      <th>M</th>\n",
       "      <td>8484</td>\n",
       "      <td>49.91</td>\n",
       "    </tr>\n",
       "    <tr>\n",
       "      <th>F</th>\n",
       "      <td>6129</td>\n",
       "      <td>36.05</td>\n",
       "    </tr>\n",
       "    <tr>\n",
       "      <th>NaN</th>\n",
       "      <td>2175</td>\n",
       "      <td>12.79</td>\n",
       "    </tr>\n",
       "    <tr>\n",
       "      <th>O</th>\n",
       "      <td>212</td>\n",
       "      <td>1.25</td>\n",
       "    </tr>\n",
       "  </tbody>\n",
       "</table>\n",
       "</div>"
      ],
      "text/plain": [
       "        count  percent\n",
       "gender                \n",
       "M        8484    49.91\n",
       "F        6129    36.05\n",
       "NaN      2175    12.79\n",
       "O         212     1.25"
      ]
     },
     "metadata": {},
     "output_type": "display_data"
    },
    {
     "data": {
      "application/vnd.microsoft.datawrangler.viewer.v0+json": {
       "columns": [
        {
         "name": "age",
         "rawType": "int64",
         "type": "integer"
        },
        {
         "name": "count",
         "rawType": "int64",
         "type": "integer"
        },
        {
         "name": "percent",
         "rawType": "float64",
         "type": "float"
        }
       ],
       "conversionMethod": "pd.DataFrame",
       "ref": "00f26197-e36f-41a0-86fc-6d6245cdc09f",
       "rows": [
        [
         "118",
         "2175",
         "12.79"
        ],
        [
         "58",
         "408",
         "2.4"
        ],
        [
         "53",
         "372",
         "2.19"
        ],
        [
         "51",
         "363",
         "2.14"
        ],
        [
         "59",
         "359",
         "2.11"
        ],
        [
         "54",
         "359",
         "2.11"
        ],
        [
         "57",
         "353",
         "2.08"
        ],
        [
         "52",
         "351",
         "2.06"
        ],
        [
         "55",
         "350",
         "2.06"
        ],
        [
         "56",
         "342",
         "2.01"
        ],
        [
         "63",
         "338",
         "1.99"
        ],
        [
         "60",
         "333",
         "1.96"
        ],
        [
         "49",
         "321",
         "1.89"
        ],
        [
         "62",
         "318",
         "1.87"
        ],
        [
         "67",
         "317",
         "1.86"
        ],
        [
         "64",
         "311",
         "1.83"
        ],
        [
         "61",
         "309",
         "1.82"
        ],
        [
         "48",
         "288",
         "1.69"
        ],
        [
         "66",
         "284",
         "1.67"
        ],
        [
         "50",
         "284",
         "1.67"
        ],
        [
         "65",
         "280",
         "1.65"
        ],
        [
         "68",
         "259",
         "1.52"
        ],
        [
         "70",
         "252",
         "1.48"
        ],
        [
         "69",
         "242",
         "1.42"
        ],
        [
         "47",
         "232",
         "1.36"
        ],
        [
         "45",
         "231",
         "1.36"
        ],
        [
         "71",
         "230",
         "1.35"
        ],
        [
         "42",
         "227",
         "1.34"
        ],
        [
         "43",
         "215",
         "1.26"
        ],
        [
         "46",
         "212",
         "1.25"
        ],
        [
         "73",
         "209",
         "1.23"
        ],
        [
         "40",
         "202",
         "1.19"
        ],
        [
         "37",
         "197",
         "1.16"
        ],
        [
         "74",
         "193",
         "1.14"
        ],
        [
         "44",
         "192",
         "1.13"
        ],
        [
         "72",
         "191",
         "1.12"
        ],
        [
         "41",
         "189",
         "1.11"
        ],
        [
         "39",
         "182",
         "1.07"
        ],
        [
         "36",
         "175",
         "1.03"
        ],
        [
         "38",
         "172",
         "1.01"
        ],
        [
         "75",
         "159",
         "0.94"
        ],
        [
         "26",
         "157",
         "0.92"
        ],
        [
         "76",
         "155",
         "0.91"
        ],
        [
         "33",
         "152",
         "0.89"
        ],
        [
         "34",
         "147",
         "0.86"
        ],
        [
         "77",
         "141",
         "0.83"
        ],
        [
         "21",
         "140",
         "0.82"
        ],
        [
         "24",
         "139",
         "0.82"
        ],
        [
         "27",
         "139",
         "0.82"
        ],
        [
         "32",
         "139",
         "0.82"
        ]
       ],
       "shape": {
        "columns": 2,
        "rows": 85
       }
      },
      "text/html": [
       "<div>\n",
       "<style scoped>\n",
       "    .dataframe tbody tr th:only-of-type {\n",
       "        vertical-align: middle;\n",
       "    }\n",
       "\n",
       "    .dataframe tbody tr th {\n",
       "        vertical-align: top;\n",
       "    }\n",
       "\n",
       "    .dataframe thead th {\n",
       "        text-align: right;\n",
       "    }\n",
       "</style>\n",
       "<table border=\"1\" class=\"dataframe\">\n",
       "  <thead>\n",
       "    <tr style=\"text-align: right;\">\n",
       "      <th></th>\n",
       "      <th>count</th>\n",
       "      <th>percent</th>\n",
       "    </tr>\n",
       "    <tr>\n",
       "      <th>age</th>\n",
       "      <th></th>\n",
       "      <th></th>\n",
       "    </tr>\n",
       "  </thead>\n",
       "  <tbody>\n",
       "    <tr>\n",
       "      <th>118</th>\n",
       "      <td>2175</td>\n",
       "      <td>12.79</td>\n",
       "    </tr>\n",
       "    <tr>\n",
       "      <th>58</th>\n",
       "      <td>408</td>\n",
       "      <td>2.40</td>\n",
       "    </tr>\n",
       "    <tr>\n",
       "      <th>53</th>\n",
       "      <td>372</td>\n",
       "      <td>2.19</td>\n",
       "    </tr>\n",
       "    <tr>\n",
       "      <th>51</th>\n",
       "      <td>363</td>\n",
       "      <td>2.14</td>\n",
       "    </tr>\n",
       "    <tr>\n",
       "      <th>59</th>\n",
       "      <td>359</td>\n",
       "      <td>2.11</td>\n",
       "    </tr>\n",
       "    <tr>\n",
       "      <th>...</th>\n",
       "      <td>...</td>\n",
       "      <td>...</td>\n",
       "    </tr>\n",
       "    <tr>\n",
       "      <th>100</th>\n",
       "      <td>12</td>\n",
       "      <td>0.07</td>\n",
       "    </tr>\n",
       "    <tr>\n",
       "      <th>96</th>\n",
       "      <td>8</td>\n",
       "      <td>0.05</td>\n",
       "    </tr>\n",
       "    <tr>\n",
       "      <th>98</th>\n",
       "      <td>5</td>\n",
       "      <td>0.03</td>\n",
       "    </tr>\n",
       "    <tr>\n",
       "      <th>99</th>\n",
       "      <td>5</td>\n",
       "      <td>0.03</td>\n",
       "    </tr>\n",
       "    <tr>\n",
       "      <th>101</th>\n",
       "      <td>5</td>\n",
       "      <td>0.03</td>\n",
       "    </tr>\n",
       "  </tbody>\n",
       "</table>\n",
       "<p>85 rows × 2 columns</p>\n",
       "</div>"
      ],
      "text/plain": [
       "     count  percent\n",
       "age                \n",
       "118   2175    12.79\n",
       "58     408     2.40\n",
       "53     372     2.19\n",
       "51     363     2.14\n",
       "59     359     2.11\n",
       "..     ...      ...\n",
       "100     12     0.07\n",
       "96       8     0.05\n",
       "98       5     0.03\n",
       "99       5     0.03\n",
       "101      5     0.03\n",
       "\n",
       "[85 rows x 2 columns]"
      ]
     },
     "metadata": {},
     "output_type": "display_data"
    },
    {
     "data": {
      "application/vnd.microsoft.datawrangler.viewer.v0+json": {
       "columns": [
        {
         "name": "became_member_on",
         "rawType": "int64",
         "type": "integer"
        },
        {
         "name": "count",
         "rawType": "int64",
         "type": "integer"
        },
        {
         "name": "percent",
         "rawType": "float64",
         "type": "float"
        }
       ],
       "conversionMethod": "pd.DataFrame",
       "ref": "15e7b77c-9962-4322-980b-b9fa591bf9c2",
       "rows": [
        [
         "20171207",
         "43",
         "0.25"
        ],
        [
         "20170819",
         "42",
         "0.25"
        ],
        [
         "20171007",
         "40",
         "0.24"
        ],
        [
         "20171113",
         "39",
         "0.23"
        ],
        [
         "20170928",
         "38",
         "0.22"
        ],
        [
         "20170815",
         "38",
         "0.22"
        ],
        [
         "20180125",
         "38",
         "0.22"
        ],
        [
         "20171010",
         "37",
         "0.22"
        ],
        [
         "20171121",
         "36",
         "0.21"
        ],
        [
         "20180501",
         "35",
         "0.21"
        ],
        [
         "20171204",
         "35",
         "0.21"
        ],
        [
         "20180120",
         "35",
         "0.21"
        ],
        [
         "20170728",
         "35",
         "0.21"
        ],
        [
         "20171217",
         "35",
         "0.21"
        ],
        [
         "20170921",
         "34",
         "0.2"
        ],
        [
         "20170901",
         "34",
         "0.2"
        ],
        [
         "20170806",
         "34",
         "0.2"
        ],
        [
         "20170910",
         "34",
         "0.2"
        ],
        [
         "20170802",
         "34",
         "0.2"
        ],
        [
         "20170926",
         "34",
         "0.2"
        ],
        [
         "20171023",
         "34",
         "0.2"
        ],
        [
         "20171027",
         "34",
         "0.2"
        ],
        [
         "20171017",
         "34",
         "0.2"
        ],
        [
         "20171208",
         "34",
         "0.2"
        ],
        [
         "20171212",
         "34",
         "0.2"
        ],
        [
         "20171201",
         "34",
         "0.2"
        ],
        [
         "20170822",
         "33",
         "0.19"
        ],
        [
         "20170811",
         "33",
         "0.19"
        ],
        [
         "20170827",
         "33",
         "0.19"
        ],
        [
         "20170801",
         "33",
         "0.19"
        ],
        [
         "20170731",
         "33",
         "0.19"
        ],
        [
         "20170821",
         "33",
         "0.19"
        ],
        [
         "20171114",
         "33",
         "0.19"
        ],
        [
         "20171025",
         "33",
         "0.19"
        ],
        [
         "20170730",
         "33",
         "0.19"
        ],
        [
         "20171019",
         "33",
         "0.19"
        ],
        [
         "20180109",
         "33",
         "0.19"
        ],
        [
         "20171220",
         "33",
         "0.19"
        ],
        [
         "20171126",
         "33",
         "0.19"
        ],
        [
         "20171214",
         "32",
         "0.19"
        ],
        [
         "20180123",
         "32",
         "0.19"
        ],
        [
         "20171209",
         "32",
         "0.19"
        ],
        [
         "20171225",
         "32",
         "0.19"
        ],
        [
         "20171112",
         "32",
         "0.19"
        ],
        [
         "20170727",
         "32",
         "0.19"
        ],
        [
         "20171002",
         "32",
         "0.19"
        ],
        [
         "20171014",
         "32",
         "0.19"
        ],
        [
         "20180425",
         "32",
         "0.19"
        ],
        [
         "20170912",
         "32",
         "0.19"
        ],
        [
         "20171004",
         "31",
         "0.18"
        ]
       ],
       "shape": {
        "columns": 2,
        "rows": 1716
       }
      },
      "text/html": [
       "<div>\n",
       "<style scoped>\n",
       "    .dataframe tbody tr th:only-of-type {\n",
       "        vertical-align: middle;\n",
       "    }\n",
       "\n",
       "    .dataframe tbody tr th {\n",
       "        vertical-align: top;\n",
       "    }\n",
       "\n",
       "    .dataframe thead th {\n",
       "        text-align: right;\n",
       "    }\n",
       "</style>\n",
       "<table border=\"1\" class=\"dataframe\">\n",
       "  <thead>\n",
       "    <tr style=\"text-align: right;\">\n",
       "      <th></th>\n",
       "      <th>count</th>\n",
       "      <th>percent</th>\n",
       "    </tr>\n",
       "    <tr>\n",
       "      <th>became_member_on</th>\n",
       "      <th></th>\n",
       "      <th></th>\n",
       "    </tr>\n",
       "  </thead>\n",
       "  <tbody>\n",
       "    <tr>\n",
       "      <th>20171207</th>\n",
       "      <td>43</td>\n",
       "      <td>0.25</td>\n",
       "    </tr>\n",
       "    <tr>\n",
       "      <th>20170819</th>\n",
       "      <td>42</td>\n",
       "      <td>0.25</td>\n",
       "    </tr>\n",
       "    <tr>\n",
       "      <th>20171007</th>\n",
       "      <td>40</td>\n",
       "      <td>0.24</td>\n",
       "    </tr>\n",
       "    <tr>\n",
       "      <th>20171113</th>\n",
       "      <td>39</td>\n",
       "      <td>0.23</td>\n",
       "    </tr>\n",
       "    <tr>\n",
       "      <th>20170928</th>\n",
       "      <td>38</td>\n",
       "      <td>0.22</td>\n",
       "    </tr>\n",
       "    <tr>\n",
       "      <th>...</th>\n",
       "      <td>...</td>\n",
       "      <td>...</td>\n",
       "    </tr>\n",
       "    <tr>\n",
       "      <th>20130801</th>\n",
       "      <td>1</td>\n",
       "      <td>0.01</td>\n",
       "    </tr>\n",
       "    <tr>\n",
       "      <th>20130915</th>\n",
       "      <td>1</td>\n",
       "      <td>0.01</td>\n",
       "    </tr>\n",
       "    <tr>\n",
       "      <th>20130806</th>\n",
       "      <td>1</td>\n",
       "      <td>0.01</td>\n",
       "    </tr>\n",
       "    <tr>\n",
       "      <th>20130729</th>\n",
       "      <td>1</td>\n",
       "      <td>0.01</td>\n",
       "    </tr>\n",
       "    <tr>\n",
       "      <th>20130731</th>\n",
       "      <td>1</td>\n",
       "      <td>0.01</td>\n",
       "    </tr>\n",
       "  </tbody>\n",
       "</table>\n",
       "<p>1716 rows × 2 columns</p>\n",
       "</div>"
      ],
      "text/plain": [
       "                  count  percent\n",
       "became_member_on                \n",
       "20171207             43     0.25\n",
       "20170819             42     0.25\n",
       "20171007             40     0.24\n",
       "20171113             39     0.23\n",
       "20170928             38     0.22\n",
       "...                 ...      ...\n",
       "20130801              1     0.01\n",
       "20130915              1     0.01\n",
       "20130806              1     0.01\n",
       "20130729              1     0.01\n",
       "20130731              1     0.01\n",
       "\n",
       "[1716 rows x 2 columns]"
      ]
     },
     "metadata": {},
     "output_type": "display_data"
    },
    {
     "data": {
      "application/vnd.microsoft.datawrangler.viewer.v0+json": {
       "columns": [
        {
         "name": "income",
         "rawType": "float64",
         "type": "float"
        },
        {
         "name": "count",
         "rawType": "int64",
         "type": "integer"
        },
        {
         "name": "percent",
         "rawType": "float64",
         "type": "float"
        }
       ],
       "conversionMethod": "pd.DataFrame",
       "ref": "b5bb98d7-5388-464f-ba97-836cd5ecaa99",
       "rows": [
        [
         null,
         "2175",
         "12.79"
        ],
        [
         "73000.0",
         "314",
         "1.85"
        ],
        [
         "72000.0",
         "297",
         "1.75"
        ],
        [
         "71000.0",
         "294",
         "1.73"
        ],
        [
         "57000.0",
         "288",
         "1.69"
        ],
        [
         "53000.0",
         "282",
         "1.66"
        ],
        [
         "74000.0",
         "282",
         "1.66"
        ],
        [
         "56000.0",
         "281",
         "1.65"
        ],
        [
         "52000.0",
         "281",
         "1.65"
        ],
        [
         "54000.0",
         "272",
         "1.6"
        ],
        [
         "70000.0",
         "270",
         "1.59"
        ],
        [
         "51000.0",
         "268",
         "1.58"
        ],
        [
         "61000.0",
         "258",
         "1.52"
        ],
        [
         "64000.0",
         "258",
         "1.52"
        ],
        [
         "55000.0",
         "254",
         "1.49"
        ],
        [
         "50000.0",
         "253",
         "1.49"
        ],
        [
         "60000.0",
         "251",
         "1.48"
        ],
        [
         "75000.0",
         "243",
         "1.43"
        ],
        [
         "59000.0",
         "243",
         "1.43"
        ],
        [
         "67000.0",
         "242",
         "1.42"
        ],
        [
         "58000.0",
         "239",
         "1.41"
        ],
        [
         "65000.0",
         "238",
         "1.4"
        ],
        [
         "62000.0",
         "229",
         "1.35"
        ],
        [
         "68000.0",
         "228",
         "1.34"
        ],
        [
         "31000.0",
         "223",
         "1.31"
        ],
        [
         "66000.0",
         "222",
         "1.31"
        ],
        [
         "32000.0",
         "216",
         "1.27"
        ],
        [
         "33000.0",
         "213",
         "1.25"
        ],
        [
         "37000.0",
         "209",
         "1.23"
        ],
        [
         "39000.0",
         "209",
         "1.23"
        ],
        [
         "35000.0",
         "206",
         "1.21"
        ],
        [
         "63000.0",
         "206",
         "1.21"
        ],
        [
         "41000.0",
         "204",
         "1.2"
        ],
        [
         "34000.0",
         "199",
         "1.17"
        ],
        [
         "69000.0",
         "196",
         "1.15"
        ],
        [
         "45000.0",
         "196",
         "1.15"
        ],
        [
         "40000.0",
         "195",
         "1.15"
        ],
        [
         "36000.0",
         "192",
         "1.13"
        ],
        [
         "47000.0",
         "192",
         "1.13"
        ],
        [
         "48000.0",
         "186",
         "1.09"
        ],
        [
         "38000.0",
         "185",
         "1.09"
        ],
        [
         "46000.0",
         "181",
         "1.06"
        ],
        [
         "42000.0",
         "181",
         "1.06"
        ],
        [
         "44000.0",
         "180",
         "1.06"
        ],
        [
         "43000.0",
         "169",
         "0.99"
        ],
        [
         "79000.0",
         "166",
         "0.98"
        ],
        [
         "77000.0",
         "158",
         "0.93"
        ],
        [
         "49000.0",
         "157",
         "0.92"
        ],
        [
         "78000.0",
         "157",
         "0.92"
        ],
        [
         "76000.0",
         "157",
         "0.92"
        ]
       ],
       "shape": {
        "columns": 2,
        "rows": 92
       }
      },
      "text/html": [
       "<div>\n",
       "<style scoped>\n",
       "    .dataframe tbody tr th:only-of-type {\n",
       "        vertical-align: middle;\n",
       "    }\n",
       "\n",
       "    .dataframe tbody tr th {\n",
       "        vertical-align: top;\n",
       "    }\n",
       "\n",
       "    .dataframe thead th {\n",
       "        text-align: right;\n",
       "    }\n",
       "</style>\n",
       "<table border=\"1\" class=\"dataframe\">\n",
       "  <thead>\n",
       "    <tr style=\"text-align: right;\">\n",
       "      <th></th>\n",
       "      <th>count</th>\n",
       "      <th>percent</th>\n",
       "    </tr>\n",
       "    <tr>\n",
       "      <th>income</th>\n",
       "      <th></th>\n",
       "      <th></th>\n",
       "    </tr>\n",
       "  </thead>\n",
       "  <tbody>\n",
       "    <tr>\n",
       "      <th>NaN</th>\n",
       "      <td>2175</td>\n",
       "      <td>12.79</td>\n",
       "    </tr>\n",
       "    <tr>\n",
       "      <th>73000.0</th>\n",
       "      <td>314</td>\n",
       "      <td>1.85</td>\n",
       "    </tr>\n",
       "    <tr>\n",
       "      <th>72000.0</th>\n",
       "      <td>297</td>\n",
       "      <td>1.75</td>\n",
       "    </tr>\n",
       "    <tr>\n",
       "      <th>71000.0</th>\n",
       "      <td>294</td>\n",
       "      <td>1.73</td>\n",
       "    </tr>\n",
       "    <tr>\n",
       "      <th>57000.0</th>\n",
       "      <td>288</td>\n",
       "      <td>1.69</td>\n",
       "    </tr>\n",
       "    <tr>\n",
       "      <th>...</th>\n",
       "      <td>...</td>\n",
       "      <td>...</td>\n",
       "    </tr>\n",
       "    <tr>\n",
       "      <th>116000.0</th>\n",
       "      <td>46</td>\n",
       "      <td>0.27</td>\n",
       "    </tr>\n",
       "    <tr>\n",
       "      <th>112000.0</th>\n",
       "      <td>45</td>\n",
       "      <td>0.26</td>\n",
       "    </tr>\n",
       "    <tr>\n",
       "      <th>107000.0</th>\n",
       "      <td>45</td>\n",
       "      <td>0.26</td>\n",
       "    </tr>\n",
       "    <tr>\n",
       "      <th>117000.0</th>\n",
       "      <td>32</td>\n",
       "      <td>0.19</td>\n",
       "    </tr>\n",
       "    <tr>\n",
       "      <th>120000.0</th>\n",
       "      <td>13</td>\n",
       "      <td>0.08</td>\n",
       "    </tr>\n",
       "  </tbody>\n",
       "</table>\n",
       "<p>92 rows × 2 columns</p>\n",
       "</div>"
      ],
      "text/plain": [
       "          count  percent\n",
       "income                  \n",
       "NaN        2175    12.79\n",
       "73000.0     314     1.85\n",
       "72000.0     297     1.75\n",
       "71000.0     294     1.73\n",
       "57000.0     288     1.69\n",
       "...         ...      ...\n",
       "116000.0     46     0.27\n",
       "112000.0     45     0.26\n",
       "107000.0     45     0.26\n",
       "117000.0     32     0.19\n",
       "120000.0     13     0.08\n",
       "\n",
       "[92 rows x 2 columns]"
      ]
     },
     "metadata": {},
     "output_type": "display_data"
    }
   ],
   "source": [
    "# Getting basic counts for the columns\n",
    "for cn in users.columns:\n",
    "    if cn not in ['id']:\n",
    "        agg_count = users.groupby(cn, dropna=False).agg( count=('id', 'count') )\n",
    "        agg_count['percent'] = round( agg_count['count'] / agg_count['count'].sum() * 100, 2 )\n",
    "\n",
    "        display( agg_count.sort_values('count', ascending=False) )"
   ]
  },
  {
   "cell_type": "code",
   "execution_count": 62,
   "id": "570ca83d",
   "metadata": {},
   "outputs": [
    {
     "name": "stdout",
     "output_type": "stream",
     "text": [
      "The median age (excluding age 118) is: 55.0\n"
     ]
    }
   ],
   "source": [
    "median_age = users[users['age'] != 118]['age'].median()\n",
    "print(f\"The median age (excluding age 118) is: {median_age}\")"
   ]
  },
  {
   "cell_type": "code",
   "execution_count": 63,
   "id": "ec35dbb7",
   "metadata": {},
   "outputs": [
    {
     "data": {
      "image/png": "[encoded data removed]",
      "text/plain": [
       "<Figure size 1000x600 with 1 Axes>"
      ]
     },
     "metadata": {},
     "output_type": "display_data"
    }
   ],
   "source": [
    "age_counts = users.groupby('age').size().reset_index(name='count')\n",
    "age_counts = age_counts[ age_counts['age'] != 118 ]\n",
    "\n",
    "plt.figure(figsize=(10, 6))\n",
    "plt.scatter(age_counts['age'], age_counts['count'], alpha=0.7)\n",
    "plt.title('Counts per Age in Users')\n",
    "plt.xlabel('Age')\n",
    "plt.ylabel('Count')\n",
    "plt.grid(True)\n",
    "plt.show()"
   ]
  },
  {
   "cell_type": "code",
   "execution_count": 64,
   "id": "6029ca85",
   "metadata": {},
   "outputs": [
    {
     "data": {
      "image/png": "[encoded data removed]",
      "text/plain": [
       "<Figure size 1000x600 with 1 Axes>"
      ]
     },
     "metadata": {},
     "output_type": "display_data"
    }
   ],
   "source": [
    "users_no_118 = users[users['age'] != 118]\n",
    "\n",
    "plt.figure(figsize=(10, 6))\n",
    "plt.hist(users_no_118['age'], bins=20, edgecolor='black', alpha=0.7)\n",
    "plt.title('Distribution of Age in Users')\n",
    "plt.xlabel('Age')\n",
    "plt.ylabel('Count')\n",
    "plt.grid(True)\n",
    "plt.show()"
   ]
  },
  {
   "cell_type": "code",
   "execution_count": 65,
   "id": "bed56f82",
   "metadata": {},
   "outputs": [
    {
     "name": "stdout",
     "output_type": "stream",
     "text": [
      "The median income is: 64000.0\n"
     ]
    }
   ],
   "source": [
    "median_income = users['income'].median()\n",
    "print(f\"The median income is: {median_income}\")"
   ]
  },
  {
   "cell_type": "code",
   "execution_count": 66,
   "id": "5095a27a",
   "metadata": {},
   "outputs": [
    {
     "data": {
      "image/png": "[encoded data removed]",
      "text/plain": [
       "<Figure size 1000x600 with 1 Axes>"
      ]
     },
     "metadata": {},
     "output_type": "display_data"
    }
   ],
   "source": [
    "plt.figure(figsize=(10, 6))\n",
    "plt.hist(users['income'].dropna(), bins=20, edgecolor='black', alpha=0.7)\n",
    "plt.title('Distribution of Income in Users')\n",
    "plt.xlabel('Income')\n",
    "plt.ylabel('Count')\n",
    "plt.grid(True)\n",
    "plt.show()"
   ]
  },
  {
   "cell_type": "code",
   "execution_count": 67,
   "id": "5c1a1ce9",
   "metadata": {},
   "outputs": [
    {
     "name": "stdout",
     "output_type": "stream",
     "text": [
      "The median user start date is: 2017-08-02 00:00:00\n"
     ]
    }
   ],
   "source": [
    "users['became_member_on'] = pd.to_datetime(users['became_member_on'], format='%Y%m%d')\n",
    "median_start_date = users['became_member_on'].median()\n",
    "print(f\"The median user start date is: {median_start_date}\")"
   ]
  },
  {
   "cell_type": "code",
   "execution_count": 68,
   "id": "77936f0b",
   "metadata": {},
   "outputs": [
    {
     "data": {
      "image/png": "[encoded data removed]",
      "text/plain": [
       "<Figure size 1000x600 with 1 Axes>"
      ]
     },
     "metadata": {},
     "output_type": "display_data"
    }
   ],
   "source": [
    "plt.figure(figsize=(10, 6))\n",
    "plt.hist(users['became_member_on'], bins=20, edgecolor='black', alpha=0.7)\n",
    "plt.title('Distribution of Membership Start Dates')\n",
    "plt.xlabel('Membership Start Date')\n",
    "plt.ylabel('Count')\n",
    "plt.grid(True)\n",
    "plt.show()"
   ]
  },
  {
   "cell_type": "markdown",
   "id": "4bdc85c5",
   "metadata": {},
   "source": [
    "# Loading cleaned data"
   ]
  },
  {
   "cell_type": "code",
   "execution_count": 43,
   "id": "806b50cd",
   "metadata": {},
   "outputs": [],
   "source": [
    "conn = create_engine('sqlite:///data/starbucks_data.db')\n",
    "\n",
    "# Loading the offers data\n",
    "offers = pd.read_sql('SELECT * FROM offers', conn)\n",
    "\n",
    "# Loading the user data\n",
    "users = pd.read_sql('SELECT * FROM users', conn)\n",
    "# Adding back categorical columns for the users that were lost by saving to the database\n",
    "users['user_gender'] = users['user_gender'].fillna('N/A')\n",
    "user_gender_cats = [ 'N/A', 'O', 'F', 'M' ]\n",
    "users['user_gender'] = pd.Categorical(users['user_gender'], categories=user_gender_cats, ordered=True)\n",
    "\n",
    "users['user_age_group'] = users['user_age_group'].fillna('N/A')\n",
    "user_age_cats = ['N/A', '18-24', '25-34', '35-44', '45-54', '55-64', '65+']\n",
    "users['user_age_group'] = pd.Categorical(users['user_age_group'], categories=user_age_cats, ordered=True)\n",
    "\n",
    "user_income_cats = ['N/A', '<50k', '50k-75k', '75k-100k', '>100k']\n",
    "users['user_income_group'] = pd.Categorical(users['user_income_group'], categories=user_income_cats, ordered=False)\n",
    "\n",
    "# Loading the interactions data\n",
    "interactions = pd.read_sql('SELECT * FROM interactions', conn)"
   ]
  },
  {
   "cell_type": "markdown",
   "id": "50354443",
   "metadata": {},
   "source": [
    "# Offers Table"
   ]
  },
  {
   "cell_type": "code",
   "execution_count": 44,
   "id": "4408d16b",
   "metadata": {},
   "outputs": [
    {
     "data": {
      "application/vnd.microsoft.datawrangler.viewer.v0+json": {
       "columns": [
        {
         "name": "index",
         "rawType": "int64",
         "type": "integer"
        },
        {
         "name": "offer_id",
         "rawType": "object",
         "type": "string"
        },
        {
         "name": "offer_notification_channel",
         "rawType": "object",
         "type": "string"
        },
        {
         "name": "offer_type",
         "rawType": "object",
         "type": "string"
        },
        {
         "name": "offer_spend_minimum",
         "rawType": "int64",
         "type": "integer"
        },
        {
         "name": "offer_reward",
         "rawType": "int64",
         "type": "integer"
        },
        {
         "name": "offer_duration",
         "rawType": "int64",
         "type": "integer"
        },
        {
         "name": "offer_reward_vs_spend",
         "rawType": "float64",
         "type": "float"
        }
       ],
       "conversionMethod": "pd.DataFrame",
       "ref": "38a102ff-8c9e-470e-b498-862764705d0f",
       "rows": [
        [
         "0",
         "ae264e3637204a6fb9bb56bc8210ddfd",
         "email",
         "bogo",
         "10",
         "10",
         "168",
         "1.0"
        ],
        [
         "1",
         "ae264e3637204a6fb9bb56bc8210ddfd",
         "mobile",
         "bogo",
         "10",
         "10",
         "168",
         "1.0"
        ],
        [
         "2",
         "ae264e3637204a6fb9bb56bc8210ddfd",
         "social",
         "bogo",
         "10",
         "10",
         "168",
         "1.0"
        ],
        [
         "3",
         "4d5c57ea9a6940dd891ad53e9dbe8da0",
         "web",
         "bogo",
         "10",
         "10",
         "120",
         "1.0"
        ],
        [
         "4",
         "4d5c57ea9a6940dd891ad53e9dbe8da0",
         "email",
         "bogo",
         "10",
         "10",
         "120",
         "1.0"
        ],
        [
         "5",
         "4d5c57ea9a6940dd891ad53e9dbe8da0",
         "mobile",
         "bogo",
         "10",
         "10",
         "120",
         "1.0"
        ],
        [
         "6",
         "4d5c57ea9a6940dd891ad53e9dbe8da0",
         "social",
         "bogo",
         "10",
         "10",
         "120",
         "1.0"
        ],
        [
         "7",
         "3f207df678b143eea3cee63160fa8bed",
         "web",
         "informational",
         "0",
         "0",
         "96",
         "0.0"
        ],
        [
         "8",
         "3f207df678b143eea3cee63160fa8bed",
         "email",
         "informational",
         "0",
         "0",
         "96",
         "0.0"
        ],
        [
         "9",
         "3f207df678b143eea3cee63160fa8bed",
         "mobile",
         "informational",
         "0",
         "0",
         "96",
         "0.0"
        ],
        [
         "10",
         "9b98b8c7a33c4b65b9aebfe6a799e6d9",
         "web",
         "bogo",
         "5",
         "5",
         "168",
         "1.0"
        ],
        [
         "11",
         "9b98b8c7a33c4b65b9aebfe6a799e6d9",
         "email",
         "bogo",
         "5",
         "5",
         "168",
         "1.0"
        ],
        [
         "12",
         "9b98b8c7a33c4b65b9aebfe6a799e6d9",
         "mobile",
         "bogo",
         "5",
         "5",
         "168",
         "1.0"
        ],
        [
         "13",
         "0b1e1539f2cc45b7b9fa7c272da2e1d7",
         "web",
         "discount",
         "20",
         "5",
         "240",
         "0.25"
        ],
        [
         "14",
         "0b1e1539f2cc45b7b9fa7c272da2e1d7",
         "email",
         "discount",
         "20",
         "5",
         "240",
         "0.25"
        ],
        [
         "15",
         "2298d6c36e964ae4a3e7e9706d1fb8c2",
         "web",
         "discount",
         "7",
         "3",
         "168",
         "0.43"
        ],
        [
         "16",
         "2298d6c36e964ae4a3e7e9706d1fb8c2",
         "email",
         "discount",
         "7",
         "3",
         "168",
         "0.43"
        ],
        [
         "17",
         "2298d6c36e964ae4a3e7e9706d1fb8c2",
         "mobile",
         "discount",
         "7",
         "3",
         "168",
         "0.43"
        ],
        [
         "18",
         "2298d6c36e964ae4a3e7e9706d1fb8c2",
         "social",
         "discount",
         "7",
         "3",
         "168",
         "0.43"
        ],
        [
         "19",
         "fafdcd668e3743c1bb461111dcafc2a4",
         "web",
         "discount",
         "10",
         "2",
         "240",
         "0.2"
        ],
        [
         "20",
         "fafdcd668e3743c1bb461111dcafc2a4",
         "email",
         "discount",
         "10",
         "2",
         "240",
         "0.2"
        ],
        [
         "21",
         "fafdcd668e3743c1bb461111dcafc2a4",
         "mobile",
         "discount",
         "10",
         "2",
         "240",
         "0.2"
        ],
        [
         "22",
         "fafdcd668e3743c1bb461111dcafc2a4",
         "social",
         "discount",
         "10",
         "2",
         "240",
         "0.2"
        ],
        [
         "23",
         "5a8bc65990b245e5a138643cd4eb9837",
         "email",
         "informational",
         "0",
         "0",
         "72",
         "0.0"
        ],
        [
         "24",
         "5a8bc65990b245e5a138643cd4eb9837",
         "mobile",
         "informational",
         "0",
         "0",
         "72",
         "0.0"
        ],
        [
         "25",
         "5a8bc65990b245e5a138643cd4eb9837",
         "social",
         "informational",
         "0",
         "0",
         "72",
         "0.0"
        ],
        [
         "26",
         "f19421c1d4aa40978ebb69ca19b0e20d",
         "web",
         "bogo",
         "5",
         "5",
         "120",
         "1.0"
        ],
        [
         "27",
         "f19421c1d4aa40978ebb69ca19b0e20d",
         "email",
         "bogo",
         "5",
         "5",
         "120",
         "1.0"
        ],
        [
         "28",
         "f19421c1d4aa40978ebb69ca19b0e20d",
         "mobile",
         "bogo",
         "5",
         "5",
         "120",
         "1.0"
        ],
        [
         "29",
         "f19421c1d4aa40978ebb69ca19b0e20d",
         "social",
         "bogo",
         "5",
         "5",
         "120",
         "1.0"
        ],
        [
         "30",
         "2906b810c7d4411798c6938adc9daaa5",
         "web",
         "discount",
         "10",
         "2",
         "168",
         "0.2"
        ],
        [
         "31",
         "2906b810c7d4411798c6938adc9daaa5",
         "email",
         "discount",
         "10",
         "2",
         "168",
         "0.2"
        ],
        [
         "32",
         "2906b810c7d4411798c6938adc9daaa5",
         "mobile",
         "discount",
         "10",
         "2",
         "168",
         "0.2"
        ]
       ],
       "shape": {
        "columns": 7,
        "rows": 33
       }
      },
      "text/html": [
       "<div>\n",
       "<style scoped>\n",
       "    .dataframe tbody tr th:only-of-type {\n",
       "        vertical-align: middle;\n",
       "    }\n",
       "\n",
       "    .dataframe tbody tr th {\n",
       "        vertical-align: top;\n",
       "    }\n",
       "\n",
       "    .dataframe thead th {\n",
       "        text-align: right;\n",
       "    }\n",
       "</style>\n",
       "<table border=\"1\" class=\"dataframe\">\n",
       "  <thead>\n",
       "    <tr style=\"text-align: right;\">\n",
       "      <th></th>\n",
       "      <th>offer_id</th>\n",
       "      <th>offer_notification_channel</th>\n",
       "      <th>offer_type</th>\n",
       "      <th>offer_spend_minimum</th>\n",
       "      <th>offer_reward</th>\n",
       "      <th>offer_duration</th>\n",
       "      <th>offer_reward_vs_spend</th>\n",
       "    </tr>\n",
       "  </thead>\n",
       "  <tbody>\n",
       "    <tr>\n",
       "      <th>0</th>\n",
       "      <td>ae264e3637204a6fb9bb56bc8210ddfd</td>\n",
       "      <td>email</td>\n",
       "      <td>bogo</td>\n",
       "      <td>10</td>\n",
       "      <td>10</td>\n",
       "      <td>168</td>\n",
       "      <td>1.00</td>\n",
       "    </tr>\n",
       "    <tr>\n",
       "      <th>1</th>\n",
       "      <td>ae264e3637204a6fb9bb56bc8210ddfd</td>\n",
       "      <td>mobile</td>\n",
       "      <td>bogo</td>\n",
       "      <td>10</td>\n",
       "      <td>10</td>\n",
       "      <td>168</td>\n",
       "      <td>1.00</td>\n",
       "    </tr>\n",
       "    <tr>\n",
       "      <th>2</th>\n",
       "      <td>ae264e3637204a6fb9bb56bc8210ddfd</td>\n",
       "      <td>social</td>\n",
       "      <td>bogo</td>\n",
       "      <td>10</td>\n",
       "      <td>10</td>\n",
       "      <td>168</td>\n",
       "      <td>1.00</td>\n",
       "    </tr>\n",
       "    <tr>\n",
       "      <th>3</th>\n",
       "      <td>4d5c57ea9a6940dd891ad53e9dbe8da0</td>\n",
       "      <td>web</td>\n",
       "      <td>bogo</td>\n",
       "      <td>10</td>\n",
       "      <td>10</td>\n",
       "      <td>120</td>\n",
       "      <td>1.00</td>\n",
       "    </tr>\n",
       "    <tr>\n",
       "      <th>4</th>\n",
       "      <td>4d5c57ea9a6940dd891ad53e9dbe8da0</td>\n",
       "      <td>email</td>\n",
       "      <td>bogo</td>\n",
       "      <td>10</td>\n",
       "      <td>10</td>\n",
       "      <td>120</td>\n",
       "      <td>1.00</td>\n",
       "    </tr>\n",
       "    <tr>\n",
       "      <th>5</th>\n",
       "      <td>4d5c57ea9a6940dd891ad53e9dbe8da0</td>\n",
       "      <td>mobile</td>\n",
       "      <td>bogo</td>\n",
       "      <td>10</td>\n",
       "      <td>10</td>\n",
       "      <td>120</td>\n",
       "      <td>1.00</td>\n",
       "    </tr>\n",
       "    <tr>\n",
       "      <th>6</th>\n",
       "      <td>4d5c57ea9a6940dd891ad53e9dbe8da0</td>\n",
       "      <td>social</td>\n",
       "      <td>bogo</td>\n",
       "      <td>10</td>\n",
       "      <td>10</td>\n",
       "      <td>120</td>\n",
       "      <td>1.00</td>\n",
       "    </tr>\n",
       "    <tr>\n",
       "      <th>7</th>\n",
       "      <td>3f207df678b143eea3cee63160fa8bed</td>\n",
       "      <td>web</td>\n",
       "      <td>informational</td>\n",
       "      <td>0</td>\n",
       "      <td>0</td>\n",
       "      <td>96</td>\n",
       "      <td>0.00</td>\n",
       "    </tr>\n",
       "    <tr>\n",
       "      <th>8</th>\n",
       "      <td>3f207df678b143eea3cee63160fa8bed</td>\n",
       "      <td>email</td>\n",
       "      <td>informational</td>\n",
       "      <td>0</td>\n",
       "      <td>0</td>\n",
       "      <td>96</td>\n",
       "      <td>0.00</td>\n",
       "    </tr>\n",
       "    <tr>\n",
       "      <th>9</th>\n",
       "      <td>3f207df678b143eea3cee63160fa8bed</td>\n",
       "      <td>mobile</td>\n",
       "      <td>informational</td>\n",
       "      <td>0</td>\n",
       "      <td>0</td>\n",
       "      <td>96</td>\n",
       "      <td>0.00</td>\n",
       "    </tr>\n",
       "    <tr>\n",
       "      <th>10</th>\n",
       "      <td>9b98b8c7a33c4b65b9aebfe6a799e6d9</td>\n",
       "      <td>web</td>\n",
       "      <td>bogo</td>\n",
       "      <td>5</td>\n",
       "      <td>5</td>\n",
       "      <td>168</td>\n",
       "      <td>1.00</td>\n",
       "    </tr>\n",
       "    <tr>\n",
       "      <th>11</th>\n",
       "      <td>9b98b8c7a33c4b65b9aebfe6a799e6d9</td>\n",
       "      <td>email</td>\n",
       "      <td>bogo</td>\n",
       "      <td>5</td>\n",
       "      <td>5</td>\n",
       "      <td>168</td>\n",
       "      <td>1.00</td>\n",
       "    </tr>\n",
       "    <tr>\n",
       "      <th>12</th>\n",
       "      <td>9b98b8c7a33c4b65b9aebfe6a799e6d9</td>\n",
       "      <td>mobile</td>\n",
       "      <td>bogo</td>\n",
       "      <td>5</td>\n",
       "      <td>5</td>\n",
       "      <td>168</td>\n",
       "      <td>1.00</td>\n",
       "    </tr>\n",
       "    <tr>\n",
       "      <th>13</th>\n",
       "      <td>0b1e1539f2cc45b7b9fa7c272da2e1d7</td>\n",
       "      <td>web</td>\n",
       "      <td>discount</td>\n",
       "      <td>20</td>\n",
       "      <td>5</td>\n",
       "      <td>240</td>\n",
       "      <td>0.25</td>\n",
       "    </tr>\n",
       "    <tr>\n",
       "      <th>14</th>\n",
       "      <td>0b1e1539f2cc45b7b9fa7c272da2e1d7</td>\n",
       "      <td>email</td>\n",
       "      <td>discount</td>\n",
       "      <td>20</td>\n",
       "      <td>5</td>\n",
       "      <td>240</td>\n",
       "      <td>0.25</td>\n",
       "    </tr>\n",
       "    <tr>\n",
       "      <th>15</th>\n",
       "      <td>2298d6c36e964ae4a3e7e9706d1fb8c2</td>\n",
       "      <td>web</td>\n",
       "      <td>discount</td>\n",
       "      <td>7</td>\n",
       "      <td>3</td>\n",
       "      <td>168</td>\n",
       "      <td>0.43</td>\n",
       "    </tr>\n",
       "    <tr>\n",
       "      <th>16</th>\n",
       "      <td>2298d6c36e964ae4a3e7e9706d1fb8c2</td>\n",
       "      <td>email</td>\n",
       "      <td>discount</td>\n",
       "      <td>7</td>\n",
       "      <td>3</td>\n",
       "      <td>168</td>\n",
       "      <td>0.43</td>\n",
       "    </tr>\n",
       "    <tr>\n",
       "      <th>17</th>\n",
       "      <td>2298d6c36e964ae4a3e7e9706d1fb8c2</td>\n",
       "      <td>mobile</td>\n",
       "      <td>discount</td>\n",
       "      <td>7</td>\n",
       "      <td>3</td>\n",
       "      <td>168</td>\n",
       "      <td>0.43</td>\n",
       "    </tr>\n",
       "    <tr>\n",
       "      <th>18</th>\n",
       "      <td>2298d6c36e964ae4a3e7e9706d1fb8c2</td>\n",
       "      <td>social</td>\n",
       "      <td>discount</td>\n",
       "      <td>7</td>\n",
       "      <td>3</td>\n",
       "      <td>168</td>\n",
       "      <td>0.43</td>\n",
       "    </tr>\n",
       "    <tr>\n",
       "      <th>19</th>\n",
       "      <td>fafdcd668e3743c1bb461111dcafc2a4</td>\n",
       "      <td>web</td>\n",
       "      <td>discount</td>\n",
       "      <td>10</td>\n",
       "      <td>2</td>\n",
       "      <td>240</td>\n",
       "      <td>0.20</td>\n",
       "    </tr>\n",
       "    <tr>\n",
       "      <th>20</th>\n",
       "      <td>fafdcd668e3743c1bb461111dcafc2a4</td>\n",
       "      <td>email</td>\n",
       "      <td>discount</td>\n",
       "      <td>10</td>\n",
       "      <td>2</td>\n",
       "      <td>240</td>\n",
       "      <td>0.20</td>\n",
       "    </tr>\n",
       "    <tr>\n",
       "      <th>21</th>\n",
       "      <td>fafdcd668e3743c1bb461111dcafc2a4</td>\n",
       "      <td>mobile</td>\n",
       "      <td>discount</td>\n",
       "      <td>10</td>\n",
       "      <td>2</td>\n",
       "      <td>240</td>\n",
       "      <td>0.20</td>\n",
       "    </tr>\n",
       "    <tr>\n",
       "      <th>22</th>\n",
       "      <td>fafdcd668e3743c1bb461111dcafc2a4</td>\n",
       "      <td>social</td>\n",
       "      <td>discount</td>\n",
       "      <td>10</td>\n",
       "      <td>2</td>\n",
       "      <td>240</td>\n",
       "      <td>0.20</td>\n",
       "    </tr>\n",
       "    <tr>\n",
       "      <th>23</th>\n",
       "      <td>5a8bc65990b245e5a138643cd4eb9837</td>\n",
       "      <td>email</td>\n",
       "      <td>informational</td>\n",
       "      <td>0</td>\n",
       "      <td>0</td>\n",
       "      <td>72</td>\n",
       "      <td>0.00</td>\n",
       "    </tr>\n",
       "    <tr>\n",
       "      <th>24</th>\n",
       "      <td>5a8bc65990b245e5a138643cd4eb9837</td>\n",
       "      <td>mobile</td>\n",
       "      <td>informational</td>\n",
       "      <td>0</td>\n",
       "      <td>0</td>\n",
       "      <td>72</td>\n",
       "      <td>0.00</td>\n",
       "    </tr>\n",
       "    <tr>\n",
       "      <th>25</th>\n",
       "      <td>5a8bc65990b245e5a138643cd4eb9837</td>\n",
       "      <td>social</td>\n",
       "      <td>informational</td>\n",
       "      <td>0</td>\n",
       "      <td>0</td>\n",
       "      <td>72</td>\n",
       "      <td>0.00</td>\n",
       "    </tr>\n",
       "    <tr>\n",
       "      <th>26</th>\n",
       "      <td>f19421c1d4aa40978ebb69ca19b0e20d</td>\n",
       "      <td>web</td>\n",
       "      <td>bogo</td>\n",
       "      <td>5</td>\n",
       "      <td>5</td>\n",
       "      <td>120</td>\n",
       "      <td>1.00</td>\n",
       "    </tr>\n",
       "    <tr>\n",
       "      <th>27</th>\n",
       "      <td>f19421c1d4aa40978ebb69ca19b0e20d</td>\n",
       "      <td>email</td>\n",
       "      <td>bogo</td>\n",
       "      <td>5</td>\n",
       "      <td>5</td>\n",
       "      <td>120</td>\n",
       "      <td>1.00</td>\n",
       "    </tr>\n",
       "    <tr>\n",
       "      <th>28</th>\n",
       "      <td>f19421c1d4aa40978ebb69ca19b0e20d</td>\n",
       "      <td>mobile</td>\n",
       "      <td>bogo</td>\n",
       "      <td>5</td>\n",
       "      <td>5</td>\n",
       "      <td>120</td>\n",
       "      <td>1.00</td>\n",
       "    </tr>\n",
       "    <tr>\n",
       "      <th>29</th>\n",
       "      <td>f19421c1d4aa40978ebb69ca19b0e20d</td>\n",
       "      <td>social</td>\n",
       "      <td>bogo</td>\n",
       "      <td>5</td>\n",
       "      <td>5</td>\n",
       "      <td>120</td>\n",
       "      <td>1.00</td>\n",
       "    </tr>\n",
       "    <tr>\n",
       "      <th>30</th>\n",
       "      <td>2906b810c7d4411798c6938adc9daaa5</td>\n",
       "      <td>web</td>\n",
       "      <td>discount</td>\n",
       "      <td>10</td>\n",
       "      <td>2</td>\n",
       "      <td>168</td>\n",
       "      <td>0.20</td>\n",
       "    </tr>\n",
       "    <tr>\n",
       "      <th>31</th>\n",
       "      <td>2906b810c7d4411798c6938adc9daaa5</td>\n",
       "      <td>email</td>\n",
       "      <td>discount</td>\n",
       "      <td>10</td>\n",
       "      <td>2</td>\n",
       "      <td>168</td>\n",
       "      <td>0.20</td>\n",
       "    </tr>\n",
       "    <tr>\n",
       "      <th>32</th>\n",
       "      <td>2906b810c7d4411798c6938adc9daaa5</td>\n",
       "      <td>mobile</td>\n",
       "      <td>discount</td>\n",
       "      <td>10</td>\n",
       "      <td>2</td>\n",
       "      <td>168</td>\n",
       "      <td>0.20</td>\n",
       "    </tr>\n",
       "  </tbody>\n",
       "</table>\n",
       "</div>"
      ],
      "text/plain": [
       "                            offer_id offer_notification_channel  \\\n",
       "0   ae264e3637204a6fb9bb56bc8210ddfd                      email   \n",
       "1   ae264e3637204a6fb9bb56bc8210ddfd                     mobile   \n",
       "2   ae264e3637204a6fb9bb56bc8210ddfd                     social   \n",
       "3   4d5c57ea9a6940dd891ad53e9dbe8da0                        web   \n",
       "4   4d5c57ea9a6940dd891ad53e9dbe8da0                      email   \n",
       "5   4d5c57ea9a6940dd891ad53e9dbe8da0                     mobile   \n",
       "6   4d5c57ea9a6940dd891ad53e9dbe8da0                     social   \n",
       "7   3f207df678b143eea3cee63160fa8bed                        web   \n",
       "8   3f207df678b143eea3cee63160fa8bed                      email   \n",
       "9   3f207df678b143eea3cee63160fa8bed                     mobile   \n",
       "10  9b98b8c7a33c4b65b9aebfe6a799e6d9                        web   \n",
       "11  9b98b8c7a33c4b65b9aebfe6a799e6d9                      email   \n",
       "12  9b98b8c7a33c4b65b9aebfe6a799e6d9                     mobile   \n",
       "13  0b1e1539f2cc45b7b9fa7c272da2e1d7                        web   \n",
       "14  0b1e1539f2cc45b7b9fa7c272da2e1d7                      email   \n",
       "15  2298d6c36e964ae4a3e7e9706d1fb8c2                        web   \n",
       "16  2298d6c36e964ae4a3e7e9706d1fb8c2                      email   \n",
       "17  2298d6c36e964ae4a3e7e9706d1fb8c2                     mobile   \n",
       "18  2298d6c36e964ae4a3e7e9706d1fb8c2                     social   \n",
       "19  fafdcd668e3743c1bb461111dcafc2a4                        web   \n",
       "20  fafdcd668e3743c1bb461111dcafc2a4                      email   \n",
       "21  fafdcd668e3743c1bb461111dcafc2a4                     mobile   \n",
       "22  fafdcd668e3743c1bb461111dcafc2a4                     social   \n",
       "23  5a8bc65990b245e5a138643cd4eb9837                      email   \n",
       "24  5a8bc65990b245e5a138643cd4eb9837                     mobile   \n",
       "25  5a8bc65990b245e5a138643cd4eb9837                     social   \n",
       "26  f19421c1d4aa40978ebb69ca19b0e20d                        web   \n",
       "27  f19421c1d4aa40978ebb69ca19b0e20d                      email   \n",
       "28  f19421c1d4aa40978ebb69ca19b0e20d                     mobile   \n",
       "29  f19421c1d4aa40978ebb69ca19b0e20d                     social   \n",
       "30  2906b810c7d4411798c6938adc9daaa5                        web   \n",
       "31  2906b810c7d4411798c6938adc9daaa5                      email   \n",
       "32  2906b810c7d4411798c6938adc9daaa5                     mobile   \n",
       "\n",
       "       offer_type  offer_spend_minimum  offer_reward  offer_duration  \\\n",
       "0            bogo                   10            10             168   \n",
       "1            bogo                   10            10             168   \n",
       "2            bogo                   10            10             168   \n",
       "3            bogo                   10            10             120   \n",
       "4            bogo                   10            10             120   \n",
       "5            bogo                   10            10             120   \n",
       "6            bogo                   10            10             120   \n",
       "7   informational                    0             0              96   \n",
       "8   informational                    0             0              96   \n",
       "9   informational                    0             0              96   \n",
       "10           bogo                    5             5             168   \n",
       "11           bogo                    5             5             168   \n",
       "12           bogo                    5             5             168   \n",
       "13       discount                   20             5             240   \n",
       "14       discount                   20             5             240   \n",
       "15       discount                    7             3             168   \n",
       "16       discount                    7             3             168   \n",
       "17       discount                    7             3             168   \n",
       "18       discount                    7             3             168   \n",
       "19       discount                   10             2             240   \n",
       "20       discount                   10             2             240   \n",
       "21       discount                   10             2             240   \n",
       "22       discount                   10             2             240   \n",
       "23  informational                    0             0              72   \n",
       "24  informational                    0             0              72   \n",
       "25  informational                    0             0              72   \n",
       "26           bogo                    5             5             120   \n",
       "27           bogo                    5             5             120   \n",
       "28           bogo                    5             5             120   \n",
       "29           bogo                    5             5             120   \n",
       "30       discount                   10             2             168   \n",
       "31       discount                   10             2             168   \n",
       "32       discount                   10             2             168   \n",
       "\n",
       "    offer_reward_vs_spend  \n",
       "0                    1.00  \n",
       "1                    1.00  \n",
       "2                    1.00  \n",
       "3                    1.00  \n",
       "4                    1.00  \n",
       "5                    1.00  \n",
       "6                    1.00  \n",
       "7                    0.00  \n",
       "8                    0.00  \n",
       "9                    0.00  \n",
       "10                   1.00  \n",
       "11                   1.00  \n",
       "12                   1.00  \n",
       "13                   0.25  \n",
       "14                   0.25  \n",
       "15                   0.43  \n",
       "16                   0.43  \n",
       "17                   0.43  \n",
       "18                   0.43  \n",
       "19                   0.20  \n",
       "20                   0.20  \n",
       "21                   0.20  \n",
       "22                   0.20  \n",
       "23                   0.00  \n",
       "24                   0.00  \n",
       "25                   0.00  \n",
       "26                   1.00  \n",
       "27                   1.00  \n",
       "28                   1.00  \n",
       "29                   1.00  \n",
       "30                   0.20  \n",
       "31                   0.20  \n",
       "32                   0.20  "
      ]
     },
     "metadata": {},
     "output_type": "display_data"
    }
   ],
   "source": [
    "display( offers )"
   ]
  },
  {
   "cell_type": "code",
   "execution_count": 45,
   "id": "8328ea40",
   "metadata": {},
   "outputs": [
    {
     "data": {
      "application/vnd.microsoft.datawrangler.viewer.v0+json": {
       "columns": [
        {
         "name": "('offer_id', 'offer_type')",
         "rawType": "object",
         "type": "unknown"
        },
        {
         "name": "offer_notification_channel",
         "rawType": "int64",
         "type": "integer"
        },
        {
         "name": "offer_spend_minimum",
         "rawType": "int64",
         "type": "integer"
        },
        {
         "name": "offer_reward",
         "rawType": "int64",
         "type": "integer"
        },
        {
         "name": "offer_duration",
         "rawType": "int64",
         "type": "integer"
        },
        {
         "name": "offer_reward_vs_spend",
         "rawType": "int64",
         "type": "integer"
        }
       ],
       "conversionMethod": "pd.DataFrame",
       "ref": "2a388cfa-a107-4d3a-98aa-edd7d5a95a9d",
       "rows": [
        [
         "('0b1e1539f2cc45b7b9fa7c272da2e1d7', 'discount')",
         "2",
         "2",
         "2",
         "2",
         "2"
        ],
        [
         "('2298d6c36e964ae4a3e7e9706d1fb8c2', 'discount')",
         "4",
         "4",
         "4",
         "4",
         "4"
        ],
        [
         "('2906b810c7d4411798c6938adc9daaa5', 'discount')",
         "3",
         "3",
         "3",
         "3",
         "3"
        ],
        [
         "('3f207df678b143eea3cee63160fa8bed', 'informational')",
         "3",
         "3",
         "3",
         "3",
         "3"
        ],
        [
         "('4d5c57ea9a6940dd891ad53e9dbe8da0', 'bogo')",
         "4",
         "4",
         "4",
         "4",
         "4"
        ],
        [
         "('5a8bc65990b245e5a138643cd4eb9837', 'informational')",
         "3",
         "3",
         "3",
         "3",
         "3"
        ],
        [
         "('9b98b8c7a33c4b65b9aebfe6a799e6d9', 'bogo')",
         "3",
         "3",
         "3",
         "3",
         "3"
        ],
        [
         "('ae264e3637204a6fb9bb56bc8210ddfd', 'bogo')",
         "3",
         "3",
         "3",
         "3",
         "3"
        ],
        [
         "('f19421c1d4aa40978ebb69ca19b0e20d', 'bogo')",
         "4",
         "4",
         "4",
         "4",
         "4"
        ],
        [
         "('fafdcd668e3743c1bb461111dcafc2a4', 'discount')",
         "4",
         "4",
         "4",
         "4",
         "4"
        ]
       ],
       "shape": {
        "columns": 5,
        "rows": 10
       }
      },
      "text/html": [
       "<div>\n",
       "<style scoped>\n",
       "    .dataframe tbody tr th:only-of-type {\n",
       "        vertical-align: middle;\n",
       "    }\n",
       "\n",
       "    .dataframe tbody tr th {\n",
       "        vertical-align: top;\n",
       "    }\n",
       "\n",
       "    .dataframe thead th {\n",
       "        text-align: right;\n",
       "    }\n",
       "</style>\n",
       "<table border=\"1\" class=\"dataframe\">\n",
       "  <thead>\n",
       "    <tr style=\"text-align: right;\">\n",
       "      <th></th>\n",
       "      <th></th>\n",
       "      <th>offer_notification_channel</th>\n",
       "      <th>offer_spend_minimum</th>\n",
       "      <th>offer_reward</th>\n",
       "      <th>offer_duration</th>\n",
       "      <th>offer_reward_vs_spend</th>\n",
       "    </tr>\n",
       "    <tr>\n",
       "      <th>offer_id</th>\n",
       "      <th>offer_type</th>\n",
       "      <th></th>\n",
       "      <th></th>\n",
       "      <th></th>\n",
       "      <th></th>\n",
       "      <th></th>\n",
       "    </tr>\n",
       "  </thead>\n",
       "  <tbody>\n",
       "    <tr>\n",
       "      <th>0b1e1539f2cc45b7b9fa7c272da2e1d7</th>\n",
       "      <th>discount</th>\n",
       "      <td>2</td>\n",
       "      <td>2</td>\n",
       "      <td>2</td>\n",
       "      <td>2</td>\n",
       "      <td>2</td>\n",
       "    </tr>\n",
       "    <tr>\n",
       "      <th>2298d6c36e964ae4a3e7e9706d1fb8c2</th>\n",
       "      <th>discount</th>\n",
       "      <td>4</td>\n",
       "      <td>4</td>\n",
       "      <td>4</td>\n",
       "      <td>4</td>\n",
       "      <td>4</td>\n",
       "    </tr>\n",
       "    <tr>\n",
       "      <th>2906b810c7d4411798c6938adc9daaa5</th>\n",
       "      <th>discount</th>\n",
       "      <td>3</td>\n",
       "      <td>3</td>\n",
       "      <td>3</td>\n",
       "      <td>3</td>\n",
       "      <td>3</td>\n",
       "    </tr>\n",
       "    <tr>\n",
       "      <th>3f207df678b143eea3cee63160fa8bed</th>\n",
       "      <th>informational</th>\n",
       "      <td>3</td>\n",
       "      <td>3</td>\n",
       "      <td>3</td>\n",
       "      <td>3</td>\n",
       "      <td>3</td>\n",
       "    </tr>\n",
       "    <tr>\n",
       "      <th>4d5c57ea9a6940dd891ad53e9dbe8da0</th>\n",
       "      <th>bogo</th>\n",
       "      <td>4</td>\n",
       "      <td>4</td>\n",
       "      <td>4</td>\n",
       "      <td>4</td>\n",
       "      <td>4</td>\n",
       "    </tr>\n",
       "    <tr>\n",
       "      <th>5a8bc65990b245e5a138643cd4eb9837</th>\n",
       "      <th>informational</th>\n",
       "      <td>3</td>\n",
       "      <td>3</td>\n",
       "      <td>3</td>\n",
       "      <td>3</td>\n",
       "      <td>3</td>\n",
       "    </tr>\n",
       "    <tr>\n",
       "      <th>9b98b8c7a33c4b65b9aebfe6a799e6d9</th>\n",
       "      <th>bogo</th>\n",
       "      <td>3</td>\n",
       "      <td>3</td>\n",
       "      <td>3</td>\n",
       "      <td>3</td>\n",
       "      <td>3</td>\n",
       "    </tr>\n",
       "    <tr>\n",
       "      <th>ae264e3637204a6fb9bb56bc8210ddfd</th>\n",
       "      <th>bogo</th>\n",
       "      <td>3</td>\n",
       "      <td>3</td>\n",
       "      <td>3</td>\n",
       "      <td>3</td>\n",
       "      <td>3</td>\n",
       "    </tr>\n",
       "    <tr>\n",
       "      <th>f19421c1d4aa40978ebb69ca19b0e20d</th>\n",
       "      <th>bogo</th>\n",
       "      <td>4</td>\n",
       "      <td>4</td>\n",
       "      <td>4</td>\n",
       "      <td>4</td>\n",
       "      <td>4</td>\n",
       "    </tr>\n",
       "    <tr>\n",
       "      <th>fafdcd668e3743c1bb461111dcafc2a4</th>\n",
       "      <th>discount</th>\n",
       "      <td>4</td>\n",
       "      <td>4</td>\n",
       "      <td>4</td>\n",
       "      <td>4</td>\n",
       "      <td>4</td>\n",
       "    </tr>\n",
       "  </tbody>\n",
       "</table>\n",
       "</div>"
      ],
      "text/plain": [
       "                                                offer_notification_channel  \\\n",
       "offer_id                         offer_type                                  \n",
       "0b1e1539f2cc45b7b9fa7c272da2e1d7 discount                                2   \n",
       "2298d6c36e964ae4a3e7e9706d1fb8c2 discount                                4   \n",
       "2906b810c7d4411798c6938adc9daaa5 discount                                3   \n",
       "3f207df678b143eea3cee63160fa8bed informational                           3   \n",
       "4d5c57ea9a6940dd891ad53e9dbe8da0 bogo                                    4   \n",
       "5a8bc65990b245e5a138643cd4eb9837 informational                           3   \n",
       "9b98b8c7a33c4b65b9aebfe6a799e6d9 bogo                                    3   \n",
       "ae264e3637204a6fb9bb56bc8210ddfd bogo                                    3   \n",
       "f19421c1d4aa40978ebb69ca19b0e20d bogo                                    4   \n",
       "fafdcd668e3743c1bb461111dcafc2a4 discount                                4   \n",
       "\n",
       "                                                offer_spend_minimum  \\\n",
       "offer_id                         offer_type                           \n",
       "0b1e1539f2cc45b7b9fa7c272da2e1d7 discount                         2   \n",
       "2298d6c36e964ae4a3e7e9706d1fb8c2 discount                         4   \n",
       "2906b810c7d4411798c6938adc9daaa5 discount                         3   \n",
       "3f207df678b143eea3cee63160fa8bed informational                    3   \n",
       "4d5c57ea9a6940dd891ad53e9dbe8da0 bogo                             4   \n",
       "5a8bc65990b245e5a138643cd4eb9837 informational                    3   \n",
       "9b98b8c7a33c4b65b9aebfe6a799e6d9 bogo                             3   \n",
       "ae264e3637204a6fb9bb56bc8210ddfd bogo                             3   \n",
       "f19421c1d4aa40978ebb69ca19b0e20d bogo                             4   \n",
       "fafdcd668e3743c1bb461111dcafc2a4 discount                         4   \n",
       "\n",
       "                                                offer_reward  offer_duration  \\\n",
       "offer_id                         offer_type                                    \n",
       "0b1e1539f2cc45b7b9fa7c272da2e1d7 discount                  2               2   \n",
       "2298d6c36e964ae4a3e7e9706d1fb8c2 discount                  4               4   \n",
       "2906b810c7d4411798c6938adc9daaa5 discount                  3               3   \n",
       "3f207df678b143eea3cee63160fa8bed informational             3               3   \n",
       "4d5c57ea9a6940dd891ad53e9dbe8da0 bogo                      4               4   \n",
       "5a8bc65990b245e5a138643cd4eb9837 informational             3               3   \n",
       "9b98b8c7a33c4b65b9aebfe6a799e6d9 bogo                      3               3   \n",
       "ae264e3637204a6fb9bb56bc8210ddfd bogo                      3               3   \n",
       "f19421c1d4aa40978ebb69ca19b0e20d bogo                      4               4   \n",
       "fafdcd668e3743c1bb461111dcafc2a4 discount                  4               4   \n",
       "\n",
       "                                                offer_reward_vs_spend  \n",
       "offer_id                         offer_type                            \n",
       "0b1e1539f2cc45b7b9fa7c272da2e1d7 discount                           2  \n",
       "2298d6c36e964ae4a3e7e9706d1fb8c2 discount                           4  \n",
       "2906b810c7d4411798c6938adc9daaa5 discount                           3  \n",
       "3f207df678b143eea3cee63160fa8bed informational                      3  \n",
       "4d5c57ea9a6940dd891ad53e9dbe8da0 bogo                               4  \n",
       "5a8bc65990b245e5a138643cd4eb9837 informational                      3  \n",
       "9b98b8c7a33c4b65b9aebfe6a799e6d9 bogo                               3  \n",
       "ae264e3637204a6fb9bb56bc8210ddfd bogo                               3  \n",
       "f19421c1d4aa40978ebb69ca19b0e20d bogo                               4  \n",
       "fafdcd668e3743c1bb461111dcafc2a4 discount                           4  "
      ]
     },
     "metadata": {},
     "output_type": "display_data"
    }
   ],
   "source": [
    "display( offers.groupby(['offer_id', 'offer_type']).count() )"
   ]
  },
  {
   "cell_type": "markdown",
   "id": "e104d26f",
   "metadata": {},
   "source": [
    "# User Table"
   ]
  },
  {
   "cell_type": "code",
   "execution_count": 46,
   "id": "803e1d1e",
   "metadata": {},
   "outputs": [
    {
     "data": {
      "application/vnd.microsoft.datawrangler.viewer.v0+json": {
       "columns": [
        {
         "name": "index",
         "rawType": "int64",
         "type": "integer"
        },
        {
         "name": "user_id",
         "rawType": "object",
         "type": "string"
        },
        {
         "name": "user_gender",
         "rawType": "category",
         "type": "unknown"
        },
        {
         "name": "user_age",
         "rawType": "float64",
         "type": "float"
        },
        {
         "name": "user_member_since",
         "rawType": "object",
         "type": "string"
        },
        {
         "name": "user_income",
         "rawType": "float64",
         "type": "float"
        },
        {
         "name": "user_tenure",
         "rawType": "int64",
         "type": "integer"
        },
        {
         "name": "user_age_group",
         "rawType": "category",
         "type": "unknown"
        },
        {
         "name": "user_income_group",
         "rawType": "category",
         "type": "unknown"
        }
       ],
       "conversionMethod": "pd.DataFrame",
       "ref": "08586a88-4cda-4b97-b4e8-8bf0ab3f593c",
       "rows": [
        [
         "0",
         "68be06ca386d4c31939f3a4f0e3dd783",
         "N/A",
         null,
         "2017-02-12 00:00:00.000000",
         null,
         "1",
         "N/A",
         "N/A"
        ],
        [
         "1",
         "0610b486422d4921ae7d2bf64640c50b",
         "F",
         "55.0",
         "2017-07-15 00:00:00.000000",
         "112000.0",
         "1",
         "55-64",
         ">100k"
        ],
        [
         "2",
         "38fe809add3b4fcf9315a9694bb96ff5",
         "N/A",
         null,
         "2018-07-12 00:00:00.000000",
         null,
         "0",
         "N/A",
         "N/A"
        ],
        [
         "3",
         "78afa995795e4d85b5d9ceeca43f5fef",
         "F",
         "75.0",
         "2017-05-09 00:00:00.000000",
         "100000.0",
         "1",
         "65+",
         ">100k"
        ],
        [
         "4",
         "a03223e636434f42ac4c3df47e8bac43",
         "N/A",
         null,
         "2017-08-04 00:00:00.000000",
         null,
         "1",
         "N/A",
         "N/A"
        ]
       ],
       "shape": {
        "columns": 8,
        "rows": 5
       }
      },
      "text/html": [
       "<div>\n",
       "<style scoped>\n",
       "    .dataframe tbody tr th:only-of-type {\n",
       "        vertical-align: middle;\n",
       "    }\n",
       "\n",
       "    .dataframe tbody tr th {\n",
       "        vertical-align: top;\n",
       "    }\n",
       "\n",
       "    .dataframe thead th {\n",
       "        text-align: right;\n",
       "    }\n",
       "</style>\n",
       "<table border=\"1\" class=\"dataframe\">\n",
       "  <thead>\n",
       "    <tr style=\"text-align: right;\">\n",
       "      <th></th>\n",
       "      <th>user_id</th>\n",
       "      <th>user_gender</th>\n",
       "      <th>user_age</th>\n",
       "      <th>user_member_since</th>\n",
       "      <th>user_income</th>\n",
       "      <th>user_tenure</th>\n",
       "      <th>user_age_group</th>\n",
       "      <th>user_income_group</th>\n",
       "    </tr>\n",
       "  </thead>\n",
       "  <tbody>\n",
       "    <tr>\n",
       "      <th>0</th>\n",
       "      <td>68be06ca386d4c31939f3a4f0e3dd783</td>\n",
       "      <td>N/A</td>\n",
       "      <td>NaN</td>\n",
       "      <td>2017-02-12 00:00:00.000000</td>\n",
       "      <td>NaN</td>\n",
       "      <td>1</td>\n",
       "      <td>N/A</td>\n",
       "      <td>N/A</td>\n",
       "    </tr>\n",
       "    <tr>\n",
       "      <th>1</th>\n",
       "      <td>0610b486422d4921ae7d2bf64640c50b</td>\n",
       "      <td>F</td>\n",
       "      <td>55.0</td>\n",
       "      <td>2017-07-15 00:00:00.000000</td>\n",
       "      <td>112000.0</td>\n",
       "      <td>1</td>\n",
       "      <td>55-64</td>\n",
       "      <td>&gt;100k</td>\n",
       "    </tr>\n",
       "    <tr>\n",
       "      <th>2</th>\n",
       "      <td>38fe809add3b4fcf9315a9694bb96ff5</td>\n",
       "      <td>N/A</td>\n",
       "      <td>NaN</td>\n",
       "      <td>2018-07-12 00:00:00.000000</td>\n",
       "      <td>NaN</td>\n",
       "      <td>0</td>\n",
       "      <td>N/A</td>\n",
       "      <td>N/A</td>\n",
       "    </tr>\n",
       "    <tr>\n",
       "      <th>3</th>\n",
       "      <td>78afa995795e4d85b5d9ceeca43f5fef</td>\n",
       "      <td>F</td>\n",
       "      <td>75.0</td>\n",
       "      <td>2017-05-09 00:00:00.000000</td>\n",
       "      <td>100000.0</td>\n",
       "      <td>1</td>\n",
       "      <td>65+</td>\n",
       "      <td>&gt;100k</td>\n",
       "    </tr>\n",
       "    <tr>\n",
       "      <th>4</th>\n",
       "      <td>a03223e636434f42ac4c3df47e8bac43</td>\n",
       "      <td>N/A</td>\n",
       "      <td>NaN</td>\n",
       "      <td>2017-08-04 00:00:00.000000</td>\n",
       "      <td>NaN</td>\n",
       "      <td>1</td>\n",
       "      <td>N/A</td>\n",
       "      <td>N/A</td>\n",
       "    </tr>\n",
       "  </tbody>\n",
       "</table>\n",
       "</div>"
      ],
      "text/plain": [
       "                            user_id user_gender  user_age  \\\n",
       "0  68be06ca386d4c31939f3a4f0e3dd783         N/A       NaN   \n",
       "1  0610b486422d4921ae7d2bf64640c50b           F      55.0   \n",
       "2  38fe809add3b4fcf9315a9694bb96ff5         N/A       NaN   \n",
       "3  78afa995795e4d85b5d9ceeca43f5fef           F      75.0   \n",
       "4  a03223e636434f42ac4c3df47e8bac43         N/A       NaN   \n",
       "\n",
       "            user_member_since  user_income  user_tenure user_age_group  \\\n",
       "0  2017-02-12 00:00:00.000000          NaN            1            N/A   \n",
       "1  2017-07-15 00:00:00.000000     112000.0            1          55-64   \n",
       "2  2018-07-12 00:00:00.000000          NaN            0            N/A   \n",
       "3  2017-05-09 00:00:00.000000     100000.0            1            65+   \n",
       "4  2017-08-04 00:00:00.000000          NaN            1            N/A   \n",
       "\n",
       "  user_income_group  \n",
       "0               N/A  \n",
       "1             >100k  \n",
       "2               N/A  \n",
       "3             >100k  \n",
       "4               N/A  "
      ]
     },
     "metadata": {},
     "output_type": "display_data"
    }
   ],
   "source": [
    "display(users.head())"
   ]
  },
  {
   "cell_type": "code",
   "execution_count": 47,
   "id": "3051edfa",
   "metadata": {},
   "outputs": [
    {
     "data": {
      "image/png": "[encoded data removed]",
      "text/plain": [
       "<Figure size 640x480 with 1 Axes>"
      ]
     },
     "metadata": {},
     "output_type": "display_data"
    },
    {
     "data": {
      "image/png": "[encoded data removed]",
      "text/plain": [
       "<Figure size 640x480 with 1 Axes>"
      ]
     },
     "metadata": {},
     "output_type": "display_data"
    },
    {
     "data": {
      "image/png": "[encoded data removed]",
      "text/plain": [
       "<Figure size 640x480 with 1 Axes>"
      ]
     },
     "metadata": {},
     "output_type": "display_data"
    },
    {
     "data": {
      "image/png": "[encoded data removed]",
      "text/plain": [
       "<Figure size 640x480 with 1 Axes>"
      ]
     },
     "metadata": {},
     "output_type": "display_data"
    }
   ],
   "source": [
    "# creating pie charts for the user information\n",
    "for cn in users.columns:\n",
    "    if cn not in ['user_id', 'user_member_since', 'user_income', 'user_age']:\n",
    "        agg_count = users.groupby(cn, observed=False, dropna=False).agg( count=('user_id', 'count') ).reset_index()\n",
    "        # agg_count['percent'] = round( agg_count['count'] / agg_count['count'].sum() * 100, 2 )\n",
    "\n",
    "        fig, ax = plt.subplots()\n",
    "        fig.suptitle(f'Users as part of {cn}')\n",
    "        ax.pie(agg_count['count'], labels=agg_count[cn], autopct='%1.1f%%' )\n",
    "\n",
    "        plt.savefig(f\"docs/images/demographics_{cn}.png\", bbox_inches='tight')"
   ]
  },
  {
   "cell_type": "markdown",
   "id": "8c9593d0",
   "metadata": {},
   "source": [
    "# Interactions"
   ]
  },
  {
   "cell_type": "code",
   "execution_count": 48,
   "id": "436c6797",
   "metadata": {},
   "outputs": [
    {
     "data": {
      "application/vnd.microsoft.datawrangler.viewer.v0+json": {
       "columns": [
        {
         "name": "index",
         "rawType": "int64",
         "type": "integer"
        },
        {
         "name": "user_id",
         "rawType": "object",
         "type": "string"
        },
        {
         "name": "offer_id",
         "rawType": "object",
         "type": "string"
        },
        {
         "name": "intxn_event_type",
         "rawType": "object",
         "type": "string"
        },
        {
         "name": "intxn_time",
         "rawType": "int64",
         "type": "integer"
        },
        {
         "name": "intxn_amount",
         "rawType": "float64",
         "type": "float"
        },
        {
         "name": "intxn_reward",
         "rawType": "float64",
         "type": "float"
        }
       ],
       "conversionMethod": "pd.DataFrame",
       "ref": "6313c6d2-444a-479b-9535-7d9dc61949e4",
       "rows": [
        [
         "0",
         "78afa995795e4d85b5d9ceeca43f5fef",
         "9b98b8c7a33c4b65b9aebfe6a799e6d9",
         "offer received",
         "0",
         null,
         null
        ],
        [
         "1",
         "a03223e636434f42ac4c3df47e8bac43",
         "0b1e1539f2cc45b7b9fa7c272da2e1d7",
         "offer received",
         "0",
         null,
         null
        ],
        [
         "2",
         "e2127556f4f64592b11af22de27a7932",
         "2906b810c7d4411798c6938adc9daaa5",
         "offer received",
         "0",
         null,
         null
        ],
        [
         "3",
         "8ec6ce2a7e7949b1bf142def7d0e0586",
         "fafdcd668e3743c1bb461111dcafc2a4",
         "offer received",
         "0",
         null,
         null
        ],
        [
         "4",
         "68617ca6246f4fbc85e91a2a49552598",
         "4d5c57ea9a6940dd891ad53e9dbe8da0",
         "offer received",
         "0",
         null,
         null
        ]
       ],
       "shape": {
        "columns": 6,
        "rows": 5
       }
      },
      "text/html": [
       "<div>\n",
       "<style scoped>\n",
       "    .dataframe tbody tr th:only-of-type {\n",
       "        vertical-align: middle;\n",
       "    }\n",
       "\n",
       "    .dataframe tbody tr th {\n",
       "        vertical-align: top;\n",
       "    }\n",
       "\n",
       "    .dataframe thead th {\n",
       "        text-align: right;\n",
       "    }\n",
       "</style>\n",
       "<table border=\"1\" class=\"dataframe\">\n",
       "  <thead>\n",
       "    <tr style=\"text-align: right;\">\n",
       "      <th></th>\n",
       "      <th>user_id</th>\n",
       "      <th>offer_id</th>\n",
       "      <th>intxn_event_type</th>\n",
       "      <th>intxn_time</th>\n",
       "      <th>intxn_amount</th>\n",
       "      <th>intxn_reward</th>\n",
       "    </tr>\n",
       "  </thead>\n",
       "  <tbody>\n",
       "    <tr>\n",
       "      <th>0</th>\n",
       "      <td>78afa995795e4d85b5d9ceeca43f5fef</td>\n",
       "      <td>9b98b8c7a33c4b65b9aebfe6a799e6d9</td>\n",
       "      <td>offer received</td>\n",
       "      <td>0</td>\n",
       "      <td>NaN</td>\n",
       "      <td>NaN</td>\n",
       "    </tr>\n",
       "    <tr>\n",
       "      <th>1</th>\n",
       "      <td>a03223e636434f42ac4c3df47e8bac43</td>\n",
       "      <td>0b1e1539f2cc45b7b9fa7c272da2e1d7</td>\n",
       "      <td>offer received</td>\n",
       "      <td>0</td>\n",
       "      <td>NaN</td>\n",
       "      <td>NaN</td>\n",
       "    </tr>\n",
       "    <tr>\n",
       "      <th>2</th>\n",
       "      <td>e2127556f4f64592b11af22de27a7932</td>\n",
       "      <td>2906b810c7d4411798c6938adc9daaa5</td>\n",
       "      <td>offer received</td>\n",
       "      <td>0</td>\n",
       "      <td>NaN</td>\n",
       "      <td>NaN</td>\n",
       "    </tr>\n",
       "    <tr>\n",
       "      <th>3</th>\n",
       "      <td>8ec6ce2a7e7949b1bf142def7d0e0586</td>\n",
       "      <td>fafdcd668e3743c1bb461111dcafc2a4</td>\n",
       "      <td>offer received</td>\n",
       "      <td>0</td>\n",
       "      <td>NaN</td>\n",
       "      <td>NaN</td>\n",
       "    </tr>\n",
       "    <tr>\n",
       "      <th>4</th>\n",
       "      <td>68617ca6246f4fbc85e91a2a49552598</td>\n",
       "      <td>4d5c57ea9a6940dd891ad53e9dbe8da0</td>\n",
       "      <td>offer received</td>\n",
       "      <td>0</td>\n",
       "      <td>NaN</td>\n",
       "      <td>NaN</td>\n",
       "    </tr>\n",
       "  </tbody>\n",
       "</table>\n",
       "</div>"
      ],
      "text/plain": [
       "                            user_id                          offer_id  \\\n",
       "0  78afa995795e4d85b5d9ceeca43f5fef  9b98b8c7a33c4b65b9aebfe6a799e6d9   \n",
       "1  a03223e636434f42ac4c3df47e8bac43  0b1e1539f2cc45b7b9fa7c272da2e1d7   \n",
       "2  e2127556f4f64592b11af22de27a7932  2906b810c7d4411798c6938adc9daaa5   \n",
       "3  8ec6ce2a7e7949b1bf142def7d0e0586  fafdcd668e3743c1bb461111dcafc2a4   \n",
       "4  68617ca6246f4fbc85e91a2a49552598  4d5c57ea9a6940dd891ad53e9dbe8da0   \n",
       "\n",
       "  intxn_event_type  intxn_time  intxn_amount  intxn_reward  \n",
       "0   offer received           0           NaN           NaN  \n",
       "1   offer received           0           NaN           NaN  \n",
       "2   offer received           0           NaN           NaN  \n",
       "3   offer received           0           NaN           NaN  \n",
       "4   offer received           0           NaN           NaN  "
      ]
     },
     "metadata": {},
     "output_type": "display_data"
    }
   ],
   "source": [
    "display(interactions.head())"
   ]
  },
  {
   "cell_type": "code",
   "execution_count": 52,
   "id": "b837f032",
   "metadata": {},
   "outputs": [
    {
     "data": {
      "image/png": "[encoded data removed]",
      "text/plain": [
       "<Figure size 640x480 with 1 Axes>"
      ]
     },
     "metadata": {},
     "output_type": "display_data"
    },
    {
     "data": {
      "image/png": "[encoded data removed]",
      "text/plain": [
       "<Figure size 640x480 with 1 Axes>"
      ]
     },
     "metadata": {},
     "output_type": "display_data"
    }
   ],
   "source": [
    "# Creating pie charts for the interactions\n",
    "for cn in interactions.columns:\n",
    "    if cn not in ['user_id', 'offer_id', 'intxn_time', 'intxn_amount']:\n",
    "        agg_count = interactions.groupby(cn, observed=False, dropna=True).agg( count=('user_id', 'count') ).reset_index()\n",
    "\n",
    "        fig, ax = plt.subplots()\n",
    "        fig.suptitle(f'Interactions as part of {cn}')\n",
    "        ax.pie(agg_count['count'], labels=agg_count[cn], autopct='%1.1f%%' )\n",
    "\n",
    "        plt.savefig(f\"docs/images/interactions_{cn}.png\", bbox_inches='tight')"
   ]
  },
  {
   "cell_type": "markdown",
   "id": "75f81508",
   "metadata": {},
   "source": [
    "# Interactions and Users"
   ]
  },
  {
   "cell_type": "code",
   "execution_count": 50,
   "id": "f6c9e30f",
   "metadata": {},
   "outputs": [
    {
     "data": {
      "application/vnd.microsoft.datawrangler.viewer.v0+json": {
       "columns": [
        {
         "name": "index",
         "rawType": "int64",
         "type": "integer"
        },
        {
         "name": "user_age_group",
         "rawType": "category",
         "type": "unknown"
        },
        {
         "name": "intxn_event_type",
         "rawType": "object",
         "type": "string"
        },
        {
         "name": "count",
         "rawType": "int64",
         "type": "integer"
        }
       ],
       "conversionMethod": "pd.DataFrame",
       "ref": "dac539a1-5a0c-4711-8da8-ffeca582637b",
       "rows": [
        [
         "0",
         "N/A",
         "offer completed",
         "1135"
        ],
        [
         "1",
         "N/A",
         "offer received",
         "9776"
        ],
        [
         "2",
         "N/A",
         "offer viewed",
         "7865"
        ],
        [
         "3",
         "N/A",
         "transaction",
         "14996"
        ],
        [
         "4",
         "18-24",
         "offer completed",
         "1466"
        ],
        [
         "5",
         "18-24",
         "offer received",
         "3938"
        ],
        [
         "6",
         "18-24",
         "offer viewed",
         "2721"
        ],
        [
         "7",
         "18-24",
         "transaction",
         "8929"
        ],
        [
         "8",
         "25-34",
         "offer completed",
         "2477"
        ],
        [
         "9",
         "25-34",
         "offer received",
         "6228"
        ],
        [
         "10",
         "25-34",
         "offer viewed",
         "4303"
        ],
        [
         "11",
         "25-34",
         "transaction",
         "14254"
        ],
        [
         "12",
         "35-44",
         "offer completed",
         "3889"
        ],
        [
         "13",
         "35-44",
         "offer received",
         "8381"
        ],
        [
         "14",
         "35-44",
         "offer viewed",
         "6494"
        ],
        [
         "15",
         "35-44",
         "transaction",
         "17338"
        ],
        [
         "16",
         "45-54",
         "offer completed",
         "6699"
        ],
        [
         "17",
         "45-54",
         "offer received",
         "13418"
        ],
        [
         "18",
         "45-54",
         "offer viewed",
         "10311"
        ],
        [
         "19",
         "45-54",
         "transaction",
         "23917"
        ],
        [
         "20",
         "55-64",
         "offer completed",
         "8076"
        ],
        [
         "21",
         "55-64",
         "offer received",
         "15463"
        ],
        [
         "22",
         "55-64",
         "offer viewed",
         "11673"
        ],
        [
         "23",
         "55-64",
         "transaction",
         "26351"
        ],
        [
         "24",
         "65+",
         "offer completed",
         "9837"
        ],
        [
         "25",
         "65+",
         "offer received",
         "19073"
        ],
        [
         "26",
         "65+",
         "offer viewed",
         "14358"
        ],
        [
         "27",
         "65+",
         "transaction",
         "33168"
        ]
       ],
       "shape": {
        "columns": 3,
        "rows": 28
       }
      },
      "text/html": [
       "<div>\n",
       "<style scoped>\n",
       "    .dataframe tbody tr th:only-of-type {\n",
       "        vertical-align: middle;\n",
       "    }\n",
       "\n",
       "    .dataframe tbody tr th {\n",
       "        vertical-align: top;\n",
       "    }\n",
       "\n",
       "    .dataframe thead th {\n",
       "        text-align: right;\n",
       "    }\n",
       "</style>\n",
       "<table border=\"1\" class=\"dataframe\">\n",
       "  <thead>\n",
       "    <tr style=\"text-align: right;\">\n",
       "      <th></th>\n",
       "      <th>user_age_group</th>\n",
       "      <th>intxn_event_type</th>\n",
       "      <th>count</th>\n",
       "    </tr>\n",
       "  </thead>\n",
       "  <tbody>\n",
       "    <tr>\n",
       "      <th>0</th>\n",
       "      <td>N/A</td>\n",
       "      <td>offer completed</td>\n",
       "      <td>1135</td>\n",
       "    </tr>\n",
       "    <tr>\n",
       "      <th>1</th>\n",
       "      <td>N/A</td>\n",
       "      <td>offer received</td>\n",
       "      <td>9776</td>\n",
       "    </tr>\n",
       "    <tr>\n",
       "      <th>2</th>\n",
       "      <td>N/A</td>\n",
       "      <td>offer viewed</td>\n",
       "      <td>7865</td>\n",
       "    </tr>\n",
       "    <tr>\n",
       "      <th>3</th>\n",
       "      <td>N/A</td>\n",
       "      <td>transaction</td>\n",
       "      <td>14996</td>\n",
       "    </tr>\n",
       "    <tr>\n",
       "      <th>4</th>\n",
       "      <td>18-24</td>\n",
       "      <td>offer completed</td>\n",
       "      <td>1466</td>\n",
       "    </tr>\n",
       "    <tr>\n",
       "      <th>5</th>\n",
       "      <td>18-24</td>\n",
       "      <td>offer received</td>\n",
       "      <td>3938</td>\n",
       "    </tr>\n",
       "    <tr>\n",
       "      <th>6</th>\n",
       "      <td>18-24</td>\n",
       "      <td>offer viewed</td>\n",
       "      <td>2721</td>\n",
       "    </tr>\n",
       "    <tr>\n",
       "      <th>7</th>\n",
       "      <td>18-24</td>\n",
       "      <td>transaction</td>\n",
       "      <td>8929</td>\n",
       "    </tr>\n",
       "    <tr>\n",
       "      <th>8</th>\n",
       "      <td>25-34</td>\n",
       "      <td>offer completed</td>\n",
       "      <td>2477</td>\n",
       "    </tr>\n",
       "    <tr>\n",
       "      <th>9</th>\n",
       "      <td>25-34</td>\n",
       "      <td>offer received</td>\n",
       "      <td>6228</td>\n",
       "    </tr>\n",
       "    <tr>\n",
       "      <th>10</th>\n",
       "      <td>25-34</td>\n",
       "      <td>offer viewed</td>\n",
       "      <td>4303</td>\n",
       "    </tr>\n",
       "    <tr>\n",
       "      <th>11</th>\n",
       "      <td>25-34</td>\n",
       "      <td>transaction</td>\n",
       "      <td>14254</td>\n",
       "    </tr>\n",
       "    <tr>\n",
       "      <th>12</th>\n",
       "      <td>35-44</td>\n",
       "      <td>offer completed</td>\n",
       "      <td>3889</td>\n",
       "    </tr>\n",
       "    <tr>\n",
       "      <th>13</th>\n",
       "      <td>35-44</td>\n",
       "      <td>offer received</td>\n",
       "      <td>8381</td>\n",
       "    </tr>\n",
       "    <tr>\n",
       "      <th>14</th>\n",
       "      <td>35-44</td>\n",
       "      <td>offer viewed</td>\n",
       "      <td>6494</td>\n",
       "    </tr>\n",
       "    <tr>\n",
       "      <th>15</th>\n",
       "      <td>35-44</td>\n",
       "      <td>transaction</td>\n",
       "      <td>17338</td>\n",
       "    </tr>\n",
       "    <tr>\n",
       "      <th>16</th>\n",
       "      <td>45-54</td>\n",
       "      <td>offer completed</td>\n",
       "      <td>6699</td>\n",
       "    </tr>\n",
       "    <tr>\n",
       "      <th>17</th>\n",
       "      <td>45-54</td>\n",
       "      <td>offer received</td>\n",
       "      <td>13418</td>\n",
       "    </tr>\n",
       "    <tr>\n",
       "      <th>18</th>\n",
       "      <td>45-54</td>\n",
       "      <td>offer viewed</td>\n",
       "      <td>10311</td>\n",
       "    </tr>\n",
       "    <tr>\n",
       "      <th>19</th>\n",
       "      <td>45-54</td>\n",
       "      <td>transaction</td>\n",
       "      <td>23917</td>\n",
       "    </tr>\n",
       "    <tr>\n",
       "      <th>20</th>\n",
       "      <td>55-64</td>\n",
       "      <td>offer completed</td>\n",
       "      <td>8076</td>\n",
       "    </tr>\n",
       "    <tr>\n",
       "      <th>21</th>\n",
       "      <td>55-64</td>\n",
       "      <td>offer received</td>\n",
       "      <td>15463</td>\n",
       "    </tr>\n",
       "    <tr>\n",
       "      <th>22</th>\n",
       "      <td>55-64</td>\n",
       "      <td>offer viewed</td>\n",
       "      <td>11673</td>\n",
       "    </tr>\n",
       "    <tr>\n",
       "      <th>23</th>\n",
       "      <td>55-64</td>\n",
       "      <td>transaction</td>\n",
       "      <td>26351</td>\n",
       "    </tr>\n",
       "    <tr>\n",
       "      <th>24</th>\n",
       "      <td>65+</td>\n",
       "      <td>offer completed</td>\n",
       "      <td>9837</td>\n",
       "    </tr>\n",
       "    <tr>\n",
       "      <th>25</th>\n",
       "      <td>65+</td>\n",
       "      <td>offer received</td>\n",
       "      <td>19073</td>\n",
       "    </tr>\n",
       "    <tr>\n",
       "      <th>26</th>\n",
       "      <td>65+</td>\n",
       "      <td>offer viewed</td>\n",
       "      <td>14358</td>\n",
       "    </tr>\n",
       "    <tr>\n",
       "      <th>27</th>\n",
       "      <td>65+</td>\n",
       "      <td>transaction</td>\n",
       "      <td>33168</td>\n",
       "    </tr>\n",
       "  </tbody>\n",
       "</table>\n",
       "</div>"
      ],
      "text/plain": [
       "   user_age_group intxn_event_type  count\n",
       "0             N/A  offer completed   1135\n",
       "1             N/A   offer received   9776\n",
       "2             N/A     offer viewed   7865\n",
       "3             N/A      transaction  14996\n",
       "4           18-24  offer completed   1466\n",
       "5           18-24   offer received   3938\n",
       "6           18-24     offer viewed   2721\n",
       "7           18-24      transaction   8929\n",
       "8           25-34  offer completed   2477\n",
       "9           25-34   offer received   6228\n",
       "10          25-34     offer viewed   4303\n",
       "11          25-34      transaction  14254\n",
       "12          35-44  offer completed   3889\n",
       "13          35-44   offer received   8381\n",
       "14          35-44     offer viewed   6494\n",
       "15          35-44      transaction  17338\n",
       "16          45-54  offer completed   6699\n",
       "17          45-54   offer received  13418\n",
       "18          45-54     offer viewed  10311\n",
       "19          45-54      transaction  23917\n",
       "20          55-64  offer completed   8076\n",
       "21          55-64   offer received  15463\n",
       "22          55-64     offer viewed  11673\n",
       "23          55-64      transaction  26351\n",
       "24            65+  offer completed   9837\n",
       "25            65+   offer received  19073\n",
       "26            65+     offer viewed  14358\n",
       "27            65+      transaction  33168"
      ]
     },
     "execution_count": 50,
     "metadata": {},
     "output_type": "execute_result"
    }
   ],
   "source": [
    "# Joining the interactions with the users to try and get an understanding of the user demographics for the interactions\n",
    "intxtn_by_users = pd.merge( users, interactions, how='inner', on='user_id' )\n",
    "intxtn_by_age_group = intxtn_by_users.groupby(['user_age_group', 'intxn_event_type'], observed=False).agg( count=('user_id', 'count') ).reset_index()\n",
    "intxtn_by_age_group"
   ]
  },
  {
   "cell_type": "code",
   "execution_count": 51,
   "id": "ec80db73",
   "metadata": {},
   "outputs": [
    {
     "data": {
      "image/png": "[encoded data removed]",
      "text/plain": [
       "<Figure size 621.736x500 with 1 Axes>"
      ]
     },
     "metadata": {},
     "output_type": "display_data"
    }
   ],
   "source": [
    "# Grouping the interactions by age group and event type\n",
    "event_type_by_age_group_chart = sns.catplot(\n",
    "    data=intxtn_by_age_group, kind='bar',\n",
    "    x='intxn_event_type', y='count', \n",
    "    hue='user_age_group', \n",
    "    height=5, palette='viridis'\n",
    ")\n",
    "\n",
    "event_type_by_age_group_chart.set_axis_labels( 'Event Type', 'Count' )\n",
    "sns.move_legend(event_type_by_age_group_chart, loc='center right', title='User Age Group')"
   ]
  }
 ],
 "metadata": {
  "kernelspec": {
   "display_name": ".venv",
   "language": "python",
   "name": "python3"
  },
  "language_info": {
   "codemirror_mode": {
    "name": "ipython",
    "version": 3
   },
   "file_extension": ".py",
   "mimetype": "text/x-python",
   "name": "python",
   "nbconvert_exporter": "python",
   "pygments_lexer": "ipython3",
   "version": "3.13.3"
  }
 },
 "nbformat": 4,
 "nbformat_minor": 5
}
