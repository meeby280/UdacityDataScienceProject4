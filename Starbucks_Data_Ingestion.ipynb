{
 "cells": [
  {
   "cell_type": "code",
   "execution_count": 11,
   "id": "99618e43",
   "metadata": {},
   "outputs": [],
   "source": [
    "import pandas as pd\n",
    "import numpy as np\n",
    "\n",
    "from functools import reduce\n",
    "\n",
    "from sqlalchemy import create_engine\n",
    "\n",
    "from datetime import date"
   ]
  },
  {
   "cell_type": "code",
   "execution_count": null,
   "id": "f8d233d9",
   "metadata": {},
   "outputs": [
    {
     "data": {
      "application/vnd.microsoft.datawrangler.viewer.v0+json": {
       "columns": [
        {
         "name": "index",
         "rawType": "int64",
         "type": "integer"
        },
        {
         "name": "user_id",
         "rawType": "object",
         "type": "string"
        },
        {
         "name": "intxn_event_type",
         "rawType": "object",
         "type": "string"
        },
        {
         "name": "intxn_value",
         "rawType": "object",
         "type": "unknown"
        },
        {
         "name": "intxn_time",
         "rawType": "int64",
         "type": "integer"
        }
       ],
       "conversionMethod": "pd.DataFrame",
       "ref": "8553e3e0-7731-44a0-8c5c-92f913f5a46b",
       "rows": [
        [
         "0",
         "78afa995795e4d85b5d9ceeca43f5fef",
         "offer received",
         "{'offer id': '9b98b8c7a33c4b65b9aebfe6a799e6d9'}",
         "0"
        ],
        [
         "1",
         "a03223e636434f42ac4c3df47e8bac43",
         "offer received",
         "{'offer id': '0b1e1539f2cc45b7b9fa7c272da2e1d7'}",
         "0"
        ],
        [
         "2",
         "e2127556f4f64592b11af22de27a7932",
         "offer received",
         "{'offer id': '2906b810c7d4411798c6938adc9daaa5'}",
         "0"
        ],
        [
         "3",
         "8ec6ce2a7e7949b1bf142def7d0e0586",
         "offer received",
         "{'offer id': 'fafdcd668e3743c1bb461111dcafc2a4'}",
         "0"
        ],
        [
         "4",
         "68617ca6246f4fbc85e91a2a49552598",
         "offer received",
         "{'offer id': '4d5c57ea9a6940dd891ad53e9dbe8da0'}",
         "0"
        ],
        [
         "5",
         "389bc3fa690240e798340f5a15918d5c",
         "offer received",
         "{'offer id': 'f19421c1d4aa40978ebb69ca19b0e20d'}",
         "0"
        ],
        [
         "6",
         "c4863c7985cf408faee930f111475da3",
         "offer received",
         "{'offer id': '2298d6c36e964ae4a3e7e9706d1fb8c2'}",
         "0"
        ],
        [
         "7",
         "2eeac8d8feae4a8cad5a6af0499a211d",
         "offer received",
         "{'offer id': '3f207df678b143eea3cee63160fa8bed'}",
         "0"
        ],
        [
         "8",
         "aa4862eba776480b8bb9c68455b8c2e1",
         "offer received",
         "{'offer id': '0b1e1539f2cc45b7b9fa7c272da2e1d7'}",
         "0"
        ],
        [
         "9",
         "31dda685af34476cad5bc968bdb01c53",
         "offer received",
         "{'offer id': '0b1e1539f2cc45b7b9fa7c272da2e1d7'}",
         "0"
        ],
        [
         "10",
         "744d603ef08c4f33af5a61c8c7628d1c",
         "offer received",
         "{'offer id': '0b1e1539f2cc45b7b9fa7c272da2e1d7'}",
         "0"
        ],
        [
         "11",
         "3d02345581554e81b7b289ab5e288078",
         "offer received",
         "{'offer id': '0b1e1539f2cc45b7b9fa7c272da2e1d7'}",
         "0"
        ],
        [
         "12",
         "4b0da7e80e5945209a1fdddfe813dbe0",
         "offer received",
         "{'offer id': 'ae264e3637204a6fb9bb56bc8210ddfd'}",
         "0"
        ],
        [
         "13",
         "c27e0d6ab72c455a8bb66d980963de60",
         "offer received",
         "{'offer id': '3f207df678b143eea3cee63160fa8bed'}",
         "0"
        ],
        [
         "14",
         "d53717f5400c4e84affdaeda9dd926b3",
         "offer received",
         "{'offer id': '0b1e1539f2cc45b7b9fa7c272da2e1d7'}",
         "0"
        ],
        [
         "15",
         "f806632c011441378d4646567f357a21",
         "offer received",
         "{'offer id': 'fafdcd668e3743c1bb461111dcafc2a4'}",
         "0"
        ],
        [
         "16",
         "d058f73bf8674a26a95227db098147b1",
         "offer received",
         "{'offer id': '0b1e1539f2cc45b7b9fa7c272da2e1d7'}",
         "0"
        ],
        [
         "17",
         "65aba5c617294649aeb624da249e1ee5",
         "offer received",
         "{'offer id': '2906b810c7d4411798c6938adc9daaa5'}",
         "0"
        ],
        [
         "18",
         "ebe7ef46ea6f4963a7dd49f501b26779",
         "offer received",
         "{'offer id': '9b98b8c7a33c4b65b9aebfe6a799e6d9'}",
         "0"
        ],
        [
         "19",
         "1e9420836d554513ab90eba98552d0a9",
         "offer received",
         "{'offer id': 'ae264e3637204a6fb9bb56bc8210ddfd'}",
         "0"
        ],
        [
         "20",
         "868317b9be554cb18e50bc68484749a2",
         "offer received",
         "{'offer id': '2906b810c7d4411798c6938adc9daaa5'}",
         "0"
        ],
        [
         "21",
         "f082d80f0aac47a99173ba8ef8fc1909",
         "offer received",
         "{'offer id': '9b98b8c7a33c4b65b9aebfe6a799e6d9'}",
         "0"
        ],
        [
         "22",
         "102e9454054946fda62242d2e176fdce",
         "offer received",
         "{'offer id': '4d5c57ea9a6940dd891ad53e9dbe8da0'}",
         "0"
        ],
        [
         "23",
         "4beeb3ed64dd4898b0edf2f6b67426d3",
         "offer received",
         "{'offer id': '2906b810c7d4411798c6938adc9daaa5'}",
         "0"
        ],
        [
         "24",
         "9f30b375d7bd4c62a884ffe7034e09ee",
         "offer received",
         "{'offer id': '2298d6c36e964ae4a3e7e9706d1fb8c2'}",
         "0"
        ],
        [
         "25",
         "25c906289d154b66bf579693f89481c9",
         "offer received",
         "{'offer id': '2906b810c7d4411798c6938adc9daaa5'}",
         "0"
        ],
        [
         "26",
         "6e014185620b49bd98749f728747572f",
         "offer received",
         "{'offer id': 'f19421c1d4aa40978ebb69ca19b0e20d'}",
         "0"
        ],
        [
         "27",
         "02c083884c7d45b39cc68e1314fec56c",
         "offer received",
         "{'offer id': 'ae264e3637204a6fb9bb56bc8210ddfd'}",
         "0"
        ],
        [
         "28",
         "c0d210398dee4a0895b24444a5fcd1d2",
         "offer received",
         "{'offer id': '9b98b8c7a33c4b65b9aebfe6a799e6d9'}",
         "0"
        ],
        [
         "29",
         "8be4463721e14d7fa600686bf8c8b2ed",
         "offer received",
         "{'offer id': 'fafdcd668e3743c1bb461111dcafc2a4'}",
         "0"
        ],
        [
         "30",
         "57dd18ec5ddc46828afb81ec5977bef2",
         "offer received",
         "{'offer id': '9b98b8c7a33c4b65b9aebfe6a799e6d9'}",
         "0"
        ],
        [
         "31",
         "be8a5d1981a2458d90b255ddc7e0d174",
         "offer received",
         "{'offer id': '5a8bc65990b245e5a138643cd4eb9837'}",
         "0"
        ],
        [
         "32",
         "a3b9b4bf115e4564933ea2e4bc936843",
         "offer received",
         "{'offer id': '9b98b8c7a33c4b65b9aebfe6a799e6d9'}",
         "0"
        ],
        [
         "33",
         "7584948ea6d04f94b8798624706261c2",
         "offer received",
         "{'offer id': '4d5c57ea9a6940dd891ad53e9dbe8da0'}",
         "0"
        ],
        [
         "34",
         "9c64321646bf40f6ad1bc98864eaa6b8",
         "offer received",
         "{'offer id': 'fafdcd668e3743c1bb461111dcafc2a4'}",
         "0"
        ],
        [
         "35",
         "676506bad68e4161b9bbaffeb039626b",
         "offer received",
         "{'offer id': 'ae264e3637204a6fb9bb56bc8210ddfd'}",
         "0"
        ],
        [
         "36",
         "9fa9ae8f57894cc9a3b8a9bbe0fc1b2f",
         "offer received",
         "{'offer id': '2906b810c7d4411798c6938adc9daaa5'}",
         "0"
        ],
        [
         "37",
         "020d3a52b9ce432ea5f98fc58e9bfcc4",
         "offer received",
         "{'offer id': '2906b810c7d4411798c6938adc9daaa5'}",
         "0"
        ],
        [
         "38",
         "32fbf97e89274e8a935903f2ad095e1f",
         "offer received",
         "{'offer id': '9b98b8c7a33c4b65b9aebfe6a799e6d9'}",
         "0"
        ],
        [
         "39",
         "fe8264108d5b4f198453bbb1fa7ca6c9",
         "offer received",
         "{'offer id': 'ae264e3637204a6fb9bb56bc8210ddfd'}",
         "0"
        ],
        [
         "40",
         "b7a66e629b134079a9bc7120c7b9947b",
         "offer received",
         "{'offer id': 'f19421c1d4aa40978ebb69ca19b0e20d'}",
         "0"
        ],
        [
         "41",
         "ca82e1ebc759402c8ab95c341755bdf1",
         "offer received",
         "{'offer id': '2906b810c7d4411798c6938adc9daaa5'}",
         "0"
        ],
        [
         "42",
         "e8fe7ffcf1634713a819d48447737c90",
         "offer received",
         "{'offer id': '4d5c57ea9a6940dd891ad53e9dbe8da0'}",
         "0"
        ],
        [
         "43",
         "d3f146b615514c6380b168bb3df5f05b",
         "offer received",
         "{'offer id': 'f19421c1d4aa40978ebb69ca19b0e20d'}",
         "0"
        ],
        [
         "44",
         "a5a6ef2b78a04ddc9f374dd7c7f60bff",
         "offer received",
         "{'offer id': '5a8bc65990b245e5a138643cd4eb9837'}",
         "0"
        ],
        [
         "45",
         "2e87ba0fba1a4d1a8614af771f07a94d",
         "offer received",
         "{'offer id': '2298d6c36e964ae4a3e7e9706d1fb8c2'}",
         "0"
        ],
        [
         "46",
         "39dbcf43e24d41f4bbf0f134157e0e1e",
         "offer received",
         "{'offer id': 'ae264e3637204a6fb9bb56bc8210ddfd'}",
         "0"
        ],
        [
         "47",
         "8c7df0c393db488aac3e58b06a7ea5f9",
         "offer received",
         "{'offer id': '2298d6c36e964ae4a3e7e9706d1fb8c2'}",
         "0"
        ],
        [
         "48",
         "3a1242dda16248728e350c4bdeb21972",
         "offer received",
         "{'offer id': '4d5c57ea9a6940dd891ad53e9dbe8da0'}",
         "0"
        ],
        [
         "49",
         "8045834137dc47faa24f2c4547969f33",
         "offer received",
         "{'offer id': 'f19421c1d4aa40978ebb69ca19b0e20d'}",
         "0"
        ]
       ],
       "shape": {
        "columns": 4,
        "rows": 306534
       }
      },
      "text/html": [
       "<div>\n",
       "<style scoped>\n",
       "    .dataframe tbody tr th:only-of-type {\n",
       "        vertical-align: middle;\n",
       "    }\n",
       "\n",
       "    .dataframe tbody tr th {\n",
       "        vertical-align: top;\n",
       "    }\n",
       "\n",
       "    .dataframe thead th {\n",
       "        text-align: right;\n",
       "    }\n",
       "</style>\n",
       "<table border=\"1\" class=\"dataframe\">\n",
       "  <thead>\n",
       "    <tr style=\"text-align: right;\">\n",
       "      <th></th>\n",
       "      <th>user_id</th>\n",
       "      <th>intxn_event_type</th>\n",
       "      <th>intxn_value</th>\n",
       "      <th>intxn_time</th>\n",
       "    </tr>\n",
       "  </thead>\n",
       "  <tbody>\n",
       "    <tr>\n",
       "      <th>0</th>\n",
       "      <td>78afa995795e4d85b5d9ceeca43f5fef</td>\n",
       "      <td>offer received</td>\n",
       "      <td>{'offer id': '9b98b8c7a33c4b65b9aebfe6a799e6d9'}</td>\n",
       "      <td>0</td>\n",
       "    </tr>\n",
       "    <tr>\n",
       "      <th>1</th>\n",
       "      <td>a03223e636434f42ac4c3df47e8bac43</td>\n",
       "      <td>offer received</td>\n",
       "      <td>{'offer id': '0b1e1539f2cc45b7b9fa7c272da2e1d7'}</td>\n",
       "      <td>0</td>\n",
       "    </tr>\n",
       "    <tr>\n",
       "      <th>2</th>\n",
       "      <td>e2127556f4f64592b11af22de27a7932</td>\n",
       "      <td>offer received</td>\n",
       "      <td>{'offer id': '2906b810c7d4411798c6938adc9daaa5'}</td>\n",
       "      <td>0</td>\n",
       "    </tr>\n",
       "    <tr>\n",
       "      <th>3</th>\n",
       "      <td>8ec6ce2a7e7949b1bf142def7d0e0586</td>\n",
       "      <td>offer received</td>\n",
       "      <td>{'offer id': 'fafdcd668e3743c1bb461111dcafc2a4'}</td>\n",
       "      <td>0</td>\n",
       "    </tr>\n",
       "    <tr>\n",
       "      <th>4</th>\n",
       "      <td>68617ca6246f4fbc85e91a2a49552598</td>\n",
       "      <td>offer received</td>\n",
       "      <td>{'offer id': '4d5c57ea9a6940dd891ad53e9dbe8da0'}</td>\n",
       "      <td>0</td>\n",
       "    </tr>\n",
       "    <tr>\n",
       "      <th>...</th>\n",
       "      <td>...</td>\n",
       "      <td>...</td>\n",
       "      <td>...</td>\n",
       "      <td>...</td>\n",
       "    </tr>\n",
       "    <tr>\n",
       "      <th>306529</th>\n",
       "      <td>b3a1272bc9904337b331bf348c3e8c17</td>\n",
       "      <td>transaction</td>\n",
       "      <td>{'amount': 1.5899999999999999}</td>\n",
       "      <td>714</td>\n",
       "    </tr>\n",
       "    <tr>\n",
       "      <th>306530</th>\n",
       "      <td>68213b08d99a4ae1b0dcb72aebd9aa35</td>\n",
       "      <td>transaction</td>\n",
       "      <td>{'amount': 9.53}</td>\n",
       "      <td>714</td>\n",
       "    </tr>\n",
       "    <tr>\n",
       "      <th>306531</th>\n",
       "      <td>a00058cf10334a308c68e7631c529907</td>\n",
       "      <td>transaction</td>\n",
       "      <td>{'amount': 3.61}</td>\n",
       "      <td>714</td>\n",
       "    </tr>\n",
       "    <tr>\n",
       "      <th>306532</th>\n",
       "      <td>76ddbd6576844afe811f1a3c0fbb5bec</td>\n",
       "      <td>transaction</td>\n",
       "      <td>{'amount': 3.5300000000000002}</td>\n",
       "      <td>714</td>\n",
       "    </tr>\n",
       "    <tr>\n",
       "      <th>306533</th>\n",
       "      <td>c02b10e8752c4d8e9b73f918558531f7</td>\n",
       "      <td>transaction</td>\n",
       "      <td>{'amount': 4.05}</td>\n",
       "      <td>714</td>\n",
       "    </tr>\n",
       "  </tbody>\n",
       "</table>\n",
       "<p>306534 rows × 4 columns</p>\n",
       "</div>"
      ],
      "text/plain": [
       "                                 user_id intxn_event_type  \\\n",
       "0       78afa995795e4d85b5d9ceeca43f5fef   offer received   \n",
       "1       a03223e636434f42ac4c3df47e8bac43   offer received   \n",
       "2       e2127556f4f64592b11af22de27a7932   offer received   \n",
       "3       8ec6ce2a7e7949b1bf142def7d0e0586   offer received   \n",
       "4       68617ca6246f4fbc85e91a2a49552598   offer received   \n",
       "...                                  ...              ...   \n",
       "306529  b3a1272bc9904337b331bf348c3e8c17      transaction   \n",
       "306530  68213b08d99a4ae1b0dcb72aebd9aa35      transaction   \n",
       "306531  a00058cf10334a308c68e7631c529907      transaction   \n",
       "306532  76ddbd6576844afe811f1a3c0fbb5bec      transaction   \n",
       "306533  c02b10e8752c4d8e9b73f918558531f7      transaction   \n",
       "\n",
       "                                             intxn_value  intxn_time  \n",
       "0       {'offer id': '9b98b8c7a33c4b65b9aebfe6a799e6d9'}           0  \n",
       "1       {'offer id': '0b1e1539f2cc45b7b9fa7c272da2e1d7'}           0  \n",
       "2       {'offer id': '2906b810c7d4411798c6938adc9daaa5'}           0  \n",
       "3       {'offer id': 'fafdcd668e3743c1bb461111dcafc2a4'}           0  \n",
       "4       {'offer id': '4d5c57ea9a6940dd891ad53e9dbe8da0'}           0  \n",
       "...                                                  ...         ...  \n",
       "306529                    {'amount': 1.5899999999999999}         714  \n",
       "306530                                  {'amount': 9.53}         714  \n",
       "306531                                  {'amount': 3.61}         714  \n",
       "306532                    {'amount': 3.5300000000000002}         714  \n",
       "306533                                  {'amount': 4.05}         714  \n",
       "\n",
       "[306534 rows x 4 columns]"
      ]
     },
     "metadata": {},
     "output_type": "display_data"
    },
    {
     "data": {
      "application/vnd.microsoft.datawrangler.viewer.v0+json": {
       "columns": [
        {
         "name": "index",
         "rawType": "int64",
         "type": "integer"
        },
        {
         "name": "offer id",
         "rawType": "object",
         "type": "unknown"
        },
        {
         "name": "amount",
         "rawType": "float64",
         "type": "float"
        },
        {
         "name": "offer_id",
         "rawType": "object",
         "type": "unknown"
        },
        {
         "name": "reward",
         "rawType": "float64",
         "type": "float"
        }
       ],
       "conversionMethod": "pd.DataFrame",
       "ref": "7714e705-790c-446a-a56b-1b02680e6c33",
       "rows": [
        [
         "0",
         "9b98b8c7a33c4b65b9aebfe6a799e6d9",
         null,
         null,
         null
        ],
        [
         "1",
         "0b1e1539f2cc45b7b9fa7c272da2e1d7",
         null,
         null,
         null
        ],
        [
         "2",
         "2906b810c7d4411798c6938adc9daaa5",
         null,
         null,
         null
        ],
        [
         "3",
         "fafdcd668e3743c1bb461111dcafc2a4",
         null,
         null,
         null
        ],
        [
         "4",
         "4d5c57ea9a6940dd891ad53e9dbe8da0",
         null,
         null,
         null
        ],
        [
         "5",
         "f19421c1d4aa40978ebb69ca19b0e20d",
         null,
         null,
         null
        ],
        [
         "6",
         "2298d6c36e964ae4a3e7e9706d1fb8c2",
         null,
         null,
         null
        ],
        [
         "7",
         "3f207df678b143eea3cee63160fa8bed",
         null,
         null,
         null
        ],
        [
         "8",
         "0b1e1539f2cc45b7b9fa7c272da2e1d7",
         null,
         null,
         null
        ],
        [
         "9",
         "0b1e1539f2cc45b7b9fa7c272da2e1d7",
         null,
         null,
         null
        ],
        [
         "10",
         "0b1e1539f2cc45b7b9fa7c272da2e1d7",
         null,
         null,
         null
        ],
        [
         "11",
         "0b1e1539f2cc45b7b9fa7c272da2e1d7",
         null,
         null,
         null
        ],
        [
         "12",
         "ae264e3637204a6fb9bb56bc8210ddfd",
         null,
         null,
         null
        ],
        [
         "13",
         "3f207df678b143eea3cee63160fa8bed",
         null,
         null,
         null
        ],
        [
         "14",
         "0b1e1539f2cc45b7b9fa7c272da2e1d7",
         null,
         null,
         null
        ],
        [
         "15",
         "fafdcd668e3743c1bb461111dcafc2a4",
         null,
         null,
         null
        ],
        [
         "16",
         "0b1e1539f2cc45b7b9fa7c272da2e1d7",
         null,
         null,
         null
        ],
        [
         "17",
         "2906b810c7d4411798c6938adc9daaa5",
         null,
         null,
         null
        ],
        [
         "18",
         "9b98b8c7a33c4b65b9aebfe6a799e6d9",
         null,
         null,
         null
        ],
        [
         "19",
         "ae264e3637204a6fb9bb56bc8210ddfd",
         null,
         null,
         null
        ],
        [
         "20",
         "2906b810c7d4411798c6938adc9daaa5",
         null,
         null,
         null
        ],
        [
         "21",
         "9b98b8c7a33c4b65b9aebfe6a799e6d9",
         null,
         null,
         null
        ],
        [
         "22",
         "4d5c57ea9a6940dd891ad53e9dbe8da0",
         null,
         null,
         null
        ],
        [
         "23",
         "2906b810c7d4411798c6938adc9daaa5",
         null,
         null,
         null
        ],
        [
         "24",
         "2298d6c36e964ae4a3e7e9706d1fb8c2",
         null,
         null,
         null
        ],
        [
         "25",
         "2906b810c7d4411798c6938adc9daaa5",
         null,
         null,
         null
        ],
        [
         "26",
         "f19421c1d4aa40978ebb69ca19b0e20d",
         null,
         null,
         null
        ],
        [
         "27",
         "ae264e3637204a6fb9bb56bc8210ddfd",
         null,
         null,
         null
        ],
        [
         "28",
         "9b98b8c7a33c4b65b9aebfe6a799e6d9",
         null,
         null,
         null
        ],
        [
         "29",
         "fafdcd668e3743c1bb461111dcafc2a4",
         null,
         null,
         null
        ],
        [
         "30",
         "9b98b8c7a33c4b65b9aebfe6a799e6d9",
         null,
         null,
         null
        ],
        [
         "31",
         "5a8bc65990b245e5a138643cd4eb9837",
         null,
         null,
         null
        ],
        [
         "32",
         "9b98b8c7a33c4b65b9aebfe6a799e6d9",
         null,
         null,
         null
        ],
        [
         "33",
         "4d5c57ea9a6940dd891ad53e9dbe8da0",
         null,
         null,
         null
        ],
        [
         "34",
         "fafdcd668e3743c1bb461111dcafc2a4",
         null,
         null,
         null
        ],
        [
         "35",
         "ae264e3637204a6fb9bb56bc8210ddfd",
         null,
         null,
         null
        ],
        [
         "36",
         "2906b810c7d4411798c6938adc9daaa5",
         null,
         null,
         null
        ],
        [
         "37",
         "2906b810c7d4411798c6938adc9daaa5",
         null,
         null,
         null
        ],
        [
         "38",
         "9b98b8c7a33c4b65b9aebfe6a799e6d9",
         null,
         null,
         null
        ],
        [
         "39",
         "ae264e3637204a6fb9bb56bc8210ddfd",
         null,
         null,
         null
        ],
        [
         "40",
         "f19421c1d4aa40978ebb69ca19b0e20d",
         null,
         null,
         null
        ],
        [
         "41",
         "2906b810c7d4411798c6938adc9daaa5",
         null,
         null,
         null
        ],
        [
         "42",
         "4d5c57ea9a6940dd891ad53e9dbe8da0",
         null,
         null,
         null
        ],
        [
         "43",
         "f19421c1d4aa40978ebb69ca19b0e20d",
         null,
         null,
         null
        ],
        [
         "44",
         "5a8bc65990b245e5a138643cd4eb9837",
         null,
         null,
         null
        ],
        [
         "45",
         "2298d6c36e964ae4a3e7e9706d1fb8c2",
         null,
         null,
         null
        ],
        [
         "46",
         "ae264e3637204a6fb9bb56bc8210ddfd",
         null,
         null,
         null
        ],
        [
         "47",
         "2298d6c36e964ae4a3e7e9706d1fb8c2",
         null,
         null,
         null
        ],
        [
         "48",
         "4d5c57ea9a6940dd891ad53e9dbe8da0",
         null,
         null,
         null
        ],
        [
         "49",
         "f19421c1d4aa40978ebb69ca19b0e20d",
         null,
         null,
         null
        ]
       ],
       "shape": {
        "columns": 4,
        "rows": 306534
       }
      },
      "text/html": [
       "<div>\n",
       "<style scoped>\n",
       "    .dataframe tbody tr th:only-of-type {\n",
       "        vertical-align: middle;\n",
       "    }\n",
       "\n",
       "    .dataframe tbody tr th {\n",
       "        vertical-align: top;\n",
       "    }\n",
       "\n",
       "    .dataframe thead th {\n",
       "        text-align: right;\n",
       "    }\n",
       "</style>\n",
       "<table border=\"1\" class=\"dataframe\">\n",
       "  <thead>\n",
       "    <tr style=\"text-align: right;\">\n",
       "      <th></th>\n",
       "      <th>offer id</th>\n",
       "      <th>amount</th>\n",
       "      <th>offer_id</th>\n",
       "      <th>reward</th>\n",
       "    </tr>\n",
       "  </thead>\n",
       "  <tbody>\n",
       "    <tr>\n",
       "      <th>0</th>\n",
       "      <td>9b98b8c7a33c4b65b9aebfe6a799e6d9</td>\n",
       "      <td>NaN</td>\n",
       "      <td>NaN</td>\n",
       "      <td>NaN</td>\n",
       "    </tr>\n",
       "    <tr>\n",
       "      <th>1</th>\n",
       "      <td>0b1e1539f2cc45b7b9fa7c272da2e1d7</td>\n",
       "      <td>NaN</td>\n",
       "      <td>NaN</td>\n",
       "      <td>NaN</td>\n",
       "    </tr>\n",
       "    <tr>\n",
       "      <th>2</th>\n",
       "      <td>2906b810c7d4411798c6938adc9daaa5</td>\n",
       "      <td>NaN</td>\n",
       "      <td>NaN</td>\n",
       "      <td>NaN</td>\n",
       "    </tr>\n",
       "    <tr>\n",
       "      <th>3</th>\n",
       "      <td>fafdcd668e3743c1bb461111dcafc2a4</td>\n",
       "      <td>NaN</td>\n",
       "      <td>NaN</td>\n",
       "      <td>NaN</td>\n",
       "    </tr>\n",
       "    <tr>\n",
       "      <th>4</th>\n",
       "      <td>4d5c57ea9a6940dd891ad53e9dbe8da0</td>\n",
       "      <td>NaN</td>\n",
       "      <td>NaN</td>\n",
       "      <td>NaN</td>\n",
       "    </tr>\n",
       "    <tr>\n",
       "      <th>...</th>\n",
       "      <td>...</td>\n",
       "      <td>...</td>\n",
       "      <td>...</td>\n",
       "      <td>...</td>\n",
       "    </tr>\n",
       "    <tr>\n",
       "      <th>306529</th>\n",
       "      <td>NaN</td>\n",
       "      <td>1.59</td>\n",
       "      <td>NaN</td>\n",
       "      <td>NaN</td>\n",
       "    </tr>\n",
       "    <tr>\n",
       "      <th>306530</th>\n",
       "      <td>NaN</td>\n",
       "      <td>9.53</td>\n",
       "      <td>NaN</td>\n",
       "      <td>NaN</td>\n",
       "    </tr>\n",
       "    <tr>\n",
       "      <th>306531</th>\n",
       "      <td>NaN</td>\n",
       "      <td>3.61</td>\n",
       "      <td>NaN</td>\n",
       "      <td>NaN</td>\n",
       "    </tr>\n",
       "    <tr>\n",
       "      <th>306532</th>\n",
       "      <td>NaN</td>\n",
       "      <td>3.53</td>\n",
       "      <td>NaN</td>\n",
       "      <td>NaN</td>\n",
       "    </tr>\n",
       "    <tr>\n",
       "      <th>306533</th>\n",
       "      <td>NaN</td>\n",
       "      <td>4.05</td>\n",
       "      <td>NaN</td>\n",
       "      <td>NaN</td>\n",
       "    </tr>\n",
       "  </tbody>\n",
       "</table>\n",
       "<p>306534 rows × 4 columns</p>\n",
       "</div>"
      ],
      "text/plain": [
       "                                offer id  amount offer_id  reward\n",
       "0       9b98b8c7a33c4b65b9aebfe6a799e6d9     NaN      NaN     NaN\n",
       "1       0b1e1539f2cc45b7b9fa7c272da2e1d7     NaN      NaN     NaN\n",
       "2       2906b810c7d4411798c6938adc9daaa5     NaN      NaN     NaN\n",
       "3       fafdcd668e3743c1bb461111dcafc2a4     NaN      NaN     NaN\n",
       "4       4d5c57ea9a6940dd891ad53e9dbe8da0     NaN      NaN     NaN\n",
       "...                                  ...     ...      ...     ...\n",
       "306529                               NaN    1.59      NaN     NaN\n",
       "306530                               NaN    9.53      NaN     NaN\n",
       "306531                               NaN    3.61      NaN     NaN\n",
       "306532                               NaN    3.53      NaN     NaN\n",
       "306533                               NaN    4.05      NaN     NaN\n",
       "\n",
       "[306534 rows x 4 columns]"
      ]
     },
     "metadata": {},
     "output_type": "display_data"
    },
    {
     "data": {
      "application/vnd.microsoft.datawrangler.viewer.v0+json": {
       "columns": [
        {
         "name": "index",
         "rawType": "int64",
         "type": "integer"
        },
        {
         "name": "offer id",
         "rawType": "object",
         "type": "unknown"
        },
        {
         "name": "amount",
         "rawType": "float64",
         "type": "float"
        },
        {
         "name": "reward",
         "rawType": "float64",
         "type": "float"
        }
       ],
       "conversionMethod": "pd.DataFrame",
       "ref": "c2695725-2c40-42af-b3de-ee89218d3df6",
       "rows": [
        [
         "0",
         "9b98b8c7a33c4b65b9aebfe6a799e6d9",
         null,
         null
        ],
        [
         "1",
         "0b1e1539f2cc45b7b9fa7c272da2e1d7",
         null,
         null
        ],
        [
         "2",
         "2906b810c7d4411798c6938adc9daaa5",
         null,
         null
        ],
        [
         "3",
         "fafdcd668e3743c1bb461111dcafc2a4",
         null,
         null
        ],
        [
         "4",
         "4d5c57ea9a6940dd891ad53e9dbe8da0",
         null,
         null
        ],
        [
         "5",
         "f19421c1d4aa40978ebb69ca19b0e20d",
         null,
         null
        ],
        [
         "6",
         "2298d6c36e964ae4a3e7e9706d1fb8c2",
         null,
         null
        ],
        [
         "7",
         "3f207df678b143eea3cee63160fa8bed",
         null,
         null
        ],
        [
         "8",
         "0b1e1539f2cc45b7b9fa7c272da2e1d7",
         null,
         null
        ],
        [
         "9",
         "0b1e1539f2cc45b7b9fa7c272da2e1d7",
         null,
         null
        ],
        [
         "10",
         "0b1e1539f2cc45b7b9fa7c272da2e1d7",
         null,
         null
        ],
        [
         "11",
         "0b1e1539f2cc45b7b9fa7c272da2e1d7",
         null,
         null
        ],
        [
         "12",
         "ae264e3637204a6fb9bb56bc8210ddfd",
         null,
         null
        ],
        [
         "13",
         "3f207df678b143eea3cee63160fa8bed",
         null,
         null
        ],
        [
         "14",
         "0b1e1539f2cc45b7b9fa7c272da2e1d7",
         null,
         null
        ],
        [
         "15",
         "fafdcd668e3743c1bb461111dcafc2a4",
         null,
         null
        ],
        [
         "16",
         "0b1e1539f2cc45b7b9fa7c272da2e1d7",
         null,
         null
        ],
        [
         "17",
         "2906b810c7d4411798c6938adc9daaa5",
         null,
         null
        ],
        [
         "18",
         "9b98b8c7a33c4b65b9aebfe6a799e6d9",
         null,
         null
        ],
        [
         "19",
         "ae264e3637204a6fb9bb56bc8210ddfd",
         null,
         null
        ],
        [
         "20",
         "2906b810c7d4411798c6938adc9daaa5",
         null,
         null
        ],
        [
         "21",
         "9b98b8c7a33c4b65b9aebfe6a799e6d9",
         null,
         null
        ],
        [
         "22",
         "4d5c57ea9a6940dd891ad53e9dbe8da0",
         null,
         null
        ],
        [
         "23",
         "2906b810c7d4411798c6938adc9daaa5",
         null,
         null
        ],
        [
         "24",
         "2298d6c36e964ae4a3e7e9706d1fb8c2",
         null,
         null
        ],
        [
         "25",
         "2906b810c7d4411798c6938adc9daaa5",
         null,
         null
        ],
        [
         "26",
         "f19421c1d4aa40978ebb69ca19b0e20d",
         null,
         null
        ],
        [
         "27",
         "ae264e3637204a6fb9bb56bc8210ddfd",
         null,
         null
        ],
        [
         "28",
         "9b98b8c7a33c4b65b9aebfe6a799e6d9",
         null,
         null
        ],
        [
         "29",
         "fafdcd668e3743c1bb461111dcafc2a4",
         null,
         null
        ],
        [
         "30",
         "9b98b8c7a33c4b65b9aebfe6a799e6d9",
         null,
         null
        ],
        [
         "31",
         "5a8bc65990b245e5a138643cd4eb9837",
         null,
         null
        ],
        [
         "32",
         "9b98b8c7a33c4b65b9aebfe6a799e6d9",
         null,
         null
        ],
        [
         "33",
         "4d5c57ea9a6940dd891ad53e9dbe8da0",
         null,
         null
        ],
        [
         "34",
         "fafdcd668e3743c1bb461111dcafc2a4",
         null,
         null
        ],
        [
         "35",
         "ae264e3637204a6fb9bb56bc8210ddfd",
         null,
         null
        ],
        [
         "36",
         "2906b810c7d4411798c6938adc9daaa5",
         null,
         null
        ],
        [
         "37",
         "2906b810c7d4411798c6938adc9daaa5",
         null,
         null
        ],
        [
         "38",
         "9b98b8c7a33c4b65b9aebfe6a799e6d9",
         null,
         null
        ],
        [
         "39",
         "ae264e3637204a6fb9bb56bc8210ddfd",
         null,
         null
        ],
        [
         "40",
         "f19421c1d4aa40978ebb69ca19b0e20d",
         null,
         null
        ],
        [
         "41",
         "2906b810c7d4411798c6938adc9daaa5",
         null,
         null
        ],
        [
         "42",
         "4d5c57ea9a6940dd891ad53e9dbe8da0",
         null,
         null
        ],
        [
         "43",
         "f19421c1d4aa40978ebb69ca19b0e20d",
         null,
         null
        ],
        [
         "44",
         "5a8bc65990b245e5a138643cd4eb9837",
         null,
         null
        ],
        [
         "45",
         "2298d6c36e964ae4a3e7e9706d1fb8c2",
         null,
         null
        ],
        [
         "46",
         "ae264e3637204a6fb9bb56bc8210ddfd",
         null,
         null
        ],
        [
         "47",
         "2298d6c36e964ae4a3e7e9706d1fb8c2",
         null,
         null
        ],
        [
         "48",
         "4d5c57ea9a6940dd891ad53e9dbe8da0",
         null,
         null
        ],
        [
         "49",
         "f19421c1d4aa40978ebb69ca19b0e20d",
         null,
         null
        ]
       ],
       "shape": {
        "columns": 3,
        "rows": 306534
       }
      },
      "text/html": [
       "<div>\n",
       "<style scoped>\n",
       "    .dataframe tbody tr th:only-of-type {\n",
       "        vertical-align: middle;\n",
       "    }\n",
       "\n",
       "    .dataframe tbody tr th {\n",
       "        vertical-align: top;\n",
       "    }\n",
       "\n",
       "    .dataframe thead th {\n",
       "        text-align: right;\n",
       "    }\n",
       "</style>\n",
       "<table border=\"1\" class=\"dataframe\">\n",
       "  <thead>\n",
       "    <tr style=\"text-align: right;\">\n",
       "      <th></th>\n",
       "      <th>offer id</th>\n",
       "      <th>amount</th>\n",
       "      <th>reward</th>\n",
       "    </tr>\n",
       "  </thead>\n",
       "  <tbody>\n",
       "    <tr>\n",
       "      <th>0</th>\n",
       "      <td>9b98b8c7a33c4b65b9aebfe6a799e6d9</td>\n",
       "      <td>NaN</td>\n",
       "      <td>NaN</td>\n",
       "    </tr>\n",
       "    <tr>\n",
       "      <th>1</th>\n",
       "      <td>0b1e1539f2cc45b7b9fa7c272da2e1d7</td>\n",
       "      <td>NaN</td>\n",
       "      <td>NaN</td>\n",
       "    </tr>\n",
       "    <tr>\n",
       "      <th>2</th>\n",
       "      <td>2906b810c7d4411798c6938adc9daaa5</td>\n",
       "      <td>NaN</td>\n",
       "      <td>NaN</td>\n",
       "    </tr>\n",
       "    <tr>\n",
       "      <th>3</th>\n",
       "      <td>fafdcd668e3743c1bb461111dcafc2a4</td>\n",
       "      <td>NaN</td>\n",
       "      <td>NaN</td>\n",
       "    </tr>\n",
       "    <tr>\n",
       "      <th>4</th>\n",
       "      <td>4d5c57ea9a6940dd891ad53e9dbe8da0</td>\n",
       "      <td>NaN</td>\n",
       "      <td>NaN</td>\n",
       "    </tr>\n",
       "    <tr>\n",
       "      <th>...</th>\n",
       "      <td>...</td>\n",
       "      <td>...</td>\n",
       "      <td>...</td>\n",
       "    </tr>\n",
       "    <tr>\n",
       "      <th>306529</th>\n",
       "      <td>NaN</td>\n",
       "      <td>1.59</td>\n",
       "      <td>NaN</td>\n",
       "    </tr>\n",
       "    <tr>\n",
       "      <th>306530</th>\n",
       "      <td>NaN</td>\n",
       "      <td>9.53</td>\n",
       "      <td>NaN</td>\n",
       "    </tr>\n",
       "    <tr>\n",
       "      <th>306531</th>\n",
       "      <td>NaN</td>\n",
       "      <td>3.61</td>\n",
       "      <td>NaN</td>\n",
       "    </tr>\n",
       "    <tr>\n",
       "      <th>306532</th>\n",
       "      <td>NaN</td>\n",
       "      <td>3.53</td>\n",
       "      <td>NaN</td>\n",
       "    </tr>\n",
       "    <tr>\n",
       "      <th>306533</th>\n",
       "      <td>NaN</td>\n",
       "      <td>4.05</td>\n",
       "      <td>NaN</td>\n",
       "    </tr>\n",
       "  </tbody>\n",
       "</table>\n",
       "<p>306534 rows × 3 columns</p>\n",
       "</div>"
      ],
      "text/plain": [
       "                                offer id  amount  reward\n",
       "0       9b98b8c7a33c4b65b9aebfe6a799e6d9     NaN     NaN\n",
       "1       0b1e1539f2cc45b7b9fa7c272da2e1d7     NaN     NaN\n",
       "2       2906b810c7d4411798c6938adc9daaa5     NaN     NaN\n",
       "3       fafdcd668e3743c1bb461111dcafc2a4     NaN     NaN\n",
       "4       4d5c57ea9a6940dd891ad53e9dbe8da0     NaN     NaN\n",
       "...                                  ...     ...     ...\n",
       "306529                               NaN    1.59     NaN\n",
       "306530                               NaN    9.53     NaN\n",
       "306531                               NaN    3.61     NaN\n",
       "306532                               NaN    3.53     NaN\n",
       "306533                               NaN    4.05     NaN\n",
       "\n",
       "[306534 rows x 3 columns]"
      ]
     },
     "metadata": {},
     "output_type": "display_data"
    },
    {
     "data": {
      "application/vnd.microsoft.datawrangler.viewer.v0+json": {
       "columns": [
        {
         "name": "index",
         "rawType": "int64",
         "type": "integer"
        },
        {
         "name": "intxn_offer id",
         "rawType": "object",
         "type": "unknown"
        },
        {
         "name": "intxn_amount",
         "rawType": "float64",
         "type": "float"
        },
        {
         "name": "intxn_reward",
         "rawType": "float64",
         "type": "float"
        }
       ],
       "conversionMethod": "pd.DataFrame",
       "ref": "f5820a78-3a9c-4288-b607-addfaaa141ac",
       "rows": [
        [
         "0",
         "9b98b8c7a33c4b65b9aebfe6a799e6d9",
         null,
         null
        ],
        [
         "1",
         "0b1e1539f2cc45b7b9fa7c272da2e1d7",
         null,
         null
        ],
        [
         "2",
         "2906b810c7d4411798c6938adc9daaa5",
         null,
         null
        ],
        [
         "3",
         "fafdcd668e3743c1bb461111dcafc2a4",
         null,
         null
        ],
        [
         "4",
         "4d5c57ea9a6940dd891ad53e9dbe8da0",
         null,
         null
        ],
        [
         "5",
         "f19421c1d4aa40978ebb69ca19b0e20d",
         null,
         null
        ],
        [
         "6",
         "2298d6c36e964ae4a3e7e9706d1fb8c2",
         null,
         null
        ],
        [
         "7",
         "3f207df678b143eea3cee63160fa8bed",
         null,
         null
        ],
        [
         "8",
         "0b1e1539f2cc45b7b9fa7c272da2e1d7",
         null,
         null
        ],
        [
         "9",
         "0b1e1539f2cc45b7b9fa7c272da2e1d7",
         null,
         null
        ],
        [
         "10",
         "0b1e1539f2cc45b7b9fa7c272da2e1d7",
         null,
         null
        ],
        [
         "11",
         "0b1e1539f2cc45b7b9fa7c272da2e1d7",
         null,
         null
        ],
        [
         "12",
         "ae264e3637204a6fb9bb56bc8210ddfd",
         null,
         null
        ],
        [
         "13",
         "3f207df678b143eea3cee63160fa8bed",
         null,
         null
        ],
        [
         "14",
         "0b1e1539f2cc45b7b9fa7c272da2e1d7",
         null,
         null
        ],
        [
         "15",
         "fafdcd668e3743c1bb461111dcafc2a4",
         null,
         null
        ],
        [
         "16",
         "0b1e1539f2cc45b7b9fa7c272da2e1d7",
         null,
         null
        ],
        [
         "17",
         "2906b810c7d4411798c6938adc9daaa5",
         null,
         null
        ],
        [
         "18",
         "9b98b8c7a33c4b65b9aebfe6a799e6d9",
         null,
         null
        ],
        [
         "19",
         "ae264e3637204a6fb9bb56bc8210ddfd",
         null,
         null
        ],
        [
         "20",
         "2906b810c7d4411798c6938adc9daaa5",
         null,
         null
        ],
        [
         "21",
         "9b98b8c7a33c4b65b9aebfe6a799e6d9",
         null,
         null
        ],
        [
         "22",
         "4d5c57ea9a6940dd891ad53e9dbe8da0",
         null,
         null
        ],
        [
         "23",
         "2906b810c7d4411798c6938adc9daaa5",
         null,
         null
        ],
        [
         "24",
         "2298d6c36e964ae4a3e7e9706d1fb8c2",
         null,
         null
        ],
        [
         "25",
         "2906b810c7d4411798c6938adc9daaa5",
         null,
         null
        ],
        [
         "26",
         "f19421c1d4aa40978ebb69ca19b0e20d",
         null,
         null
        ],
        [
         "27",
         "ae264e3637204a6fb9bb56bc8210ddfd",
         null,
         null
        ],
        [
         "28",
         "9b98b8c7a33c4b65b9aebfe6a799e6d9",
         null,
         null
        ],
        [
         "29",
         "fafdcd668e3743c1bb461111dcafc2a4",
         null,
         null
        ],
        [
         "30",
         "9b98b8c7a33c4b65b9aebfe6a799e6d9",
         null,
         null
        ],
        [
         "31",
         "5a8bc65990b245e5a138643cd4eb9837",
         null,
         null
        ],
        [
         "32",
         "9b98b8c7a33c4b65b9aebfe6a799e6d9",
         null,
         null
        ],
        [
         "33",
         "4d5c57ea9a6940dd891ad53e9dbe8da0",
         null,
         null
        ],
        [
         "34",
         "fafdcd668e3743c1bb461111dcafc2a4",
         null,
         null
        ],
        [
         "35",
         "ae264e3637204a6fb9bb56bc8210ddfd",
         null,
         null
        ],
        [
         "36",
         "2906b810c7d4411798c6938adc9daaa5",
         null,
         null
        ],
        [
         "37",
         "2906b810c7d4411798c6938adc9daaa5",
         null,
         null
        ],
        [
         "38",
         "9b98b8c7a33c4b65b9aebfe6a799e6d9",
         null,
         null
        ],
        [
         "39",
         "ae264e3637204a6fb9bb56bc8210ddfd",
         null,
         null
        ],
        [
         "40",
         "f19421c1d4aa40978ebb69ca19b0e20d",
         null,
         null
        ],
        [
         "41",
         "2906b810c7d4411798c6938adc9daaa5",
         null,
         null
        ],
        [
         "42",
         "4d5c57ea9a6940dd891ad53e9dbe8da0",
         null,
         null
        ],
        [
         "43",
         "f19421c1d4aa40978ebb69ca19b0e20d",
         null,
         null
        ],
        [
         "44",
         "5a8bc65990b245e5a138643cd4eb9837",
         null,
         null
        ],
        [
         "45",
         "2298d6c36e964ae4a3e7e9706d1fb8c2",
         null,
         null
        ],
        [
         "46",
         "ae264e3637204a6fb9bb56bc8210ddfd",
         null,
         null
        ],
        [
         "47",
         "2298d6c36e964ae4a3e7e9706d1fb8c2",
         null,
         null
        ],
        [
         "48",
         "4d5c57ea9a6940dd891ad53e9dbe8da0",
         null,
         null
        ],
        [
         "49",
         "f19421c1d4aa40978ebb69ca19b0e20d",
         null,
         null
        ]
       ],
       "shape": {
        "columns": 3,
        "rows": 306534
       }
      },
      "text/html": [
       "<div>\n",
       "<style scoped>\n",
       "    .dataframe tbody tr th:only-of-type {\n",
       "        vertical-align: middle;\n",
       "    }\n",
       "\n",
       "    .dataframe tbody tr th {\n",
       "        vertical-align: top;\n",
       "    }\n",
       "\n",
       "    .dataframe thead th {\n",
       "        text-align: right;\n",
       "    }\n",
       "</style>\n",
       "<table border=\"1\" class=\"dataframe\">\n",
       "  <thead>\n",
       "    <tr style=\"text-align: right;\">\n",
       "      <th></th>\n",
       "      <th>intxn_offer id</th>\n",
       "      <th>intxn_amount</th>\n",
       "      <th>intxn_reward</th>\n",
       "    </tr>\n",
       "  </thead>\n",
       "  <tbody>\n",
       "    <tr>\n",
       "      <th>0</th>\n",
       "      <td>9b98b8c7a33c4b65b9aebfe6a799e6d9</td>\n",
       "      <td>NaN</td>\n",
       "      <td>NaN</td>\n",
       "    </tr>\n",
       "    <tr>\n",
       "      <th>1</th>\n",
       "      <td>0b1e1539f2cc45b7b9fa7c272da2e1d7</td>\n",
       "      <td>NaN</td>\n",
       "      <td>NaN</td>\n",
       "    </tr>\n",
       "    <tr>\n",
       "      <th>2</th>\n",
       "      <td>2906b810c7d4411798c6938adc9daaa5</td>\n",
       "      <td>NaN</td>\n",
       "      <td>NaN</td>\n",
       "    </tr>\n",
       "    <tr>\n",
       "      <th>3</th>\n",
       "      <td>fafdcd668e3743c1bb461111dcafc2a4</td>\n",
       "      <td>NaN</td>\n",
       "      <td>NaN</td>\n",
       "    </tr>\n",
       "    <tr>\n",
       "      <th>4</th>\n",
       "      <td>4d5c57ea9a6940dd891ad53e9dbe8da0</td>\n",
       "      <td>NaN</td>\n",
       "      <td>NaN</td>\n",
       "    </tr>\n",
       "    <tr>\n",
       "      <th>...</th>\n",
       "      <td>...</td>\n",
       "      <td>...</td>\n",
       "      <td>...</td>\n",
       "    </tr>\n",
       "    <tr>\n",
       "      <th>306529</th>\n",
       "      <td>NaN</td>\n",
       "      <td>1.59</td>\n",
       "      <td>NaN</td>\n",
       "    </tr>\n",
       "    <tr>\n",
       "      <th>306530</th>\n",
       "      <td>NaN</td>\n",
       "      <td>9.53</td>\n",
       "      <td>NaN</td>\n",
       "    </tr>\n",
       "    <tr>\n",
       "      <th>306531</th>\n",
       "      <td>NaN</td>\n",
       "      <td>3.61</td>\n",
       "      <td>NaN</td>\n",
       "    </tr>\n",
       "    <tr>\n",
       "      <th>306532</th>\n",
       "      <td>NaN</td>\n",
       "      <td>3.53</td>\n",
       "      <td>NaN</td>\n",
       "    </tr>\n",
       "    <tr>\n",
       "      <th>306533</th>\n",
       "      <td>NaN</td>\n",
       "      <td>4.05</td>\n",
       "      <td>NaN</td>\n",
       "    </tr>\n",
       "  </tbody>\n",
       "</table>\n",
       "<p>306534 rows × 3 columns</p>\n",
       "</div>"
      ],
      "text/plain": [
       "                          intxn_offer id  intxn_amount  intxn_reward\n",
       "0       9b98b8c7a33c4b65b9aebfe6a799e6d9           NaN           NaN\n",
       "1       0b1e1539f2cc45b7b9fa7c272da2e1d7           NaN           NaN\n",
       "2       2906b810c7d4411798c6938adc9daaa5           NaN           NaN\n",
       "3       fafdcd668e3743c1bb461111dcafc2a4           NaN           NaN\n",
       "4       4d5c57ea9a6940dd891ad53e9dbe8da0           NaN           NaN\n",
       "...                                  ...           ...           ...\n",
       "306529                               NaN          1.59           NaN\n",
       "306530                               NaN          9.53           NaN\n",
       "306531                               NaN          3.61           NaN\n",
       "306532                               NaN          3.53           NaN\n",
       "306533                               NaN          4.05           NaN\n",
       "\n",
       "[306534 rows x 3 columns]"
      ]
     },
     "metadata": {},
     "output_type": "display_data"
    }
   ],
   "source": [
    "offers = pd.read_json('data/portfolio.json', orient='records', lines=True)\n",
    "users = pd.read_json('data/profile.json', orient='records', lines=True)\n",
    "interactions = pd.read_json('data/transcript.json', orient='records', lines=True)\n",
    "\n",
    "offer_col_mapping = {\n",
    "    'id': 'offer_id', \n",
    "    'channels': 'offer_notification_channel', \n",
    "    'offer_type': 'offer_type', \n",
    "    'difficulty': 'offer_spend_minimum', \n",
    "    'reward': 'offer_reward', \n",
    "    'duration': 'offer_duration'\n",
    "}\n",
    "\n",
    "users_col_mapping = {\n",
    "    'id': 'user_id', \n",
    "    'gender': 'user_gender', \n",
    "    'age': 'user_age', \n",
    "    'became_member_on': 'user_member_since', \n",
    "    'income': 'user_income'\n",
    "}\n",
    "\n",
    "interactions_col_mapping = {\n",
    "    'person': 'user_id', \n",
    "    'event': 'intxn_event_type', \n",
    "    'value': 'intxn_value', \n",
    "    'time': 'intxn_time'\n",
    "}\n",
    "\n",
    "# Reordering and renaming columns for offers\n",
    "offers = offers[ list( offer_col_mapping.keys() ) ]\n",
    "offers = offers.rename( columns=offer_col_mapping )\n",
    "\n",
    "# Exploding the offers table so that we have one row per channel per offer\n",
    "offers = offers.explode('offer_notification_channel')\n",
    "\n",
    "# Reordering and renaming columns for users\n",
    "users = users[ list( users_col_mapping.keys() ) ]\n",
    "users = users.rename( columns=users_col_mapping )\n",
    "\n",
    "# Users with age 118 are users that do not have an age in their profile\n",
    "users['user_age'] = users['user_age'].apply( lambda x: np.nan if x == 118 else x )\n",
    "users['user_member_since'] = pd.to_datetime(users['user_member_since'], format='%Y%m%d', errors='coerce')\n",
    "users['user_tenure'] = users['user_member_since'].apply( lambda x: ( pd.Timestamp(2019, 1, 1) - x).days if pd.notnull(x) else np.nan )\n",
    "\n",
    "# Reordering and renaming columns for interactions\n",
    "interactions = interactions[ list( interactions_col_mapping.keys() ) ]\n",
    "interactions = interactions.rename( columns=interactions_col_mapping )\n",
    "\n",
    "display(interactions)\n",
    "\n",
    "# Expanding the interaction value column into separate columns\n",
    "intxn_value_expanded = pd.json_normalize( interactions['intxn_value'] )\n",
    "display( intxn_value_expanded )\n",
    "\n",
    "# https://pandas.pydata.org/docs/reference/api/pandas.DataFrame.combine_first.html\n",
    "intxn_value_expanded['offer_id'] = intxn_value_expanded['offer_id'].combine_first( intxn_value_expanded['offer_id'] )\n",
    "intxn_value_expanded = intxn_value_expanded.drop(columns=['offer_id'])\n",
    "display( intxn_value_expanded )\n",
    "\n",
    "intxn_value_expanded = intxn_value_expanded.rename( columns={ col: f'intxn_{col}' for col in intxn_value_expanded.columns.tolist() } )\n",
    "\n",
    "display(intxn_value_expanded)\n",
    "\n",
    "# Adding the expanded interaction value columns back into the interactions dataframe\n",
    "interactions = pd.concat([interactions, intxn_value_expanded], axis=1)"
   ]
  },
  {
   "cell_type": "code",
   "execution_count": 3,
   "id": "84e7c308",
   "metadata": {},
   "outputs": [
    {
     "data": {
      "application/vnd.microsoft.datawrangler.viewer.v0+json": {
       "columns": [
        {
         "name": "index",
         "rawType": "int64",
         "type": "integer"
        },
        {
         "name": "user_id",
         "rawType": "object",
         "type": "string"
        },
        {
         "name": "user_gender",
         "rawType": "object",
         "type": "unknown"
        },
        {
         "name": "user_age",
         "rawType": "float64",
         "type": "float"
        },
        {
         "name": "user_member_since",
         "rawType": "datetime64[ns]",
         "type": "datetime"
        },
        {
         "name": "user_income",
         "rawType": "float64",
         "type": "float"
        },
        {
         "name": "user_tenure",
         "rawType": "int64",
         "type": "integer"
        }
       ],
       "conversionMethod": "pd.DataFrame",
       "ref": "479319b4-227b-4b2d-aa7a-01e95ccb2b00",
       "rows": [
        [
         "0",
         "68be06ca386d4c31939f3a4f0e3dd783",
         null,
         null,
         "2017-02-12 00:00:00",
         null,
         "688"
        ],
        [
         "1",
         "0610b486422d4921ae7d2bf64640c50b",
         "F",
         "55.0",
         "2017-07-15 00:00:00",
         "112000.0",
         "535"
        ],
        [
         "2",
         "38fe809add3b4fcf9315a9694bb96ff5",
         null,
         null,
         "2018-07-12 00:00:00",
         null,
         "173"
        ],
        [
         "3",
         "78afa995795e4d85b5d9ceeca43f5fef",
         "F",
         "75.0",
         "2017-05-09 00:00:00",
         "100000.0",
         "602"
        ],
        [
         "4",
         "a03223e636434f42ac4c3df47e8bac43",
         null,
         null,
         "2017-08-04 00:00:00",
         null,
         "515"
        ],
        [
         "5",
         "e2127556f4f64592b11af22de27a7932",
         "M",
         "68.0",
         "2018-04-26 00:00:00",
         "70000.0",
         "250"
        ],
        [
         "6",
         "8ec6ce2a7e7949b1bf142def7d0e0586",
         null,
         null,
         "2017-09-25 00:00:00",
         null,
         "463"
        ],
        [
         "7",
         "68617ca6246f4fbc85e91a2a49552598",
         null,
         null,
         "2017-10-02 00:00:00",
         null,
         "456"
        ],
        [
         "8",
         "389bc3fa690240e798340f5a15918d5c",
         "M",
         "65.0",
         "2018-02-09 00:00:00",
         "53000.0",
         "326"
        ],
        [
         "9",
         "8974fc5686fe429db53ddde067b88302",
         null,
         null,
         "2016-11-22 00:00:00",
         null,
         "770"
        ],
        [
         "10",
         "c4863c7985cf408faee930f111475da3",
         null,
         null,
         "2017-08-24 00:00:00",
         null,
         "495"
        ],
        [
         "11",
         "148adfcaa27d485b82f323aaaad036bd",
         null,
         null,
         "2015-09-19 00:00:00",
         null,
         "1200"
        ],
        [
         "12",
         "2eeac8d8feae4a8cad5a6af0499a211d",
         "M",
         "58.0",
         "2017-11-11 00:00:00",
         "51000.0",
         "416"
        ],
        [
         "13",
         "aa4862eba776480b8bb9c68455b8c2e1",
         "F",
         "61.0",
         "2017-09-11 00:00:00",
         "57000.0",
         "477"
        ],
        [
         "14",
         "e12aeaf2d47d42479ea1c4ac3d8286c6",
         "M",
         "26.0",
         "2014-02-13 00:00:00",
         "46000.0",
         "1783"
        ],
        [
         "15",
         "31dda685af34476cad5bc968bdb01c53",
         "F",
         "62.0",
         "2016-02-11 00:00:00",
         "71000.0",
         "1055"
        ],
        [
         "16",
         "62cf5e10845442329191fc246e7bcea3",
         "M",
         "49.0",
         "2014-11-13 00:00:00",
         "52000.0",
         "1510"
        ],
        [
         "17",
         "744d603ef08c4f33af5a61c8c7628d1c",
         null,
         null,
         "2017-08-01 00:00:00",
         null,
         "518"
        ],
        [
         "18",
         "6445de3b47274c759400cd68131d91b4",
         "M",
         "57.0",
         "2017-12-31 00:00:00",
         "42000.0",
         "366"
        ],
        [
         "19",
         "a448667f336b42c9a66fc5ffd5d73772",
         "F",
         "61.0",
         "2018-05-01 00:00:00",
         "40000.0",
         "245"
        ],
        [
         "20",
         "440cf1fd7580490c971d8c651ed962af",
         "F",
         "40.0",
         "2016-05-04 00:00:00",
         "71000.0",
         "972"
        ],
        [
         "21",
         "4b0da7e80e5945209a1fdddfe813dbe0",
         "M",
         "64.0",
         "2017-09-09 00:00:00",
         "100000.0",
         "479"
        ],
        [
         "22",
         "c27e0d6ab72c455a8bb66d980963de60",
         "F",
         "78.0",
         "2017-06-16 00:00:00",
         "71000.0",
         "564"
        ],
        [
         "23",
         "2b826eba31074a059d63b0ae8f50b7d5",
         null,
         null,
         "2017-09-07 00:00:00",
         null,
         "481"
        ],
        [
         "24",
         "f806632c011441378d4646567f357a21",
         "M",
         "42.0",
         "2013-08-11 00:00:00",
         "69000.0",
         "1969"
        ],
        [
         "25",
         "d058f73bf8674a26a95227db098147b1",
         "F",
         "56.0",
         "2018-04-28 00:00:00",
         "88000.0",
         "248"
        ],
        [
         "26",
         "65aba5c617294649aeb624da249e1ee5",
         null,
         null,
         "2017-03-30 00:00:00",
         null,
         "642"
        ],
        [
         "27",
         "c6c9884912c645429f3333f912b55f44",
         "F",
         "33.0",
         "2017-09-26 00:00:00",
         "52000.0",
         "462"
        ],
        [
         "28",
         "7429a044884842d6862f516c38b1156f",
         "F",
         "46.0",
         "2017-09-11 00:00:00",
         "59000.0",
         "477"
        ],
        [
         "29",
         "ebe7ef46ea6f4963a7dd49f501b26779",
         "M",
         "59.0",
         "2015-01-21 00:00:00",
         "41000.0",
         "1441"
        ],
        [
         "30",
         "5917d13f6fa04286abdf95f4d5cefb1e",
         "M",
         "67.0",
         "2014-08-23 00:00:00",
         "96000.0",
         "1592"
        ],
        [
         "31",
         "d1ede868e29245ea91818a903fec04c6",
         "O",
         "53.0",
         "2017-09-16 00:00:00",
         "52000.0",
         "472"
        ],
        [
         "32",
         "1e9420836d554513ab90eba98552d0a9",
         "M",
         "22.0",
         "2017-09-25 00:00:00",
         "70000.0",
         "463"
        ],
        [
         "33",
         "868317b9be554cb18e50bc68484749a2",
         "F",
         "96.0",
         "2017-11-17 00:00:00",
         "89000.0",
         "410"
        ],
        [
         "34",
         "f082d80f0aac47a99173ba8ef8fc1909",
         "M",
         "40.0",
         "2016-07-09 00:00:00",
         "33000.0",
         "906"
        ],
        [
         "35",
         "102e9454054946fda62242d2e176fdce",
         "F",
         "69.0",
         "2016-08-14 00:00:00",
         "57000.0",
         "870"
        ],
        [
         "36",
         "4beeb3ed64dd4898b0edf2f6b67426d3",
         null,
         null,
         "2016-07-07 00:00:00",
         null,
         "908"
        ],
        [
         "37",
         "8dabe2142cdf4013a6f4786edf8ab00f",
         "M",
         "56.0",
         "2014-05-11 00:00:00",
         "68000.0",
         "1696"
        ],
        [
         "38",
         "9f30b375d7bd4c62a884ffe7034e09ee",
         "F",
         "26.0",
         "2017-08-12 00:00:00",
         "63000.0",
         "507"
        ],
        [
         "39",
         "25c906289d154b66bf579693f89481c9",
         null,
         null,
         "2018-01-13 00:00:00",
         null,
         "353"
        ],
        [
         "40",
         "6e014185620b49bd98749f728747572f",
         "M",
         "75.0",
         "2015-11-12 00:00:00",
         "40000.0",
         "1146"
        ],
        [
         "41",
         "02c083884c7d45b39cc68e1314fec56c",
         "F",
         "20.0",
         "2016-07-11 00:00:00",
         "30000.0",
         "904"
        ],
        [
         "42",
         "c0d210398dee4a0895b24444a5fcd1d2",
         "M",
         "45.0",
         "2018-07-07 00:00:00",
         "33000.0",
         "178"
        ],
        [
         "43",
         "8b70ca1f5f5a45bdac2ac2f990b71526",
         "M",
         "61.0",
         "2017-11-21 00:00:00",
         "98000.0",
         "406"
        ],
        [
         "44",
         "5b8f1f0e0930464f93bb55e59b5a04e0",
         null,
         null,
         "2014-11-11 00:00:00",
         null,
         "1512"
        ],
        [
         "45",
         "8be4463721e14d7fa600686bf8c8b2ed",
         null,
         null,
         "2017-05-11 00:00:00",
         null,
         "600"
        ],
        [
         "46",
         "8e7c7465e98c43d8a01f51e2b5c29542",
         "F",
         "69.0",
         "2013-09-18 00:00:00",
         "37000.0",
         "1931"
        ],
        [
         "47",
         "57dd18ec5ddc46828afb81ec5977bef2",
         "F",
         "54.0",
         "2017-02-07 00:00:00",
         "80000.0",
         "693"
        ],
        [
         "48",
         "be8a5d1981a2458d90b255ddc7e0d174",
         "M",
         "39.0",
         "2014-05-27 00:00:00",
         "51000.0",
         "1680"
        ],
        [
         "49",
         "3f89b8f80ebc4f94b7074f28071aa8d4",
         "F",
         "41.0",
         "2015-09-21 00:00:00",
         "41000.0",
         "1198"
        ]
       ],
       "shape": {
        "columns": 6,
        "rows": 17000
       }
      },
      "text/html": [
       "<div>\n",
       "<style scoped>\n",
       "    .dataframe tbody tr th:only-of-type {\n",
       "        vertical-align: middle;\n",
       "    }\n",
       "\n",
       "    .dataframe tbody tr th {\n",
       "        vertical-align: top;\n",
       "    }\n",
       "\n",
       "    .dataframe thead th {\n",
       "        text-align: right;\n",
       "    }\n",
       "</style>\n",
       "<table border=\"1\" class=\"dataframe\">\n",
       "  <thead>\n",
       "    <tr style=\"text-align: right;\">\n",
       "      <th></th>\n",
       "      <th>user_id</th>\n",
       "      <th>user_gender</th>\n",
       "      <th>user_age</th>\n",
       "      <th>user_member_since</th>\n",
       "      <th>user_income</th>\n",
       "      <th>user_tenure</th>\n",
       "    </tr>\n",
       "  </thead>\n",
       "  <tbody>\n",
       "    <tr>\n",
       "      <th>0</th>\n",
       "      <td>68be06ca386d4c31939f3a4f0e3dd783</td>\n",
       "      <td>None</td>\n",
       "      <td>NaN</td>\n",
       "      <td>2017-02-12</td>\n",
       "      <td>NaN</td>\n",
       "      <td>688</td>\n",
       "    </tr>\n",
       "    <tr>\n",
       "      <th>1</th>\n",
       "      <td>0610b486422d4921ae7d2bf64640c50b</td>\n",
       "      <td>F</td>\n",
       "      <td>55.0</td>\n",
       "      <td>2017-07-15</td>\n",
       "      <td>112000.0</td>\n",
       "      <td>535</td>\n",
       "    </tr>\n",
       "    <tr>\n",
       "      <th>2</th>\n",
       "      <td>38fe809add3b4fcf9315a9694bb96ff5</td>\n",
       "      <td>None</td>\n",
       "      <td>NaN</td>\n",
       "      <td>2018-07-12</td>\n",
       "      <td>NaN</td>\n",
       "      <td>173</td>\n",
       "    </tr>\n",
       "    <tr>\n",
       "      <th>3</th>\n",
       "      <td>78afa995795e4d85b5d9ceeca43f5fef</td>\n",
       "      <td>F</td>\n",
       "      <td>75.0</td>\n",
       "      <td>2017-05-09</td>\n",
       "      <td>100000.0</td>\n",
       "      <td>602</td>\n",
       "    </tr>\n",
       "    <tr>\n",
       "      <th>4</th>\n",
       "      <td>a03223e636434f42ac4c3df47e8bac43</td>\n",
       "      <td>None</td>\n",
       "      <td>NaN</td>\n",
       "      <td>2017-08-04</td>\n",
       "      <td>NaN</td>\n",
       "      <td>515</td>\n",
       "    </tr>\n",
       "    <tr>\n",
       "      <th>...</th>\n",
       "      <td>...</td>\n",
       "      <td>...</td>\n",
       "      <td>...</td>\n",
       "      <td>...</td>\n",
       "      <td>...</td>\n",
       "      <td>...</td>\n",
       "    </tr>\n",
       "    <tr>\n",
       "      <th>16995</th>\n",
       "      <td>6d5f3a774f3d4714ab0c092238f3a1d7</td>\n",
       "      <td>F</td>\n",
       "      <td>45.0</td>\n",
       "      <td>2018-06-04</td>\n",
       "      <td>54000.0</td>\n",
       "      <td>211</td>\n",
       "    </tr>\n",
       "    <tr>\n",
       "      <th>16996</th>\n",
       "      <td>2cb4f97358b841b9a9773a7aa05a9d77</td>\n",
       "      <td>M</td>\n",
       "      <td>61.0</td>\n",
       "      <td>2018-07-13</td>\n",
       "      <td>72000.0</td>\n",
       "      <td>172</td>\n",
       "    </tr>\n",
       "    <tr>\n",
       "      <th>16997</th>\n",
       "      <td>01d26f638c274aa0b965d24cefe3183f</td>\n",
       "      <td>M</td>\n",
       "      <td>49.0</td>\n",
       "      <td>2017-01-26</td>\n",
       "      <td>73000.0</td>\n",
       "      <td>705</td>\n",
       "    </tr>\n",
       "    <tr>\n",
       "      <th>16998</th>\n",
       "      <td>9dc1421481194dcd9400aec7c9ae6366</td>\n",
       "      <td>F</td>\n",
       "      <td>83.0</td>\n",
       "      <td>2016-03-07</td>\n",
       "      <td>50000.0</td>\n",
       "      <td>1030</td>\n",
       "    </tr>\n",
       "    <tr>\n",
       "      <th>16999</th>\n",
       "      <td>e4052622e5ba45a8b96b59aba68cf068</td>\n",
       "      <td>F</td>\n",
       "      <td>62.0</td>\n",
       "      <td>2017-07-22</td>\n",
       "      <td>82000.0</td>\n",
       "      <td>528</td>\n",
       "    </tr>\n",
       "  </tbody>\n",
       "</table>\n",
       "<p>17000 rows × 6 columns</p>\n",
       "</div>"
      ],
      "text/plain": [
       "                                user_id user_gender  user_age  \\\n",
       "0      68be06ca386d4c31939f3a4f0e3dd783        None       NaN   \n",
       "1      0610b486422d4921ae7d2bf64640c50b           F      55.0   \n",
       "2      38fe809add3b4fcf9315a9694bb96ff5        None       NaN   \n",
       "3      78afa995795e4d85b5d9ceeca43f5fef           F      75.0   \n",
       "4      a03223e636434f42ac4c3df47e8bac43        None       NaN   \n",
       "...                                 ...         ...       ...   \n",
       "16995  6d5f3a774f3d4714ab0c092238f3a1d7           F      45.0   \n",
       "16996  2cb4f97358b841b9a9773a7aa05a9d77           M      61.0   \n",
       "16997  01d26f638c274aa0b965d24cefe3183f           M      49.0   \n",
       "16998  9dc1421481194dcd9400aec7c9ae6366           F      83.0   \n",
       "16999  e4052622e5ba45a8b96b59aba68cf068           F      62.0   \n",
       "\n",
       "      user_member_since  user_income  user_tenure  \n",
       "0            2017-02-12          NaN          688  \n",
       "1            2017-07-15     112000.0          535  \n",
       "2            2018-07-12          NaN          173  \n",
       "3            2017-05-09     100000.0          602  \n",
       "4            2017-08-04          NaN          515  \n",
       "...                 ...          ...          ...  \n",
       "16995        2018-06-04      54000.0          211  \n",
       "16996        2018-07-13      72000.0          172  \n",
       "16997        2017-01-26      73000.0          705  \n",
       "16998        2016-03-07      50000.0         1030  \n",
       "16999        2017-07-22      82000.0          528  \n",
       "\n",
       "[17000 rows x 6 columns]"
      ]
     },
     "execution_count": 3,
     "metadata": {},
     "output_type": "execute_result"
    }
   ],
   "source": [
    "users"
   ]
  },
  {
   "cell_type": "code",
   "execution_count": 4,
   "id": "21b450fb",
   "metadata": {},
   "outputs": [],
   "source": [
    "# offers.groupby( ['offer_notification_channel', 'offer_type'] ).count()['offer_id'].reset_index().sort_values( 'offer_notification_channel' ).rename( columns={ 'offer_id': 'offer_count' } )"
   ]
  },
  {
   "cell_type": "code",
   "execution_count": 5,
   "id": "1af25135",
   "metadata": {},
   "outputs": [
    {
     "data": {
      "application/vnd.microsoft.datawrangler.viewer.v0+json": {
       "columns": [
        {
         "name": "index",
         "rawType": "int64",
         "type": "integer"
        },
        {
         "name": "user_id",
         "rawType": "object",
         "type": "string"
        },
        {
         "name": "user_gender",
         "rawType": "object",
         "type": "unknown"
        },
        {
         "name": "user_age",
         "rawType": "float64",
         "type": "float"
        },
        {
         "name": "user_member_since",
         "rawType": "datetime64[ns]",
         "type": "datetime"
        },
        {
         "name": "user_income",
         "rawType": "float64",
         "type": "float"
        },
        {
         "name": "user_tenure",
         "rawType": "int64",
         "type": "integer"
        },
        {
         "name": "user_age_group",
         "rawType": "category",
         "type": "unknown"
        }
       ],
       "conversionMethod": "pd.DataFrame",
       "ref": "510e4892-62a6-4e20-91d5-2239a78ef5de",
       "rows": [
        [
         "0",
         "68be06ca386d4c31939f3a4f0e3dd783",
         null,
         null,
         "2017-02-12 00:00:00",
         null,
         "688",
         null
        ],
        [
         "1",
         "0610b486422d4921ae7d2bf64640c50b",
         "F",
         "55.0",
         "2017-07-15 00:00:00",
         "112000.0",
         "535",
         "56-65"
        ],
        [
         "2",
         "38fe809add3b4fcf9315a9694bb96ff5",
         null,
         null,
         "2018-07-12 00:00:00",
         null,
         "173",
         null
        ],
        [
         "3",
         "78afa995795e4d85b5d9ceeca43f5fef",
         "F",
         "75.0",
         "2017-05-09 00:00:00",
         "100000.0",
         "602",
         "66+"
        ],
        [
         "4",
         "a03223e636434f42ac4c3df47e8bac43",
         null,
         null,
         "2017-08-04 00:00:00",
         null,
         "515",
         null
        ],
        [
         "5",
         "e2127556f4f64592b11af22de27a7932",
         "M",
         "68.0",
         "2018-04-26 00:00:00",
         "70000.0",
         "250",
         "66+"
        ],
        [
         "6",
         "8ec6ce2a7e7949b1bf142def7d0e0586",
         null,
         null,
         "2017-09-25 00:00:00",
         null,
         "463",
         null
        ],
        [
         "7",
         "68617ca6246f4fbc85e91a2a49552598",
         null,
         null,
         "2017-10-02 00:00:00",
         null,
         "456",
         null
        ],
        [
         "8",
         "389bc3fa690240e798340f5a15918d5c",
         "M",
         "65.0",
         "2018-02-09 00:00:00",
         "53000.0",
         "326",
         "66+"
        ],
        [
         "9",
         "8974fc5686fe429db53ddde067b88302",
         null,
         null,
         "2016-11-22 00:00:00",
         null,
         "770",
         null
        ],
        [
         "10",
         "c4863c7985cf408faee930f111475da3",
         null,
         null,
         "2017-08-24 00:00:00",
         null,
         "495",
         null
        ],
        [
         "11",
         "148adfcaa27d485b82f323aaaad036bd",
         null,
         null,
         "2015-09-19 00:00:00",
         null,
         "1200",
         null
        ],
        [
         "12",
         "2eeac8d8feae4a8cad5a6af0499a211d",
         "M",
         "58.0",
         "2017-11-11 00:00:00",
         "51000.0",
         "416",
         "56-65"
        ],
        [
         "13",
         "aa4862eba776480b8bb9c68455b8c2e1",
         "F",
         "61.0",
         "2017-09-11 00:00:00",
         "57000.0",
         "477",
         "56-65"
        ],
        [
         "14",
         "e12aeaf2d47d42479ea1c4ac3d8286c6",
         "M",
         "26.0",
         "2014-02-13 00:00:00",
         "46000.0",
         "1783",
         "26-35"
        ],
        [
         "15",
         "31dda685af34476cad5bc968bdb01c53",
         "F",
         "62.0",
         "2016-02-11 00:00:00",
         "71000.0",
         "1055",
         "56-65"
        ],
        [
         "16",
         "62cf5e10845442329191fc246e7bcea3",
         "M",
         "49.0",
         "2014-11-13 00:00:00",
         "52000.0",
         "1510",
         "46-55"
        ],
        [
         "17",
         "744d603ef08c4f33af5a61c8c7628d1c",
         null,
         null,
         "2017-08-01 00:00:00",
         null,
         "518",
         null
        ],
        [
         "18",
         "6445de3b47274c759400cd68131d91b4",
         "M",
         "57.0",
         "2017-12-31 00:00:00",
         "42000.0",
         "366",
         "56-65"
        ],
        [
         "19",
         "a448667f336b42c9a66fc5ffd5d73772",
         "F",
         "61.0",
         "2018-05-01 00:00:00",
         "40000.0",
         "245",
         "56-65"
        ],
        [
         "20",
         "440cf1fd7580490c971d8c651ed962af",
         "F",
         "40.0",
         "2016-05-04 00:00:00",
         "71000.0",
         "972",
         "36-45"
        ],
        [
         "21",
         "4b0da7e80e5945209a1fdddfe813dbe0",
         "M",
         "64.0",
         "2017-09-09 00:00:00",
         "100000.0",
         "479",
         "56-65"
        ],
        [
         "22",
         "c27e0d6ab72c455a8bb66d980963de60",
         "F",
         "78.0",
         "2017-06-16 00:00:00",
         "71000.0",
         "564",
         "66+"
        ],
        [
         "23",
         "2b826eba31074a059d63b0ae8f50b7d5",
         null,
         null,
         "2017-09-07 00:00:00",
         null,
         "481",
         null
        ],
        [
         "24",
         "f806632c011441378d4646567f357a21",
         "M",
         "42.0",
         "2013-08-11 00:00:00",
         "69000.0",
         "1969",
         "36-45"
        ],
        [
         "25",
         "d058f73bf8674a26a95227db098147b1",
         "F",
         "56.0",
         "2018-04-28 00:00:00",
         "88000.0",
         "248",
         "56-65"
        ],
        [
         "26",
         "65aba5c617294649aeb624da249e1ee5",
         null,
         null,
         "2017-03-30 00:00:00",
         null,
         "642",
         null
        ],
        [
         "27",
         "c6c9884912c645429f3333f912b55f44",
         "F",
         "33.0",
         "2017-09-26 00:00:00",
         "52000.0",
         "462",
         "26-35"
        ],
        [
         "28",
         "7429a044884842d6862f516c38b1156f",
         "F",
         "46.0",
         "2017-09-11 00:00:00",
         "59000.0",
         "477",
         "46-55"
        ],
        [
         "29",
         "ebe7ef46ea6f4963a7dd49f501b26779",
         "M",
         "59.0",
         "2015-01-21 00:00:00",
         "41000.0",
         "1441",
         "56-65"
        ],
        [
         "30",
         "5917d13f6fa04286abdf95f4d5cefb1e",
         "M",
         "67.0",
         "2014-08-23 00:00:00",
         "96000.0",
         "1592",
         "66+"
        ],
        [
         "31",
         "d1ede868e29245ea91818a903fec04c6",
         "O",
         "53.0",
         "2017-09-16 00:00:00",
         "52000.0",
         "472",
         "46-55"
        ],
        [
         "32",
         "1e9420836d554513ab90eba98552d0a9",
         "M",
         "22.0",
         "2017-09-25 00:00:00",
         "70000.0",
         "463",
         "19-25"
        ],
        [
         "33",
         "868317b9be554cb18e50bc68484749a2",
         "F",
         "96.0",
         "2017-11-17 00:00:00",
         "89000.0",
         "410",
         "66+"
        ],
        [
         "34",
         "f082d80f0aac47a99173ba8ef8fc1909",
         "M",
         "40.0",
         "2016-07-09 00:00:00",
         "33000.0",
         "906",
         "36-45"
        ],
        [
         "35",
         "102e9454054946fda62242d2e176fdce",
         "F",
         "69.0",
         "2016-08-14 00:00:00",
         "57000.0",
         "870",
         "66+"
        ],
        [
         "36",
         "4beeb3ed64dd4898b0edf2f6b67426d3",
         null,
         null,
         "2016-07-07 00:00:00",
         null,
         "908",
         null
        ],
        [
         "37",
         "8dabe2142cdf4013a6f4786edf8ab00f",
         "M",
         "56.0",
         "2014-05-11 00:00:00",
         "68000.0",
         "1696",
         "56-65"
        ],
        [
         "38",
         "9f30b375d7bd4c62a884ffe7034e09ee",
         "F",
         "26.0",
         "2017-08-12 00:00:00",
         "63000.0",
         "507",
         "26-35"
        ],
        [
         "39",
         "25c906289d154b66bf579693f89481c9",
         null,
         null,
         "2018-01-13 00:00:00",
         null,
         "353",
         null
        ],
        [
         "40",
         "6e014185620b49bd98749f728747572f",
         "M",
         "75.0",
         "2015-11-12 00:00:00",
         "40000.0",
         "1146",
         "66+"
        ],
        [
         "41",
         "02c083884c7d45b39cc68e1314fec56c",
         "F",
         "20.0",
         "2016-07-11 00:00:00",
         "30000.0",
         "904",
         "19-25"
        ],
        [
         "42",
         "c0d210398dee4a0895b24444a5fcd1d2",
         "M",
         "45.0",
         "2018-07-07 00:00:00",
         "33000.0",
         "178",
         "46-55"
        ],
        [
         "43",
         "8b70ca1f5f5a45bdac2ac2f990b71526",
         "M",
         "61.0",
         "2017-11-21 00:00:00",
         "98000.0",
         "406",
         "56-65"
        ],
        [
         "44",
         "5b8f1f0e0930464f93bb55e59b5a04e0",
         null,
         null,
         "2014-11-11 00:00:00",
         null,
         "1512",
         null
        ],
        [
         "45",
         "8be4463721e14d7fa600686bf8c8b2ed",
         null,
         null,
         "2017-05-11 00:00:00",
         null,
         "600",
         null
        ],
        [
         "46",
         "8e7c7465e98c43d8a01f51e2b5c29542",
         "F",
         "69.0",
         "2013-09-18 00:00:00",
         "37000.0",
         "1931",
         "66+"
        ],
        [
         "47",
         "57dd18ec5ddc46828afb81ec5977bef2",
         "F",
         "54.0",
         "2017-02-07 00:00:00",
         "80000.0",
         "693",
         "46-55"
        ],
        [
         "48",
         "be8a5d1981a2458d90b255ddc7e0d174",
         "M",
         "39.0",
         "2014-05-27 00:00:00",
         "51000.0",
         "1680",
         "36-45"
        ],
        [
         "49",
         "3f89b8f80ebc4f94b7074f28071aa8d4",
         "F",
         "41.0",
         "2015-09-21 00:00:00",
         "41000.0",
         "1198",
         "36-45"
        ]
       ],
       "shape": {
        "columns": 7,
        "rows": 17000
       }
      },
      "text/html": [
       "<div>\n",
       "<style scoped>\n",
       "    .dataframe tbody tr th:only-of-type {\n",
       "        vertical-align: middle;\n",
       "    }\n",
       "\n",
       "    .dataframe tbody tr th {\n",
       "        vertical-align: top;\n",
       "    }\n",
       "\n",
       "    .dataframe thead th {\n",
       "        text-align: right;\n",
       "    }\n",
       "</style>\n",
       "<table border=\"1\" class=\"dataframe\">\n",
       "  <thead>\n",
       "    <tr style=\"text-align: right;\">\n",
       "      <th></th>\n",
       "      <th>user_id</th>\n",
       "      <th>user_gender</th>\n",
       "      <th>user_age</th>\n",
       "      <th>user_member_since</th>\n",
       "      <th>user_income</th>\n",
       "      <th>user_tenure</th>\n",
       "      <th>user_age_group</th>\n",
       "    </tr>\n",
       "  </thead>\n",
       "  <tbody>\n",
       "    <tr>\n",
       "      <th>0</th>\n",
       "      <td>68be06ca386d4c31939f3a4f0e3dd783</td>\n",
       "      <td>None</td>\n",
       "      <td>NaN</td>\n",
       "      <td>2017-02-12</td>\n",
       "      <td>NaN</td>\n",
       "      <td>688</td>\n",
       "      <td>NaN</td>\n",
       "    </tr>\n",
       "    <tr>\n",
       "      <th>1</th>\n",
       "      <td>0610b486422d4921ae7d2bf64640c50b</td>\n",
       "      <td>F</td>\n",
       "      <td>55.0</td>\n",
       "      <td>2017-07-15</td>\n",
       "      <td>112000.0</td>\n",
       "      <td>535</td>\n",
       "      <td>56-65</td>\n",
       "    </tr>\n",
       "    <tr>\n",
       "      <th>2</th>\n",
       "      <td>38fe809add3b4fcf9315a9694bb96ff5</td>\n",
       "      <td>None</td>\n",
       "      <td>NaN</td>\n",
       "      <td>2018-07-12</td>\n",
       "      <td>NaN</td>\n",
       "      <td>173</td>\n",
       "      <td>NaN</td>\n",
       "    </tr>\n",
       "    <tr>\n",
       "      <th>3</th>\n",
       "      <td>78afa995795e4d85b5d9ceeca43f5fef</td>\n",
       "      <td>F</td>\n",
       "      <td>75.0</td>\n",
       "      <td>2017-05-09</td>\n",
       "      <td>100000.0</td>\n",
       "      <td>602</td>\n",
       "      <td>66+</td>\n",
       "    </tr>\n",
       "    <tr>\n",
       "      <th>4</th>\n",
       "      <td>a03223e636434f42ac4c3df47e8bac43</td>\n",
       "      <td>None</td>\n",
       "      <td>NaN</td>\n",
       "      <td>2017-08-04</td>\n",
       "      <td>NaN</td>\n",
       "      <td>515</td>\n",
       "      <td>NaN</td>\n",
       "    </tr>\n",
       "    <tr>\n",
       "      <th>...</th>\n",
       "      <td>...</td>\n",
       "      <td>...</td>\n",
       "      <td>...</td>\n",
       "      <td>...</td>\n",
       "      <td>...</td>\n",
       "      <td>...</td>\n",
       "      <td>...</td>\n",
       "    </tr>\n",
       "    <tr>\n",
       "      <th>16995</th>\n",
       "      <td>6d5f3a774f3d4714ab0c092238f3a1d7</td>\n",
       "      <td>F</td>\n",
       "      <td>45.0</td>\n",
       "      <td>2018-06-04</td>\n",
       "      <td>54000.0</td>\n",
       "      <td>211</td>\n",
       "      <td>46-55</td>\n",
       "    </tr>\n",
       "    <tr>\n",
       "      <th>16996</th>\n",
       "      <td>2cb4f97358b841b9a9773a7aa05a9d77</td>\n",
       "      <td>M</td>\n",
       "      <td>61.0</td>\n",
       "      <td>2018-07-13</td>\n",
       "      <td>72000.0</td>\n",
       "      <td>172</td>\n",
       "      <td>56-65</td>\n",
       "    </tr>\n",
       "    <tr>\n",
       "      <th>16997</th>\n",
       "      <td>01d26f638c274aa0b965d24cefe3183f</td>\n",
       "      <td>M</td>\n",
       "      <td>49.0</td>\n",
       "      <td>2017-01-26</td>\n",
       "      <td>73000.0</td>\n",
       "      <td>705</td>\n",
       "      <td>46-55</td>\n",
       "    </tr>\n",
       "    <tr>\n",
       "      <th>16998</th>\n",
       "      <td>9dc1421481194dcd9400aec7c9ae6366</td>\n",
       "      <td>F</td>\n",
       "      <td>83.0</td>\n",
       "      <td>2016-03-07</td>\n",
       "      <td>50000.0</td>\n",
       "      <td>1030</td>\n",
       "      <td>66+</td>\n",
       "    </tr>\n",
       "    <tr>\n",
       "      <th>16999</th>\n",
       "      <td>e4052622e5ba45a8b96b59aba68cf068</td>\n",
       "      <td>F</td>\n",
       "      <td>62.0</td>\n",
       "      <td>2017-07-22</td>\n",
       "      <td>82000.0</td>\n",
       "      <td>528</td>\n",
       "      <td>56-65</td>\n",
       "    </tr>\n",
       "  </tbody>\n",
       "</table>\n",
       "<p>17000 rows × 7 columns</p>\n",
       "</div>"
      ],
      "text/plain": [
       "                                user_id user_gender  user_age  \\\n",
       "0      68be06ca386d4c31939f3a4f0e3dd783        None       NaN   \n",
       "1      0610b486422d4921ae7d2bf64640c50b           F      55.0   \n",
       "2      38fe809add3b4fcf9315a9694bb96ff5        None       NaN   \n",
       "3      78afa995795e4d85b5d9ceeca43f5fef           F      75.0   \n",
       "4      a03223e636434f42ac4c3df47e8bac43        None       NaN   \n",
       "...                                 ...         ...       ...   \n",
       "16995  6d5f3a774f3d4714ab0c092238f3a1d7           F      45.0   \n",
       "16996  2cb4f97358b841b9a9773a7aa05a9d77           M      61.0   \n",
       "16997  01d26f638c274aa0b965d24cefe3183f           M      49.0   \n",
       "16998  9dc1421481194dcd9400aec7c9ae6366           F      83.0   \n",
       "16999  e4052622e5ba45a8b96b59aba68cf068           F      62.0   \n",
       "\n",
       "      user_member_since  user_income  user_tenure user_age_group  \n",
       "0            2017-02-12          NaN          688            NaN  \n",
       "1            2017-07-15     112000.0          535          56-65  \n",
       "2            2018-07-12          NaN          173            NaN  \n",
       "3            2017-05-09     100000.0          602            66+  \n",
       "4            2017-08-04          NaN          515            NaN  \n",
       "...                 ...          ...          ...            ...  \n",
       "16995        2018-06-04      54000.0          211          46-55  \n",
       "16996        2018-07-13      72000.0          172          56-65  \n",
       "16997        2017-01-26      73000.0          705          46-55  \n",
       "16998        2016-03-07      50000.0         1030            66+  \n",
       "16999        2017-07-22      82000.0          528          56-65  \n",
       "\n",
       "[17000 rows x 7 columns]"
      ]
     },
     "execution_count": 5,
     "metadata": {},
     "output_type": "execute_result"
    }
   ],
   "source": [
    "user_age_groupings = {\n",
    "    '0-18': (0, 18),\n",
    "    '19-25': (19, 25),\n",
    "    '26-35': (26, 35),\n",
    "    '36-45': (36, 45),\n",
    "    '46-55': (46, 55),\n",
    "    '56-65': (56, 65),\n",
    "    '66+': (66, np.inf)\n",
    "}\n",
    "\n",
    "users['user_age_group'] = pd.cut( users['user_age'], bins=[0, 18, 25, 35, 45, 55, 65, np.inf], labels=['0-18', '19-25', '26-35', '36-45', '46-55', '56-65', '66+'], right=False )\n",
    "\n",
    "users"
   ]
  },
  {
   "cell_type": "code",
   "execution_count": 6,
   "id": "d3d075e5",
   "metadata": {},
   "outputs": [
    {
     "data": {
      "text/plain": [
       "<Axes: title={'center': 'Counts per User Age Group'}, xlabel='Age Group', ylabel='Count'>"
      ]
     },
     "execution_count": 6,
     "metadata": {},
     "output_type": "execute_result"
    },
    {
     "data": {
      "image/png": "[encoded data removed]",
      "text/plain": [
       "<Figure size 640x480 with 1 Axes>"
      ]
     },
     "metadata": {},
     "output_type": "display_data"
    }
   ],
   "source": [
    "users['user_age_group'].value_counts().sort_index().plot(kind='bar', title='Counts per User Age Group', xlabel='Age Group', ylabel='Count', rot=0)"
   ]
  },
  {
   "cell_type": "code",
   "execution_count": 7,
   "id": "363241c7",
   "metadata": {},
   "outputs": [
    {
     "data": {
      "application/vnd.microsoft.datawrangler.viewer.v0+json": {
       "columns": [
        {
         "name": "user_gender",
         "rawType": "object",
         "type": "unknown"
        },
        {
         "name": "user_id",
         "rawType": "int64",
         "type": "integer"
        },
        {
         "name": "user_age",
         "rawType": "int64",
         "type": "integer"
        },
        {
         "name": "user_member_since",
         "rawType": "int64",
         "type": "integer"
        },
        {
         "name": "user_income",
         "rawType": "int64",
         "type": "integer"
        },
        {
         "name": "user_tenure",
         "rawType": "int64",
         "type": "integer"
        },
        {
         "name": "user_age_group",
         "rawType": "int64",
         "type": "integer"
        }
       ],
       "conversionMethod": "pd.DataFrame",
       "ref": "06e878db-fbce-4d74-b0cd-08ee3e18e7a6",
       "rows": [
        [
         "F",
         "6129",
         "6129",
         "6129",
         "6129",
         "6129",
         "6129"
        ],
        [
         "M",
         "8484",
         "8484",
         "8484",
         "8484",
         "8484",
         "8484"
        ],
        [
         "O",
         "212",
         "212",
         "212",
         "212",
         "212",
         "212"
        ],
        [
         null,
         "2175",
         "0",
         "2175",
         "0",
         "2175",
         "0"
        ]
       ],
       "shape": {
        "columns": 6,
        "rows": 4
       }
      },
      "text/html": [
       "<div>\n",
       "<style scoped>\n",
       "    .dataframe tbody tr th:only-of-type {\n",
       "        vertical-align: middle;\n",
       "    }\n",
       "\n",
       "    .dataframe tbody tr th {\n",
       "        vertical-align: top;\n",
       "    }\n",
       "\n",
       "    .dataframe thead th {\n",
       "        text-align: right;\n",
       "    }\n",
       "</style>\n",
       "<table border=\"1\" class=\"dataframe\">\n",
       "  <thead>\n",
       "    <tr style=\"text-align: right;\">\n",
       "      <th></th>\n",
       "      <th>user_id</th>\n",
       "      <th>user_age</th>\n",
       "      <th>user_member_since</th>\n",
       "      <th>user_income</th>\n",
       "      <th>user_tenure</th>\n",
       "      <th>user_age_group</th>\n",
       "    </tr>\n",
       "    <tr>\n",
       "      <th>user_gender</th>\n",
       "      <th></th>\n",
       "      <th></th>\n",
       "      <th></th>\n",
       "      <th></th>\n",
       "      <th></th>\n",
       "      <th></th>\n",
       "    </tr>\n",
       "  </thead>\n",
       "  <tbody>\n",
       "    <tr>\n",
       "      <th>F</th>\n",
       "      <td>6129</td>\n",
       "      <td>6129</td>\n",
       "      <td>6129</td>\n",
       "      <td>6129</td>\n",
       "      <td>6129</td>\n",
       "      <td>6129</td>\n",
       "    </tr>\n",
       "    <tr>\n",
       "      <th>M</th>\n",
       "      <td>8484</td>\n",
       "      <td>8484</td>\n",
       "      <td>8484</td>\n",
       "      <td>8484</td>\n",
       "      <td>8484</td>\n",
       "      <td>8484</td>\n",
       "    </tr>\n",
       "    <tr>\n",
       "      <th>O</th>\n",
       "      <td>212</td>\n",
       "      <td>212</td>\n",
       "      <td>212</td>\n",
       "      <td>212</td>\n",
       "      <td>212</td>\n",
       "      <td>212</td>\n",
       "    </tr>\n",
       "    <tr>\n",
       "      <th>NaN</th>\n",
       "      <td>2175</td>\n",
       "      <td>0</td>\n",
       "      <td>2175</td>\n",
       "      <td>0</td>\n",
       "      <td>2175</td>\n",
       "      <td>0</td>\n",
       "    </tr>\n",
       "  </tbody>\n",
       "</table>\n",
       "</div>"
      ],
      "text/plain": [
       "             user_id  user_age  user_member_since  user_income  user_tenure  \\\n",
       "user_gender                                                                   \n",
       "F               6129      6129               6129         6129         6129   \n",
       "M               8484      8484               8484         8484         8484   \n",
       "O                212       212                212          212          212   \n",
       "NaN             2175         0               2175            0         2175   \n",
       "\n",
       "             user_age_group  \n",
       "user_gender                  \n",
       "F                      6129  \n",
       "M                      8484  \n",
       "O                       212  \n",
       "NaN                       0  "
      ]
     },
     "execution_count": 7,
     "metadata": {},
     "output_type": "execute_result"
    }
   ],
   "source": [
    "users.groupby( ['user_gender'], dropna=False ).count()"
   ]
  },
  {
   "cell_type": "code",
   "execution_count": 8,
   "id": "57082475",
   "metadata": {},
   "outputs": [
    {
     "data": {
      "application/vnd.microsoft.datawrangler.viewer.v0+json": {
       "columns": [
        {
         "name": "index",
         "rawType": "int64",
         "type": "integer"
        },
        {
         "name": "user_id",
         "rawType": "object",
         "type": "string"
        },
        {
         "name": "intxn_event_type",
         "rawType": "object",
         "type": "string"
        },
        {
         "name": "intxn_value",
         "rawType": "object",
         "type": "unknown"
        },
        {
         "name": "intxn_time",
         "rawType": "int64",
         "type": "integer"
        },
        {
         "name": "intxn_offer id",
         "rawType": "object",
         "type": "unknown"
        },
        {
         "name": "intxn_amount",
         "rawType": "float64",
         "type": "float"
        },
        {
         "name": "intxn_offer_id",
         "rawType": "object",
         "type": "unknown"
        },
        {
         "name": "intxn_reward",
         "rawType": "float64",
         "type": "float"
        }
       ],
       "conversionMethod": "pd.DataFrame",
       "ref": "e731e21c-ce96-4bbf-a2a8-aa9c9a0c7922",
       "rows": [
        [
         "0",
         "78afa995795e4d85b5d9ceeca43f5fef",
         "offer received",
         "{'offer id': '9b98b8c7a33c4b65b9aebfe6a799e6d9'}",
         "0",
         "9b98b8c7a33c4b65b9aebfe6a799e6d9",
         null,
         null,
         null
        ],
        [
         "1",
         "a03223e636434f42ac4c3df47e8bac43",
         "offer received",
         "{'offer id': '0b1e1539f2cc45b7b9fa7c272da2e1d7'}",
         "0",
         "0b1e1539f2cc45b7b9fa7c272da2e1d7",
         null,
         null,
         null
        ],
        [
         "2",
         "e2127556f4f64592b11af22de27a7932",
         "offer received",
         "{'offer id': '2906b810c7d4411798c6938adc9daaa5'}",
         "0",
         "2906b810c7d4411798c6938adc9daaa5",
         null,
         null,
         null
        ],
        [
         "3",
         "8ec6ce2a7e7949b1bf142def7d0e0586",
         "offer received",
         "{'offer id': 'fafdcd668e3743c1bb461111dcafc2a4'}",
         "0",
         "fafdcd668e3743c1bb461111dcafc2a4",
         null,
         null,
         null
        ],
        [
         "4",
         "68617ca6246f4fbc85e91a2a49552598",
         "offer received",
         "{'offer id': '4d5c57ea9a6940dd891ad53e9dbe8da0'}",
         "0",
         "4d5c57ea9a6940dd891ad53e9dbe8da0",
         null,
         null,
         null
        ],
        [
         "5",
         "389bc3fa690240e798340f5a15918d5c",
         "offer received",
         "{'offer id': 'f19421c1d4aa40978ebb69ca19b0e20d'}",
         "0",
         "f19421c1d4aa40978ebb69ca19b0e20d",
         null,
         null,
         null
        ],
        [
         "6",
         "c4863c7985cf408faee930f111475da3",
         "offer received",
         "{'offer id': '2298d6c36e964ae4a3e7e9706d1fb8c2'}",
         "0",
         "2298d6c36e964ae4a3e7e9706d1fb8c2",
         null,
         null,
         null
        ],
        [
         "7",
         "2eeac8d8feae4a8cad5a6af0499a211d",
         "offer received",
         "{'offer id': '3f207df678b143eea3cee63160fa8bed'}",
         "0",
         "3f207df678b143eea3cee63160fa8bed",
         null,
         null,
         null
        ],
        [
         "8",
         "aa4862eba776480b8bb9c68455b8c2e1",
         "offer received",
         "{'offer id': '0b1e1539f2cc45b7b9fa7c272da2e1d7'}",
         "0",
         "0b1e1539f2cc45b7b9fa7c272da2e1d7",
         null,
         null,
         null
        ],
        [
         "9",
         "31dda685af34476cad5bc968bdb01c53",
         "offer received",
         "{'offer id': '0b1e1539f2cc45b7b9fa7c272da2e1d7'}",
         "0",
         "0b1e1539f2cc45b7b9fa7c272da2e1d7",
         null,
         null,
         null
        ],
        [
         "10",
         "744d603ef08c4f33af5a61c8c7628d1c",
         "offer received",
         "{'offer id': '0b1e1539f2cc45b7b9fa7c272da2e1d7'}",
         "0",
         "0b1e1539f2cc45b7b9fa7c272da2e1d7",
         null,
         null,
         null
        ],
        [
         "11",
         "3d02345581554e81b7b289ab5e288078",
         "offer received",
         "{'offer id': '0b1e1539f2cc45b7b9fa7c272da2e1d7'}",
         "0",
         "0b1e1539f2cc45b7b9fa7c272da2e1d7",
         null,
         null,
         null
        ],
        [
         "12",
         "4b0da7e80e5945209a1fdddfe813dbe0",
         "offer received",
         "{'offer id': 'ae264e3637204a6fb9bb56bc8210ddfd'}",
         "0",
         "ae264e3637204a6fb9bb56bc8210ddfd",
         null,
         null,
         null
        ],
        [
         "13",
         "c27e0d6ab72c455a8bb66d980963de60",
         "offer received",
         "{'offer id': '3f207df678b143eea3cee63160fa8bed'}",
         "0",
         "3f207df678b143eea3cee63160fa8bed",
         null,
         null,
         null
        ],
        [
         "14",
         "d53717f5400c4e84affdaeda9dd926b3",
         "offer received",
         "{'offer id': '0b1e1539f2cc45b7b9fa7c272da2e1d7'}",
         "0",
         "0b1e1539f2cc45b7b9fa7c272da2e1d7",
         null,
         null,
         null
        ],
        [
         "15",
         "f806632c011441378d4646567f357a21",
         "offer received",
         "{'offer id': 'fafdcd668e3743c1bb461111dcafc2a4'}",
         "0",
         "fafdcd668e3743c1bb461111dcafc2a4",
         null,
         null,
         null
        ],
        [
         "16",
         "d058f73bf8674a26a95227db098147b1",
         "offer received",
         "{'offer id': '0b1e1539f2cc45b7b9fa7c272da2e1d7'}",
         "0",
         "0b1e1539f2cc45b7b9fa7c272da2e1d7",
         null,
         null,
         null
        ],
        [
         "17",
         "65aba5c617294649aeb624da249e1ee5",
         "offer received",
         "{'offer id': '2906b810c7d4411798c6938adc9daaa5'}",
         "0",
         "2906b810c7d4411798c6938adc9daaa5",
         null,
         null,
         null
        ],
        [
         "18",
         "ebe7ef46ea6f4963a7dd49f501b26779",
         "offer received",
         "{'offer id': '9b98b8c7a33c4b65b9aebfe6a799e6d9'}",
         "0",
         "9b98b8c7a33c4b65b9aebfe6a799e6d9",
         null,
         null,
         null
        ],
        [
         "19",
         "1e9420836d554513ab90eba98552d0a9",
         "offer received",
         "{'offer id': 'ae264e3637204a6fb9bb56bc8210ddfd'}",
         "0",
         "ae264e3637204a6fb9bb56bc8210ddfd",
         null,
         null,
         null
        ],
        [
         "20",
         "868317b9be554cb18e50bc68484749a2",
         "offer received",
         "{'offer id': '2906b810c7d4411798c6938adc9daaa5'}",
         "0",
         "2906b810c7d4411798c6938adc9daaa5",
         null,
         null,
         null
        ],
        [
         "21",
         "f082d80f0aac47a99173ba8ef8fc1909",
         "offer received",
         "{'offer id': '9b98b8c7a33c4b65b9aebfe6a799e6d9'}",
         "0",
         "9b98b8c7a33c4b65b9aebfe6a799e6d9",
         null,
         null,
         null
        ],
        [
         "22",
         "102e9454054946fda62242d2e176fdce",
         "offer received",
         "{'offer id': '4d5c57ea9a6940dd891ad53e9dbe8da0'}",
         "0",
         "4d5c57ea9a6940dd891ad53e9dbe8da0",
         null,
         null,
         null
        ],
        [
         "23",
         "4beeb3ed64dd4898b0edf2f6b67426d3",
         "offer received",
         "{'offer id': '2906b810c7d4411798c6938adc9daaa5'}",
         "0",
         "2906b810c7d4411798c6938adc9daaa5",
         null,
         null,
         null
        ],
        [
         "24",
         "9f30b375d7bd4c62a884ffe7034e09ee",
         "offer received",
         "{'offer id': '2298d6c36e964ae4a3e7e9706d1fb8c2'}",
         "0",
         "2298d6c36e964ae4a3e7e9706d1fb8c2",
         null,
         null,
         null
        ],
        [
         "25",
         "25c906289d154b66bf579693f89481c9",
         "offer received",
         "{'offer id': '2906b810c7d4411798c6938adc9daaa5'}",
         "0",
         "2906b810c7d4411798c6938adc9daaa5",
         null,
         null,
         null
        ],
        [
         "26",
         "6e014185620b49bd98749f728747572f",
         "offer received",
         "{'offer id': 'f19421c1d4aa40978ebb69ca19b0e20d'}",
         "0",
         "f19421c1d4aa40978ebb69ca19b0e20d",
         null,
         null,
         null
        ],
        [
         "27",
         "02c083884c7d45b39cc68e1314fec56c",
         "offer received",
         "{'offer id': 'ae264e3637204a6fb9bb56bc8210ddfd'}",
         "0",
         "ae264e3637204a6fb9bb56bc8210ddfd",
         null,
         null,
         null
        ],
        [
         "28",
         "c0d210398dee4a0895b24444a5fcd1d2",
         "offer received",
         "{'offer id': '9b98b8c7a33c4b65b9aebfe6a799e6d9'}",
         "0",
         "9b98b8c7a33c4b65b9aebfe6a799e6d9",
         null,
         null,
         null
        ],
        [
         "29",
         "8be4463721e14d7fa600686bf8c8b2ed",
         "offer received",
         "{'offer id': 'fafdcd668e3743c1bb461111dcafc2a4'}",
         "0",
         "fafdcd668e3743c1bb461111dcafc2a4",
         null,
         null,
         null
        ],
        [
         "30",
         "57dd18ec5ddc46828afb81ec5977bef2",
         "offer received",
         "{'offer id': '9b98b8c7a33c4b65b9aebfe6a799e6d9'}",
         "0",
         "9b98b8c7a33c4b65b9aebfe6a799e6d9",
         null,
         null,
         null
        ],
        [
         "31",
         "be8a5d1981a2458d90b255ddc7e0d174",
         "offer received",
         "{'offer id': '5a8bc65990b245e5a138643cd4eb9837'}",
         "0",
         "5a8bc65990b245e5a138643cd4eb9837",
         null,
         null,
         null
        ],
        [
         "32",
         "a3b9b4bf115e4564933ea2e4bc936843",
         "offer received",
         "{'offer id': '9b98b8c7a33c4b65b9aebfe6a799e6d9'}",
         "0",
         "9b98b8c7a33c4b65b9aebfe6a799e6d9",
         null,
         null,
         null
        ],
        [
         "33",
         "7584948ea6d04f94b8798624706261c2",
         "offer received",
         "{'offer id': '4d5c57ea9a6940dd891ad53e9dbe8da0'}",
         "0",
         "4d5c57ea9a6940dd891ad53e9dbe8da0",
         null,
         null,
         null
        ],
        [
         "34",
         "9c64321646bf40f6ad1bc98864eaa6b8",
         "offer received",
         "{'offer id': 'fafdcd668e3743c1bb461111dcafc2a4'}",
         "0",
         "fafdcd668e3743c1bb461111dcafc2a4",
         null,
         null,
         null
        ],
        [
         "35",
         "676506bad68e4161b9bbaffeb039626b",
         "offer received",
         "{'offer id': 'ae264e3637204a6fb9bb56bc8210ddfd'}",
         "0",
         "ae264e3637204a6fb9bb56bc8210ddfd",
         null,
         null,
         null
        ],
        [
         "36",
         "9fa9ae8f57894cc9a3b8a9bbe0fc1b2f",
         "offer received",
         "{'offer id': '2906b810c7d4411798c6938adc9daaa5'}",
         "0",
         "2906b810c7d4411798c6938adc9daaa5",
         null,
         null,
         null
        ],
        [
         "37",
         "020d3a52b9ce432ea5f98fc58e9bfcc4",
         "offer received",
         "{'offer id': '2906b810c7d4411798c6938adc9daaa5'}",
         "0",
         "2906b810c7d4411798c6938adc9daaa5",
         null,
         null,
         null
        ],
        [
         "38",
         "32fbf97e89274e8a935903f2ad095e1f",
         "offer received",
         "{'offer id': '9b98b8c7a33c4b65b9aebfe6a799e6d9'}",
         "0",
         "9b98b8c7a33c4b65b9aebfe6a799e6d9",
         null,
         null,
         null
        ],
        [
         "39",
         "fe8264108d5b4f198453bbb1fa7ca6c9",
         "offer received",
         "{'offer id': 'ae264e3637204a6fb9bb56bc8210ddfd'}",
         "0",
         "ae264e3637204a6fb9bb56bc8210ddfd",
         null,
         null,
         null
        ],
        [
         "40",
         "b7a66e629b134079a9bc7120c7b9947b",
         "offer received",
         "{'offer id': 'f19421c1d4aa40978ebb69ca19b0e20d'}",
         "0",
         "f19421c1d4aa40978ebb69ca19b0e20d",
         null,
         null,
         null
        ],
        [
         "41",
         "ca82e1ebc759402c8ab95c341755bdf1",
         "offer received",
         "{'offer id': '2906b810c7d4411798c6938adc9daaa5'}",
         "0",
         "2906b810c7d4411798c6938adc9daaa5",
         null,
         null,
         null
        ],
        [
         "42",
         "e8fe7ffcf1634713a819d48447737c90",
         "offer received",
         "{'offer id': '4d5c57ea9a6940dd891ad53e9dbe8da0'}",
         "0",
         "4d5c57ea9a6940dd891ad53e9dbe8da0",
         null,
         null,
         null
        ],
        [
         "43",
         "d3f146b615514c6380b168bb3df5f05b",
         "offer received",
         "{'offer id': 'f19421c1d4aa40978ebb69ca19b0e20d'}",
         "0",
         "f19421c1d4aa40978ebb69ca19b0e20d",
         null,
         null,
         null
        ],
        [
         "44",
         "a5a6ef2b78a04ddc9f374dd7c7f60bff",
         "offer received",
         "{'offer id': '5a8bc65990b245e5a138643cd4eb9837'}",
         "0",
         "5a8bc65990b245e5a138643cd4eb9837",
         null,
         null,
         null
        ],
        [
         "45",
         "2e87ba0fba1a4d1a8614af771f07a94d",
         "offer received",
         "{'offer id': '2298d6c36e964ae4a3e7e9706d1fb8c2'}",
         "0",
         "2298d6c36e964ae4a3e7e9706d1fb8c2",
         null,
         null,
         null
        ],
        [
         "46",
         "39dbcf43e24d41f4bbf0f134157e0e1e",
         "offer received",
         "{'offer id': 'ae264e3637204a6fb9bb56bc8210ddfd'}",
         "0",
         "ae264e3637204a6fb9bb56bc8210ddfd",
         null,
         null,
         null
        ],
        [
         "47",
         "8c7df0c393db488aac3e58b06a7ea5f9",
         "offer received",
         "{'offer id': '2298d6c36e964ae4a3e7e9706d1fb8c2'}",
         "0",
         "2298d6c36e964ae4a3e7e9706d1fb8c2",
         null,
         null,
         null
        ],
        [
         "48",
         "3a1242dda16248728e350c4bdeb21972",
         "offer received",
         "{'offer id': '4d5c57ea9a6940dd891ad53e9dbe8da0'}",
         "0",
         "4d5c57ea9a6940dd891ad53e9dbe8da0",
         null,
         null,
         null
        ],
        [
         "49",
         "8045834137dc47faa24f2c4547969f33",
         "offer received",
         "{'offer id': 'f19421c1d4aa40978ebb69ca19b0e20d'}",
         "0",
         "f19421c1d4aa40978ebb69ca19b0e20d",
         null,
         null,
         null
        ]
       ],
       "shape": {
        "columns": 8,
        "rows": 306534
       }
      },
      "text/html": [
       "<div>\n",
       "<style scoped>\n",
       "    .dataframe tbody tr th:only-of-type {\n",
       "        vertical-align: middle;\n",
       "    }\n",
       "\n",
       "    .dataframe tbody tr th {\n",
       "        vertical-align: top;\n",
       "    }\n",
       "\n",
       "    .dataframe thead th {\n",
       "        text-align: right;\n",
       "    }\n",
       "</style>\n",
       "<table border=\"1\" class=\"dataframe\">\n",
       "  <thead>\n",
       "    <tr style=\"text-align: right;\">\n",
       "      <th></th>\n",
       "      <th>user_id</th>\n",
       "      <th>intxn_event_type</th>\n",
       "      <th>intxn_value</th>\n",
       "      <th>intxn_time</th>\n",
       "      <th>intxn_offer id</th>\n",
       "      <th>intxn_amount</th>\n",
       "      <th>intxn_offer_id</th>\n",
       "      <th>intxn_reward</th>\n",
       "    </tr>\n",
       "  </thead>\n",
       "  <tbody>\n",
       "    <tr>\n",
       "      <th>0</th>\n",
       "      <td>78afa995795e4d85b5d9ceeca43f5fef</td>\n",
       "      <td>offer received</td>\n",
       "      <td>{'offer id': '9b98b8c7a33c4b65b9aebfe6a799e6d9'}</td>\n",
       "      <td>0</td>\n",
       "      <td>9b98b8c7a33c4b65b9aebfe6a799e6d9</td>\n",
       "      <td>NaN</td>\n",
       "      <td>NaN</td>\n",
       "      <td>NaN</td>\n",
       "    </tr>\n",
       "    <tr>\n",
       "      <th>1</th>\n",
       "      <td>a03223e636434f42ac4c3df47e8bac43</td>\n",
       "      <td>offer received</td>\n",
       "      <td>{'offer id': '0b1e1539f2cc45b7b9fa7c272da2e1d7'}</td>\n",
       "      <td>0</td>\n",
       "      <td>0b1e1539f2cc45b7b9fa7c272da2e1d7</td>\n",
       "      <td>NaN</td>\n",
       "      <td>NaN</td>\n",
       "      <td>NaN</td>\n",
       "    </tr>\n",
       "    <tr>\n",
       "      <th>2</th>\n",
       "      <td>e2127556f4f64592b11af22de27a7932</td>\n",
       "      <td>offer received</td>\n",
       "      <td>{'offer id': '2906b810c7d4411798c6938adc9daaa5'}</td>\n",
       "      <td>0</td>\n",
       "      <td>2906b810c7d4411798c6938adc9daaa5</td>\n",
       "      <td>NaN</td>\n",
       "      <td>NaN</td>\n",
       "      <td>NaN</td>\n",
       "    </tr>\n",
       "    <tr>\n",
       "      <th>3</th>\n",
       "      <td>8ec6ce2a7e7949b1bf142def7d0e0586</td>\n",
       "      <td>offer received</td>\n",
       "      <td>{'offer id': 'fafdcd668e3743c1bb461111dcafc2a4'}</td>\n",
       "      <td>0</td>\n",
       "      <td>fafdcd668e3743c1bb461111dcafc2a4</td>\n",
       "      <td>NaN</td>\n",
       "      <td>NaN</td>\n",
       "      <td>NaN</td>\n",
       "    </tr>\n",
       "    <tr>\n",
       "      <th>4</th>\n",
       "      <td>68617ca6246f4fbc85e91a2a49552598</td>\n",
       "      <td>offer received</td>\n",
       "      <td>{'offer id': '4d5c57ea9a6940dd891ad53e9dbe8da0'}</td>\n",
       "      <td>0</td>\n",
       "      <td>4d5c57ea9a6940dd891ad53e9dbe8da0</td>\n",
       "      <td>NaN</td>\n",
       "      <td>NaN</td>\n",
       "      <td>NaN</td>\n",
       "    </tr>\n",
       "    <tr>\n",
       "      <th>...</th>\n",
       "      <td>...</td>\n",
       "      <td>...</td>\n",
       "      <td>...</td>\n",
       "      <td>...</td>\n",
       "      <td>...</td>\n",
       "      <td>...</td>\n",
       "      <td>...</td>\n",
       "      <td>...</td>\n",
       "    </tr>\n",
       "    <tr>\n",
       "      <th>306529</th>\n",
       "      <td>b3a1272bc9904337b331bf348c3e8c17</td>\n",
       "      <td>transaction</td>\n",
       "      <td>{'amount': 1.5899999999999999}</td>\n",
       "      <td>714</td>\n",
       "      <td>NaN</td>\n",
       "      <td>1.59</td>\n",
       "      <td>NaN</td>\n",
       "      <td>NaN</td>\n",
       "    </tr>\n",
       "    <tr>\n",
       "      <th>306530</th>\n",
       "      <td>68213b08d99a4ae1b0dcb72aebd9aa35</td>\n",
       "      <td>transaction</td>\n",
       "      <td>{'amount': 9.53}</td>\n",
       "      <td>714</td>\n",
       "      <td>NaN</td>\n",
       "      <td>9.53</td>\n",
       "      <td>NaN</td>\n",
       "      <td>NaN</td>\n",
       "    </tr>\n",
       "    <tr>\n",
       "      <th>306531</th>\n",
       "      <td>a00058cf10334a308c68e7631c529907</td>\n",
       "      <td>transaction</td>\n",
       "      <td>{'amount': 3.61}</td>\n",
       "      <td>714</td>\n",
       "      <td>NaN</td>\n",
       "      <td>3.61</td>\n",
       "      <td>NaN</td>\n",
       "      <td>NaN</td>\n",
       "    </tr>\n",
       "    <tr>\n",
       "      <th>306532</th>\n",
       "      <td>76ddbd6576844afe811f1a3c0fbb5bec</td>\n",
       "      <td>transaction</td>\n",
       "      <td>{'amount': 3.5300000000000002}</td>\n",
       "      <td>714</td>\n",
       "      <td>NaN</td>\n",
       "      <td>3.53</td>\n",
       "      <td>NaN</td>\n",
       "      <td>NaN</td>\n",
       "    </tr>\n",
       "    <tr>\n",
       "      <th>306533</th>\n",
       "      <td>c02b10e8752c4d8e9b73f918558531f7</td>\n",
       "      <td>transaction</td>\n",
       "      <td>{'amount': 4.05}</td>\n",
       "      <td>714</td>\n",
       "      <td>NaN</td>\n",
       "      <td>4.05</td>\n",
       "      <td>NaN</td>\n",
       "      <td>NaN</td>\n",
       "    </tr>\n",
       "  </tbody>\n",
       "</table>\n",
       "<p>306534 rows × 8 columns</p>\n",
       "</div>"
      ],
      "text/plain": [
       "                                 user_id intxn_event_type  \\\n",
       "0       78afa995795e4d85b5d9ceeca43f5fef   offer received   \n",
       "1       a03223e636434f42ac4c3df47e8bac43   offer received   \n",
       "2       e2127556f4f64592b11af22de27a7932   offer received   \n",
       "3       8ec6ce2a7e7949b1bf142def7d0e0586   offer received   \n",
       "4       68617ca6246f4fbc85e91a2a49552598   offer received   \n",
       "...                                  ...              ...   \n",
       "306529  b3a1272bc9904337b331bf348c3e8c17      transaction   \n",
       "306530  68213b08d99a4ae1b0dcb72aebd9aa35      transaction   \n",
       "306531  a00058cf10334a308c68e7631c529907      transaction   \n",
       "306532  76ddbd6576844afe811f1a3c0fbb5bec      transaction   \n",
       "306533  c02b10e8752c4d8e9b73f918558531f7      transaction   \n",
       "\n",
       "                                             intxn_value  intxn_time  \\\n",
       "0       {'offer id': '9b98b8c7a33c4b65b9aebfe6a799e6d9'}           0   \n",
       "1       {'offer id': '0b1e1539f2cc45b7b9fa7c272da2e1d7'}           0   \n",
       "2       {'offer id': '2906b810c7d4411798c6938adc9daaa5'}           0   \n",
       "3       {'offer id': 'fafdcd668e3743c1bb461111dcafc2a4'}           0   \n",
       "4       {'offer id': '4d5c57ea9a6940dd891ad53e9dbe8da0'}           0   \n",
       "...                                                  ...         ...   \n",
       "306529                    {'amount': 1.5899999999999999}         714   \n",
       "306530                                  {'amount': 9.53}         714   \n",
       "306531                                  {'amount': 3.61}         714   \n",
       "306532                    {'amount': 3.5300000000000002}         714   \n",
       "306533                                  {'amount': 4.05}         714   \n",
       "\n",
       "                          intxn_offer id  intxn_amount intxn_offer_id  \\\n",
       "0       9b98b8c7a33c4b65b9aebfe6a799e6d9           NaN            NaN   \n",
       "1       0b1e1539f2cc45b7b9fa7c272da2e1d7           NaN            NaN   \n",
       "2       2906b810c7d4411798c6938adc9daaa5           NaN            NaN   \n",
       "3       fafdcd668e3743c1bb461111dcafc2a4           NaN            NaN   \n",
       "4       4d5c57ea9a6940dd891ad53e9dbe8da0           NaN            NaN   \n",
       "...                                  ...           ...            ...   \n",
       "306529                               NaN          1.59            NaN   \n",
       "306530                               NaN          9.53            NaN   \n",
       "306531                               NaN          3.61            NaN   \n",
       "306532                               NaN          3.53            NaN   \n",
       "306533                               NaN          4.05            NaN   \n",
       "\n",
       "        intxn_reward  \n",
       "0                NaN  \n",
       "1                NaN  \n",
       "2                NaN  \n",
       "3                NaN  \n",
       "4                NaN  \n",
       "...              ...  \n",
       "306529           NaN  \n",
       "306530           NaN  \n",
       "306531           NaN  \n",
       "306532           NaN  \n",
       "306533           NaN  \n",
       "\n",
       "[306534 rows x 8 columns]"
      ]
     },
     "execution_count": 8,
     "metadata": {},
     "output_type": "execute_result"
    }
   ],
   "source": [
    "interactions"
   ]
  },
  {
   "cell_type": "code",
   "execution_count": 9,
   "id": "dcc35b84",
   "metadata": {},
   "outputs": [
    {
     "data": {
      "application/vnd.microsoft.datawrangler.viewer.v0+json": {
       "columns": [
        {
         "name": "index",
         "rawType": "int64",
         "type": "integer"
        },
        {
         "name": "intxn_event_type",
         "rawType": "object",
         "type": "string"
        },
        {
         "name": "intxn_offer_id",
         "rawType": "object",
         "type": "unknown"
        },
        {
         "name": "intxn_count",
         "rawType": "int64",
         "type": "integer"
        }
       ],
       "conversionMethod": "pd.DataFrame",
       "ref": "cbdce578-5d87-4684-bb64-f3a48c86dd94",
       "rows": [
        [
         "3",
         "offer completed",
         "4d5c57ea9a6940dd891ad53e9dbe8da0",
         "3331"
        ],
        [
         "0",
         "offer completed",
         "0b1e1539f2cc45b7b9fa7c272da2e1d7",
         "3420"
        ],
        [
         "5",
         "offer completed",
         "ae264e3637204a6fb9bb56bc8210ddfd",
         "3688"
        ],
        [
         "2",
         "offer completed",
         "2906b810c7d4411798c6938adc9daaa5",
         "4017"
        ],
        [
         "6",
         "offer completed",
         "f19421c1d4aa40978ebb69ca19b0e20d",
         "4296"
        ],
        [
         "4",
         "offer completed",
         "9b98b8c7a33c4b65b9aebfe6a799e6d9",
         "4354"
        ],
        [
         "1",
         "offer completed",
         "2298d6c36e964ae4a3e7e9706d1fb8c2",
         "5156"
        ],
        [
         "7",
         "offer completed",
         "fafdcd668e3743c1bb461111dcafc2a4",
         "5317"
        ],
        [
         "9",
         "offer viewed",
         null,
         "57725"
        ],
        [
         "8",
         "offer received",
         null,
         "76277"
        ],
        [
         "10",
         "transaction",
         null,
         "138953"
        ]
       ],
       "shape": {
        "columns": 3,
        "rows": 11
       }
      },
      "text/html": [
       "<div>\n",
       "<style scoped>\n",
       "    .dataframe tbody tr th:only-of-type {\n",
       "        vertical-align: middle;\n",
       "    }\n",
       "\n",
       "    .dataframe tbody tr th {\n",
       "        vertical-align: top;\n",
       "    }\n",
       "\n",
       "    .dataframe thead th {\n",
       "        text-align: right;\n",
       "    }\n",
       "</style>\n",
       "<table border=\"1\" class=\"dataframe\">\n",
       "  <thead>\n",
       "    <tr style=\"text-align: right;\">\n",
       "      <th></th>\n",
       "      <th>intxn_event_type</th>\n",
       "      <th>intxn_offer_id</th>\n",
       "      <th>intxn_count</th>\n",
       "    </tr>\n",
       "  </thead>\n",
       "  <tbody>\n",
       "    <tr>\n",
       "      <th>3</th>\n",
       "      <td>offer completed</td>\n",
       "      <td>4d5c57ea9a6940dd891ad53e9dbe8da0</td>\n",
       "      <td>3331</td>\n",
       "    </tr>\n",
       "    <tr>\n",
       "      <th>0</th>\n",
       "      <td>offer completed</td>\n",
       "      <td>0b1e1539f2cc45b7b9fa7c272da2e1d7</td>\n",
       "      <td>3420</td>\n",
       "    </tr>\n",
       "    <tr>\n",
       "      <th>5</th>\n",
       "      <td>offer completed</td>\n",
       "      <td>ae264e3637204a6fb9bb56bc8210ddfd</td>\n",
       "      <td>3688</td>\n",
       "    </tr>\n",
       "    <tr>\n",
       "      <th>2</th>\n",
       "      <td>offer completed</td>\n",
       "      <td>2906b810c7d4411798c6938adc9daaa5</td>\n",
       "      <td>4017</td>\n",
       "    </tr>\n",
       "    <tr>\n",
       "      <th>6</th>\n",
       "      <td>offer completed</td>\n",
       "      <td>f19421c1d4aa40978ebb69ca19b0e20d</td>\n",
       "      <td>4296</td>\n",
       "    </tr>\n",
       "    <tr>\n",
       "      <th>4</th>\n",
       "      <td>offer completed</td>\n",
       "      <td>9b98b8c7a33c4b65b9aebfe6a799e6d9</td>\n",
       "      <td>4354</td>\n",
       "    </tr>\n",
       "    <tr>\n",
       "      <th>1</th>\n",
       "      <td>offer completed</td>\n",
       "      <td>2298d6c36e964ae4a3e7e9706d1fb8c2</td>\n",
       "      <td>5156</td>\n",
       "    </tr>\n",
       "    <tr>\n",
       "      <th>7</th>\n",
       "      <td>offer completed</td>\n",
       "      <td>fafdcd668e3743c1bb461111dcafc2a4</td>\n",
       "      <td>5317</td>\n",
       "    </tr>\n",
       "    <tr>\n",
       "      <th>9</th>\n",
       "      <td>offer viewed</td>\n",
       "      <td>NaN</td>\n",
       "      <td>57725</td>\n",
       "    </tr>\n",
       "    <tr>\n",
       "      <th>8</th>\n",
       "      <td>offer received</td>\n",
       "      <td>NaN</td>\n",
       "      <td>76277</td>\n",
       "    </tr>\n",
       "    <tr>\n",
       "      <th>10</th>\n",
       "      <td>transaction</td>\n",
       "      <td>NaN</td>\n",
       "      <td>138953</td>\n",
       "    </tr>\n",
       "  </tbody>\n",
       "</table>\n",
       "</div>"
      ],
      "text/plain": [
       "   intxn_event_type                    intxn_offer_id  intxn_count\n",
       "3   offer completed  4d5c57ea9a6940dd891ad53e9dbe8da0         3331\n",
       "0   offer completed  0b1e1539f2cc45b7b9fa7c272da2e1d7         3420\n",
       "5   offer completed  ae264e3637204a6fb9bb56bc8210ddfd         3688\n",
       "2   offer completed  2906b810c7d4411798c6938adc9daaa5         4017\n",
       "6   offer completed  f19421c1d4aa40978ebb69ca19b0e20d         4296\n",
       "4   offer completed  9b98b8c7a33c4b65b9aebfe6a799e6d9         4354\n",
       "1   offer completed  2298d6c36e964ae4a3e7e9706d1fb8c2         5156\n",
       "7   offer completed  fafdcd668e3743c1bb461111dcafc2a4         5317\n",
       "9      offer viewed                               NaN        57725\n",
       "8    offer received                               NaN        76277\n",
       "10      transaction                               NaN       138953"
      ]
     },
     "execution_count": 9,
     "metadata": {},
     "output_type": "execute_result"
    }
   ],
   "source": [
    "interactions.groupby(['intxn_event_type', 'intxn_offer_id'], dropna=False).count()['user_id'].reset_index().rename( columns={ 'user_id': 'intxn_count' } ).sort_values('intxn_count')"
   ]
  },
  {
   "cell_type": "code",
   "execution_count": 10,
   "id": "bb47e10e",
   "metadata": {},
   "outputs": [
    {
     "data": {
      "application/vnd.microsoft.datawrangler.viewer.v0+json": {
       "columns": [
        {
         "name": "index",
         "rawType": "int64",
         "type": "integer"
        },
        {
         "name": "user_id",
         "rawType": "object",
         "type": "string"
        },
        {
         "name": "intxn_event_type",
         "rawType": "object",
         "type": "string"
        },
        {
         "name": "intxn_value",
         "rawType": "object",
         "type": "unknown"
        },
        {
         "name": "intxn_time",
         "rawType": "int64",
         "type": "integer"
        },
        {
         "name": "intxn_offer id",
         "rawType": "object",
         "type": "string"
        },
        {
         "name": "intxn_amount",
         "rawType": "float64",
         "type": "float"
        },
        {
         "name": "intxn_offer_id",
         "rawType": "object",
         "type": "unknown"
        },
        {
         "name": "intxn_reward",
         "rawType": "float64",
         "type": "float"
        }
       ],
       "conversionMethod": "pd.DataFrame",
       "ref": "7b48a19f-cf9f-423d-8543-daaa2a953eec",
       "rows": [
        [
         "0",
         "78afa995795e4d85b5d9ceeca43f5fef",
         "offer received",
         "{'offer id': '9b98b8c7a33c4b65b9aebfe6a799e6d9'}",
         "0",
         "9b98b8c7a33c4b65b9aebfe6a799e6d9",
         null,
         null,
         null
        ],
        [
         "1",
         "a03223e636434f42ac4c3df47e8bac43",
         "offer received",
         "{'offer id': '0b1e1539f2cc45b7b9fa7c272da2e1d7'}",
         "0",
         "0b1e1539f2cc45b7b9fa7c272da2e1d7",
         null,
         null,
         null
        ],
        [
         "2",
         "e2127556f4f64592b11af22de27a7932",
         "offer received",
         "{'offer id': '2906b810c7d4411798c6938adc9daaa5'}",
         "0",
         "2906b810c7d4411798c6938adc9daaa5",
         null,
         null,
         null
        ],
        [
         "3",
         "8ec6ce2a7e7949b1bf142def7d0e0586",
         "offer received",
         "{'offer id': 'fafdcd668e3743c1bb461111dcafc2a4'}",
         "0",
         "fafdcd668e3743c1bb461111dcafc2a4",
         null,
         null,
         null
        ],
        [
         "4",
         "68617ca6246f4fbc85e91a2a49552598",
         "offer received",
         "{'offer id': '4d5c57ea9a6940dd891ad53e9dbe8da0'}",
         "0",
         "4d5c57ea9a6940dd891ad53e9dbe8da0",
         null,
         null,
         null
        ],
        [
         "5",
         "389bc3fa690240e798340f5a15918d5c",
         "offer received",
         "{'offer id': 'f19421c1d4aa40978ebb69ca19b0e20d'}",
         "0",
         "f19421c1d4aa40978ebb69ca19b0e20d",
         null,
         null,
         null
        ],
        [
         "6",
         "c4863c7985cf408faee930f111475da3",
         "offer received",
         "{'offer id': '2298d6c36e964ae4a3e7e9706d1fb8c2'}",
         "0",
         "2298d6c36e964ae4a3e7e9706d1fb8c2",
         null,
         null,
         null
        ],
        [
         "7",
         "2eeac8d8feae4a8cad5a6af0499a211d",
         "offer received",
         "{'offer id': '3f207df678b143eea3cee63160fa8bed'}",
         "0",
         "3f207df678b143eea3cee63160fa8bed",
         null,
         null,
         null
        ],
        [
         "8",
         "aa4862eba776480b8bb9c68455b8c2e1",
         "offer received",
         "{'offer id': '0b1e1539f2cc45b7b9fa7c272da2e1d7'}",
         "0",
         "0b1e1539f2cc45b7b9fa7c272da2e1d7",
         null,
         null,
         null
        ],
        [
         "9",
         "31dda685af34476cad5bc968bdb01c53",
         "offer received",
         "{'offer id': '0b1e1539f2cc45b7b9fa7c272da2e1d7'}",
         "0",
         "0b1e1539f2cc45b7b9fa7c272da2e1d7",
         null,
         null,
         null
        ],
        [
         "10",
         "744d603ef08c4f33af5a61c8c7628d1c",
         "offer received",
         "{'offer id': '0b1e1539f2cc45b7b9fa7c272da2e1d7'}",
         "0",
         "0b1e1539f2cc45b7b9fa7c272da2e1d7",
         null,
         null,
         null
        ],
        [
         "11",
         "3d02345581554e81b7b289ab5e288078",
         "offer received",
         "{'offer id': '0b1e1539f2cc45b7b9fa7c272da2e1d7'}",
         "0",
         "0b1e1539f2cc45b7b9fa7c272da2e1d7",
         null,
         null,
         null
        ],
        [
         "12",
         "4b0da7e80e5945209a1fdddfe813dbe0",
         "offer received",
         "{'offer id': 'ae264e3637204a6fb9bb56bc8210ddfd'}",
         "0",
         "ae264e3637204a6fb9bb56bc8210ddfd",
         null,
         null,
         null
        ],
        [
         "13",
         "c27e0d6ab72c455a8bb66d980963de60",
         "offer received",
         "{'offer id': '3f207df678b143eea3cee63160fa8bed'}",
         "0",
         "3f207df678b143eea3cee63160fa8bed",
         null,
         null,
         null
        ],
        [
         "14",
         "d53717f5400c4e84affdaeda9dd926b3",
         "offer received",
         "{'offer id': '0b1e1539f2cc45b7b9fa7c272da2e1d7'}",
         "0",
         "0b1e1539f2cc45b7b9fa7c272da2e1d7",
         null,
         null,
         null
        ],
        [
         "15",
         "f806632c011441378d4646567f357a21",
         "offer received",
         "{'offer id': 'fafdcd668e3743c1bb461111dcafc2a4'}",
         "0",
         "fafdcd668e3743c1bb461111dcafc2a4",
         null,
         null,
         null
        ],
        [
         "16",
         "d058f73bf8674a26a95227db098147b1",
         "offer received",
         "{'offer id': '0b1e1539f2cc45b7b9fa7c272da2e1d7'}",
         "0",
         "0b1e1539f2cc45b7b9fa7c272da2e1d7",
         null,
         null,
         null
        ],
        [
         "17",
         "65aba5c617294649aeb624da249e1ee5",
         "offer received",
         "{'offer id': '2906b810c7d4411798c6938adc9daaa5'}",
         "0",
         "2906b810c7d4411798c6938adc9daaa5",
         null,
         null,
         null
        ],
        [
         "18",
         "ebe7ef46ea6f4963a7dd49f501b26779",
         "offer received",
         "{'offer id': '9b98b8c7a33c4b65b9aebfe6a799e6d9'}",
         "0",
         "9b98b8c7a33c4b65b9aebfe6a799e6d9",
         null,
         null,
         null
        ],
        [
         "19",
         "1e9420836d554513ab90eba98552d0a9",
         "offer received",
         "{'offer id': 'ae264e3637204a6fb9bb56bc8210ddfd'}",
         "0",
         "ae264e3637204a6fb9bb56bc8210ddfd",
         null,
         null,
         null
        ],
        [
         "20",
         "868317b9be554cb18e50bc68484749a2",
         "offer received",
         "{'offer id': '2906b810c7d4411798c6938adc9daaa5'}",
         "0",
         "2906b810c7d4411798c6938adc9daaa5",
         null,
         null,
         null
        ],
        [
         "21",
         "f082d80f0aac47a99173ba8ef8fc1909",
         "offer received",
         "{'offer id': '9b98b8c7a33c4b65b9aebfe6a799e6d9'}",
         "0",
         "9b98b8c7a33c4b65b9aebfe6a799e6d9",
         null,
         null,
         null
        ],
        [
         "22",
         "102e9454054946fda62242d2e176fdce",
         "offer received",
         "{'offer id': '4d5c57ea9a6940dd891ad53e9dbe8da0'}",
         "0",
         "4d5c57ea9a6940dd891ad53e9dbe8da0",
         null,
         null,
         null
        ],
        [
         "23",
         "4beeb3ed64dd4898b0edf2f6b67426d3",
         "offer received",
         "{'offer id': '2906b810c7d4411798c6938adc9daaa5'}",
         "0",
         "2906b810c7d4411798c6938adc9daaa5",
         null,
         null,
         null
        ],
        [
         "24",
         "9f30b375d7bd4c62a884ffe7034e09ee",
         "offer received",
         "{'offer id': '2298d6c36e964ae4a3e7e9706d1fb8c2'}",
         "0",
         "2298d6c36e964ae4a3e7e9706d1fb8c2",
         null,
         null,
         null
        ],
        [
         "25",
         "25c906289d154b66bf579693f89481c9",
         "offer received",
         "{'offer id': '2906b810c7d4411798c6938adc9daaa5'}",
         "0",
         "2906b810c7d4411798c6938adc9daaa5",
         null,
         null,
         null
        ],
        [
         "26",
         "6e014185620b49bd98749f728747572f",
         "offer received",
         "{'offer id': 'f19421c1d4aa40978ebb69ca19b0e20d'}",
         "0",
         "f19421c1d4aa40978ebb69ca19b0e20d",
         null,
         null,
         null
        ],
        [
         "27",
         "02c083884c7d45b39cc68e1314fec56c",
         "offer received",
         "{'offer id': 'ae264e3637204a6fb9bb56bc8210ddfd'}",
         "0",
         "ae264e3637204a6fb9bb56bc8210ddfd",
         null,
         null,
         null
        ],
        [
         "28",
         "c0d210398dee4a0895b24444a5fcd1d2",
         "offer received",
         "{'offer id': '9b98b8c7a33c4b65b9aebfe6a799e6d9'}",
         "0",
         "9b98b8c7a33c4b65b9aebfe6a799e6d9",
         null,
         null,
         null
        ],
        [
         "29",
         "8be4463721e14d7fa600686bf8c8b2ed",
         "offer received",
         "{'offer id': 'fafdcd668e3743c1bb461111dcafc2a4'}",
         "0",
         "fafdcd668e3743c1bb461111dcafc2a4",
         null,
         null,
         null
        ],
        [
         "30",
         "57dd18ec5ddc46828afb81ec5977bef2",
         "offer received",
         "{'offer id': '9b98b8c7a33c4b65b9aebfe6a799e6d9'}",
         "0",
         "9b98b8c7a33c4b65b9aebfe6a799e6d9",
         null,
         null,
         null
        ],
        [
         "31",
         "be8a5d1981a2458d90b255ddc7e0d174",
         "offer received",
         "{'offer id': '5a8bc65990b245e5a138643cd4eb9837'}",
         "0",
         "5a8bc65990b245e5a138643cd4eb9837",
         null,
         null,
         null
        ],
        [
         "32",
         "a3b9b4bf115e4564933ea2e4bc936843",
         "offer received",
         "{'offer id': '9b98b8c7a33c4b65b9aebfe6a799e6d9'}",
         "0",
         "9b98b8c7a33c4b65b9aebfe6a799e6d9",
         null,
         null,
         null
        ],
        [
         "33",
         "7584948ea6d04f94b8798624706261c2",
         "offer received",
         "{'offer id': '4d5c57ea9a6940dd891ad53e9dbe8da0'}",
         "0",
         "4d5c57ea9a6940dd891ad53e9dbe8da0",
         null,
         null,
         null
        ],
        [
         "34",
         "9c64321646bf40f6ad1bc98864eaa6b8",
         "offer received",
         "{'offer id': 'fafdcd668e3743c1bb461111dcafc2a4'}",
         "0",
         "fafdcd668e3743c1bb461111dcafc2a4",
         null,
         null,
         null
        ],
        [
         "35",
         "676506bad68e4161b9bbaffeb039626b",
         "offer received",
         "{'offer id': 'ae264e3637204a6fb9bb56bc8210ddfd'}",
         "0",
         "ae264e3637204a6fb9bb56bc8210ddfd",
         null,
         null,
         null
        ],
        [
         "36",
         "9fa9ae8f57894cc9a3b8a9bbe0fc1b2f",
         "offer received",
         "{'offer id': '2906b810c7d4411798c6938adc9daaa5'}",
         "0",
         "2906b810c7d4411798c6938adc9daaa5",
         null,
         null,
         null
        ],
        [
         "37",
         "020d3a52b9ce432ea5f98fc58e9bfcc4",
         "offer received",
         "{'offer id': '2906b810c7d4411798c6938adc9daaa5'}",
         "0",
         "2906b810c7d4411798c6938adc9daaa5",
         null,
         null,
         null
        ],
        [
         "38",
         "32fbf97e89274e8a935903f2ad095e1f",
         "offer received",
         "{'offer id': '9b98b8c7a33c4b65b9aebfe6a799e6d9'}",
         "0",
         "9b98b8c7a33c4b65b9aebfe6a799e6d9",
         null,
         null,
         null
        ],
        [
         "39",
         "fe8264108d5b4f198453bbb1fa7ca6c9",
         "offer received",
         "{'offer id': 'ae264e3637204a6fb9bb56bc8210ddfd'}",
         "0",
         "ae264e3637204a6fb9bb56bc8210ddfd",
         null,
         null,
         null
        ],
        [
         "40",
         "b7a66e629b134079a9bc7120c7b9947b",
         "offer received",
         "{'offer id': 'f19421c1d4aa40978ebb69ca19b0e20d'}",
         "0",
         "f19421c1d4aa40978ebb69ca19b0e20d",
         null,
         null,
         null
        ],
        [
         "41",
         "ca82e1ebc759402c8ab95c341755bdf1",
         "offer received",
         "{'offer id': '2906b810c7d4411798c6938adc9daaa5'}",
         "0",
         "2906b810c7d4411798c6938adc9daaa5",
         null,
         null,
         null
        ],
        [
         "42",
         "e8fe7ffcf1634713a819d48447737c90",
         "offer received",
         "{'offer id': '4d5c57ea9a6940dd891ad53e9dbe8da0'}",
         "0",
         "4d5c57ea9a6940dd891ad53e9dbe8da0",
         null,
         null,
         null
        ],
        [
         "43",
         "d3f146b615514c6380b168bb3df5f05b",
         "offer received",
         "{'offer id': 'f19421c1d4aa40978ebb69ca19b0e20d'}",
         "0",
         "f19421c1d4aa40978ebb69ca19b0e20d",
         null,
         null,
         null
        ],
        [
         "44",
         "a5a6ef2b78a04ddc9f374dd7c7f60bff",
         "offer received",
         "{'offer id': '5a8bc65990b245e5a138643cd4eb9837'}",
         "0",
         "5a8bc65990b245e5a138643cd4eb9837",
         null,
         null,
         null
        ],
        [
         "45",
         "2e87ba0fba1a4d1a8614af771f07a94d",
         "offer received",
         "{'offer id': '2298d6c36e964ae4a3e7e9706d1fb8c2'}",
         "0",
         "2298d6c36e964ae4a3e7e9706d1fb8c2",
         null,
         null,
         null
        ],
        [
         "46",
         "39dbcf43e24d41f4bbf0f134157e0e1e",
         "offer received",
         "{'offer id': 'ae264e3637204a6fb9bb56bc8210ddfd'}",
         "0",
         "ae264e3637204a6fb9bb56bc8210ddfd",
         null,
         null,
         null
        ],
        [
         "47",
         "8c7df0c393db488aac3e58b06a7ea5f9",
         "offer received",
         "{'offer id': '2298d6c36e964ae4a3e7e9706d1fb8c2'}",
         "0",
         "2298d6c36e964ae4a3e7e9706d1fb8c2",
         null,
         null,
         null
        ],
        [
         "48",
         "3a1242dda16248728e350c4bdeb21972",
         "offer received",
         "{'offer id': '4d5c57ea9a6940dd891ad53e9dbe8da0'}",
         "0",
         "4d5c57ea9a6940dd891ad53e9dbe8da0",
         null,
         null,
         null
        ],
        [
         "49",
         "8045834137dc47faa24f2c4547969f33",
         "offer received",
         "{'offer id': 'f19421c1d4aa40978ebb69ca19b0e20d'}",
         "0",
         "f19421c1d4aa40978ebb69ca19b0e20d",
         null,
         null,
         null
        ]
       ],
       "shape": {
        "columns": 8,
        "rows": 76277
       }
      },
      "text/html": [
       "<div>\n",
       "<style scoped>\n",
       "    .dataframe tbody tr th:only-of-type {\n",
       "        vertical-align: middle;\n",
       "    }\n",
       "\n",
       "    .dataframe tbody tr th {\n",
       "        vertical-align: top;\n",
       "    }\n",
       "\n",
       "    .dataframe thead th {\n",
       "        text-align: right;\n",
       "    }\n",
       "</style>\n",
       "<table border=\"1\" class=\"dataframe\">\n",
       "  <thead>\n",
       "    <tr style=\"text-align: right;\">\n",
       "      <th></th>\n",
       "      <th>user_id</th>\n",
       "      <th>intxn_event_type</th>\n",
       "      <th>intxn_value</th>\n",
       "      <th>intxn_time</th>\n",
       "      <th>intxn_offer id</th>\n",
       "      <th>intxn_amount</th>\n",
       "      <th>intxn_offer_id</th>\n",
       "      <th>intxn_reward</th>\n",
       "    </tr>\n",
       "  </thead>\n",
       "  <tbody>\n",
       "    <tr>\n",
       "      <th>0</th>\n",
       "      <td>78afa995795e4d85b5d9ceeca43f5fef</td>\n",
       "      <td>offer received</td>\n",
       "      <td>{'offer id': '9b98b8c7a33c4b65b9aebfe6a799e6d9'}</td>\n",
       "      <td>0</td>\n",
       "      <td>9b98b8c7a33c4b65b9aebfe6a799e6d9</td>\n",
       "      <td>NaN</td>\n",
       "      <td>NaN</td>\n",
       "      <td>NaN</td>\n",
       "    </tr>\n",
       "    <tr>\n",
       "      <th>1</th>\n",
       "      <td>a03223e636434f42ac4c3df47e8bac43</td>\n",
       "      <td>offer received</td>\n",
       "      <td>{'offer id': '0b1e1539f2cc45b7b9fa7c272da2e1d7'}</td>\n",
       "      <td>0</td>\n",
       "      <td>0b1e1539f2cc45b7b9fa7c272da2e1d7</td>\n",
       "      <td>NaN</td>\n",
       "      <td>NaN</td>\n",
       "      <td>NaN</td>\n",
       "    </tr>\n",
       "    <tr>\n",
       "      <th>2</th>\n",
       "      <td>e2127556f4f64592b11af22de27a7932</td>\n",
       "      <td>offer received</td>\n",
       "      <td>{'offer id': '2906b810c7d4411798c6938adc9daaa5'}</td>\n",
       "      <td>0</td>\n",
       "      <td>2906b810c7d4411798c6938adc9daaa5</td>\n",
       "      <td>NaN</td>\n",
       "      <td>NaN</td>\n",
       "      <td>NaN</td>\n",
       "    </tr>\n",
       "    <tr>\n",
       "      <th>3</th>\n",
       "      <td>8ec6ce2a7e7949b1bf142def7d0e0586</td>\n",
       "      <td>offer received</td>\n",
       "      <td>{'offer id': 'fafdcd668e3743c1bb461111dcafc2a4'}</td>\n",
       "      <td>0</td>\n",
       "      <td>fafdcd668e3743c1bb461111dcafc2a4</td>\n",
       "      <td>NaN</td>\n",
       "      <td>NaN</td>\n",
       "      <td>NaN</td>\n",
       "    </tr>\n",
       "    <tr>\n",
       "      <th>4</th>\n",
       "      <td>68617ca6246f4fbc85e91a2a49552598</td>\n",
       "      <td>offer received</td>\n",
       "      <td>{'offer id': '4d5c57ea9a6940dd891ad53e9dbe8da0'}</td>\n",
       "      <td>0</td>\n",
       "      <td>4d5c57ea9a6940dd891ad53e9dbe8da0</td>\n",
       "      <td>NaN</td>\n",
       "      <td>NaN</td>\n",
       "      <td>NaN</td>\n",
       "    </tr>\n",
       "    <tr>\n",
       "      <th>...</th>\n",
       "      <td>...</td>\n",
       "      <td>...</td>\n",
       "      <td>...</td>\n",
       "      <td>...</td>\n",
       "      <td>...</td>\n",
       "      <td>...</td>\n",
       "      <td>...</td>\n",
       "      <td>...</td>\n",
       "    </tr>\n",
       "    <tr>\n",
       "      <th>257882</th>\n",
       "      <td>d087c473b4d247ccb0abfef59ba12b0e</td>\n",
       "      <td>offer received</td>\n",
       "      <td>{'offer id': 'ae264e3637204a6fb9bb56bc8210ddfd'}</td>\n",
       "      <td>576</td>\n",
       "      <td>ae264e3637204a6fb9bb56bc8210ddfd</td>\n",
       "      <td>NaN</td>\n",
       "      <td>NaN</td>\n",
       "      <td>NaN</td>\n",
       "    </tr>\n",
       "    <tr>\n",
       "      <th>257883</th>\n",
       "      <td>cb23b66c56f64b109d673d5e56574529</td>\n",
       "      <td>offer received</td>\n",
       "      <td>{'offer id': '2906b810c7d4411798c6938adc9daaa5'}</td>\n",
       "      <td>576</td>\n",
       "      <td>2906b810c7d4411798c6938adc9daaa5</td>\n",
       "      <td>NaN</td>\n",
       "      <td>NaN</td>\n",
       "      <td>NaN</td>\n",
       "    </tr>\n",
       "    <tr>\n",
       "      <th>257884</th>\n",
       "      <td>6d5f3a774f3d4714ab0c092238f3a1d7</td>\n",
       "      <td>offer received</td>\n",
       "      <td>{'offer id': '2298d6c36e964ae4a3e7e9706d1fb8c2'}</td>\n",
       "      <td>576</td>\n",
       "      <td>2298d6c36e964ae4a3e7e9706d1fb8c2</td>\n",
       "      <td>NaN</td>\n",
       "      <td>NaN</td>\n",
       "      <td>NaN</td>\n",
       "    </tr>\n",
       "    <tr>\n",
       "      <th>257885</th>\n",
       "      <td>9dc1421481194dcd9400aec7c9ae6366</td>\n",
       "      <td>offer received</td>\n",
       "      <td>{'offer id': 'ae264e3637204a6fb9bb56bc8210ddfd'}</td>\n",
       "      <td>576</td>\n",
       "      <td>ae264e3637204a6fb9bb56bc8210ddfd</td>\n",
       "      <td>NaN</td>\n",
       "      <td>NaN</td>\n",
       "      <td>NaN</td>\n",
       "    </tr>\n",
       "    <tr>\n",
       "      <th>257886</th>\n",
       "      <td>e4052622e5ba45a8b96b59aba68cf068</td>\n",
       "      <td>offer received</td>\n",
       "      <td>{'offer id': '3f207df678b143eea3cee63160fa8bed'}</td>\n",
       "      <td>576</td>\n",
       "      <td>3f207df678b143eea3cee63160fa8bed</td>\n",
       "      <td>NaN</td>\n",
       "      <td>NaN</td>\n",
       "      <td>NaN</td>\n",
       "    </tr>\n",
       "  </tbody>\n",
       "</table>\n",
       "<p>76277 rows × 8 columns</p>\n",
       "</div>"
      ],
      "text/plain": [
       "                                 user_id intxn_event_type  \\\n",
       "0       78afa995795e4d85b5d9ceeca43f5fef   offer received   \n",
       "1       a03223e636434f42ac4c3df47e8bac43   offer received   \n",
       "2       e2127556f4f64592b11af22de27a7932   offer received   \n",
       "3       8ec6ce2a7e7949b1bf142def7d0e0586   offer received   \n",
       "4       68617ca6246f4fbc85e91a2a49552598   offer received   \n",
       "...                                  ...              ...   \n",
       "257882  d087c473b4d247ccb0abfef59ba12b0e   offer received   \n",
       "257883  cb23b66c56f64b109d673d5e56574529   offer received   \n",
       "257884  6d5f3a774f3d4714ab0c092238f3a1d7   offer received   \n",
       "257885  9dc1421481194dcd9400aec7c9ae6366   offer received   \n",
       "257886  e4052622e5ba45a8b96b59aba68cf068   offer received   \n",
       "\n",
       "                                             intxn_value  intxn_time  \\\n",
       "0       {'offer id': '9b98b8c7a33c4b65b9aebfe6a799e6d9'}           0   \n",
       "1       {'offer id': '0b1e1539f2cc45b7b9fa7c272da2e1d7'}           0   \n",
       "2       {'offer id': '2906b810c7d4411798c6938adc9daaa5'}           0   \n",
       "3       {'offer id': 'fafdcd668e3743c1bb461111dcafc2a4'}           0   \n",
       "4       {'offer id': '4d5c57ea9a6940dd891ad53e9dbe8da0'}           0   \n",
       "...                                                  ...         ...   \n",
       "257882  {'offer id': 'ae264e3637204a6fb9bb56bc8210ddfd'}         576   \n",
       "257883  {'offer id': '2906b810c7d4411798c6938adc9daaa5'}         576   \n",
       "257884  {'offer id': '2298d6c36e964ae4a3e7e9706d1fb8c2'}         576   \n",
       "257885  {'offer id': 'ae264e3637204a6fb9bb56bc8210ddfd'}         576   \n",
       "257886  {'offer id': '3f207df678b143eea3cee63160fa8bed'}         576   \n",
       "\n",
       "                          intxn_offer id  intxn_amount intxn_offer_id  \\\n",
       "0       9b98b8c7a33c4b65b9aebfe6a799e6d9           NaN            NaN   \n",
       "1       0b1e1539f2cc45b7b9fa7c272da2e1d7           NaN            NaN   \n",
       "2       2906b810c7d4411798c6938adc9daaa5           NaN            NaN   \n",
       "3       fafdcd668e3743c1bb461111dcafc2a4           NaN            NaN   \n",
       "4       4d5c57ea9a6940dd891ad53e9dbe8da0           NaN            NaN   \n",
       "...                                  ...           ...            ...   \n",
       "257882  ae264e3637204a6fb9bb56bc8210ddfd           NaN            NaN   \n",
       "257883  2906b810c7d4411798c6938adc9daaa5           NaN            NaN   \n",
       "257884  2298d6c36e964ae4a3e7e9706d1fb8c2           NaN            NaN   \n",
       "257885  ae264e3637204a6fb9bb56bc8210ddfd           NaN            NaN   \n",
       "257886  3f207df678b143eea3cee63160fa8bed           NaN            NaN   \n",
       "\n",
       "        intxn_reward  \n",
       "0                NaN  \n",
       "1                NaN  \n",
       "2                NaN  \n",
       "3                NaN  \n",
       "4                NaN  \n",
       "...              ...  \n",
       "257882           NaN  \n",
       "257883           NaN  \n",
       "257884           NaN  \n",
       "257885           NaN  \n",
       "257886           NaN  \n",
       "\n",
       "[76277 rows x 8 columns]"
      ]
     },
     "execution_count": 10,
     "metadata": {},
     "output_type": "execute_result"
    }
   ],
   "source": [
    "interactions[ interactions['intxn_event_type'] == 'offer received' ]"
   ]
  },
  {
   "cell_type": "code",
   "execution_count": 13,
   "id": "dfbff320",
   "metadata": {},
   "outputs": [
    {
     "data": {
      "application/vnd.microsoft.datawrangler.viewer.v0+json": {
       "columns": [
        {
         "name": "index",
         "rawType": "int64",
         "type": "integer"
        },
        {
         "name": "intxn_event_type",
         "rawType": "object",
         "type": "string"
        },
        {
         "name": "intxn_count",
         "rawType": "int64",
         "type": "integer"
        }
       ],
       "conversionMethod": "pd.DataFrame",
       "ref": "152c5ab4-001d-48fb-a375-24856ff2f9f5",
       "rows": [
        [
         "0",
         "offer completed",
         "33579"
        ],
        [
         "2",
         "offer viewed",
         "57725"
        ],
        [
         "1",
         "offer received",
         "76277"
        ],
        [
         "3",
         "transaction",
         "138953"
        ]
       ],
       "shape": {
        "columns": 2,
        "rows": 4
       }
      },
      "text/html": [
       "<div>\n",
       "<style scoped>\n",
       "    .dataframe tbody tr th:only-of-type {\n",
       "        vertical-align: middle;\n",
       "    }\n",
       "\n",
       "    .dataframe tbody tr th {\n",
       "        vertical-align: top;\n",
       "    }\n",
       "\n",
       "    .dataframe thead th {\n",
       "        text-align: right;\n",
       "    }\n",
       "</style>\n",
       "<table border=\"1\" class=\"dataframe\">\n",
       "  <thead>\n",
       "    <tr style=\"text-align: right;\">\n",
       "      <th></th>\n",
       "      <th>intxn_event_type</th>\n",
       "      <th>intxn_count</th>\n",
       "    </tr>\n",
       "  </thead>\n",
       "  <tbody>\n",
       "    <tr>\n",
       "      <th>0</th>\n",
       "      <td>offer completed</td>\n",
       "      <td>33579</td>\n",
       "    </tr>\n",
       "    <tr>\n",
       "      <th>2</th>\n",
       "      <td>offer viewed</td>\n",
       "      <td>57725</td>\n",
       "    </tr>\n",
       "    <tr>\n",
       "      <th>1</th>\n",
       "      <td>offer received</td>\n",
       "      <td>76277</td>\n",
       "    </tr>\n",
       "    <tr>\n",
       "      <th>3</th>\n",
       "      <td>transaction</td>\n",
       "      <td>138953</td>\n",
       "    </tr>\n",
       "  </tbody>\n",
       "</table>\n",
       "</div>"
      ],
      "text/plain": [
       "  intxn_event_type  intxn_count\n",
       "0  offer completed        33579\n",
       "2     offer viewed        57725\n",
       "1   offer received        76277\n",
       "3      transaction       138953"
      ]
     },
     "execution_count": 13,
     "metadata": {},
     "output_type": "execute_result"
    }
   ],
   "source": [
    "interactions.groupby('intxn_event_type', dropna=False).count()['user_id'].reset_index().rename( columns={ 'user_id': 'intxn_count' } ).sort_values('intxn_count')"
   ]
  },
  {
   "cell_type": "code",
   "execution_count": 16,
   "id": "2fe985da",
   "metadata": {},
   "outputs": [],
   "source": [
    "offers_received = interactions[ interactions['intxn_event_type'] == 'offer received' ]\n",
    "offers_completed = interactions[ interactions['intxn_event_type'] == 'offer completed' ]\n",
    "offers_viewed = interactions[ interactions['intxn_event_type'] == 'offer viewed' ]\n",
    "transactions = interactions[ interactions['intxn_event_type'] == 'transaction' ]\n",
    "\n",
    "offers_received = offers_received.drop( columns=['intxn_amount', 'intxn_reward'] )"
   ]
  },
  {
   "cell_type": "code",
   "execution_count": 17,
   "id": "047110dd",
   "metadata": {},
   "outputs": [
    {
     "data": {
      "application/vnd.microsoft.datawrangler.viewer.v0+json": {
       "columns": [
        {
         "name": "index",
         "rawType": "int64",
         "type": "integer"
        },
        {
         "name": "user_id",
         "rawType": "object",
         "type": "string"
        },
        {
         "name": "intxn_event_type",
         "rawType": "object",
         "type": "string"
        },
        {
         "name": "intxn_value",
         "rawType": "object",
         "type": "unknown"
        },
        {
         "name": "intxn_time",
         "rawType": "int64",
         "type": "integer"
        },
        {
         "name": "intxn_offer id",
         "rawType": "object",
         "type": "string"
        },
        {
         "name": "intxn_offer_id",
         "rawType": "object",
         "type": "unknown"
        }
       ],
       "conversionMethod": "pd.DataFrame",
       "ref": "23c7b3d3-18ab-4af7-bf96-fe16022aa566",
       "rows": [
        [
         "0",
         "78afa995795e4d85b5d9ceeca43f5fef",
         "offer received",
         "{'offer id': '9b98b8c7a33c4b65b9aebfe6a799e6d9'}",
         "0",
         "9b98b8c7a33c4b65b9aebfe6a799e6d9",
         null
        ],
        [
         "1",
         "a03223e636434f42ac4c3df47e8bac43",
         "offer received",
         "{'offer id': '0b1e1539f2cc45b7b9fa7c272da2e1d7'}",
         "0",
         "0b1e1539f2cc45b7b9fa7c272da2e1d7",
         null
        ],
        [
         "2",
         "e2127556f4f64592b11af22de27a7932",
         "offer received",
         "{'offer id': '2906b810c7d4411798c6938adc9daaa5'}",
         "0",
         "2906b810c7d4411798c6938adc9daaa5",
         null
        ],
        [
         "3",
         "8ec6ce2a7e7949b1bf142def7d0e0586",
         "offer received",
         "{'offer id': 'fafdcd668e3743c1bb461111dcafc2a4'}",
         "0",
         "fafdcd668e3743c1bb461111dcafc2a4",
         null
        ],
        [
         "4",
         "68617ca6246f4fbc85e91a2a49552598",
         "offer received",
         "{'offer id': '4d5c57ea9a6940dd891ad53e9dbe8da0'}",
         "0",
         "4d5c57ea9a6940dd891ad53e9dbe8da0",
         null
        ],
        [
         "5",
         "389bc3fa690240e798340f5a15918d5c",
         "offer received",
         "{'offer id': 'f19421c1d4aa40978ebb69ca19b0e20d'}",
         "0",
         "f19421c1d4aa40978ebb69ca19b0e20d",
         null
        ],
        [
         "6",
         "c4863c7985cf408faee930f111475da3",
         "offer received",
         "{'offer id': '2298d6c36e964ae4a3e7e9706d1fb8c2'}",
         "0",
         "2298d6c36e964ae4a3e7e9706d1fb8c2",
         null
        ],
        [
         "7",
         "2eeac8d8feae4a8cad5a6af0499a211d",
         "offer received",
         "{'offer id': '3f207df678b143eea3cee63160fa8bed'}",
         "0",
         "3f207df678b143eea3cee63160fa8bed",
         null
        ],
        [
         "8",
         "aa4862eba776480b8bb9c68455b8c2e1",
         "offer received",
         "{'offer id': '0b1e1539f2cc45b7b9fa7c272da2e1d7'}",
         "0",
         "0b1e1539f2cc45b7b9fa7c272da2e1d7",
         null
        ],
        [
         "9",
         "31dda685af34476cad5bc968bdb01c53",
         "offer received",
         "{'offer id': '0b1e1539f2cc45b7b9fa7c272da2e1d7'}",
         "0",
         "0b1e1539f2cc45b7b9fa7c272da2e1d7",
         null
        ],
        [
         "10",
         "744d603ef08c4f33af5a61c8c7628d1c",
         "offer received",
         "{'offer id': '0b1e1539f2cc45b7b9fa7c272da2e1d7'}",
         "0",
         "0b1e1539f2cc45b7b9fa7c272da2e1d7",
         null
        ],
        [
         "11",
         "3d02345581554e81b7b289ab5e288078",
         "offer received",
         "{'offer id': '0b1e1539f2cc45b7b9fa7c272da2e1d7'}",
         "0",
         "0b1e1539f2cc45b7b9fa7c272da2e1d7",
         null
        ],
        [
         "12",
         "4b0da7e80e5945209a1fdddfe813dbe0",
         "offer received",
         "{'offer id': 'ae264e3637204a6fb9bb56bc8210ddfd'}",
         "0",
         "ae264e3637204a6fb9bb56bc8210ddfd",
         null
        ],
        [
         "13",
         "c27e0d6ab72c455a8bb66d980963de60",
         "offer received",
         "{'offer id': '3f207df678b143eea3cee63160fa8bed'}",
         "0",
         "3f207df678b143eea3cee63160fa8bed",
         null
        ],
        [
         "14",
         "d53717f5400c4e84affdaeda9dd926b3",
         "offer received",
         "{'offer id': '0b1e1539f2cc45b7b9fa7c272da2e1d7'}",
         "0",
         "0b1e1539f2cc45b7b9fa7c272da2e1d7",
         null
        ],
        [
         "15",
         "f806632c011441378d4646567f357a21",
         "offer received",
         "{'offer id': 'fafdcd668e3743c1bb461111dcafc2a4'}",
         "0",
         "fafdcd668e3743c1bb461111dcafc2a4",
         null
        ],
        [
         "16",
         "d058f73bf8674a26a95227db098147b1",
         "offer received",
         "{'offer id': '0b1e1539f2cc45b7b9fa7c272da2e1d7'}",
         "0",
         "0b1e1539f2cc45b7b9fa7c272da2e1d7",
         null
        ],
        [
         "17",
         "65aba5c617294649aeb624da249e1ee5",
         "offer received",
         "{'offer id': '2906b810c7d4411798c6938adc9daaa5'}",
         "0",
         "2906b810c7d4411798c6938adc9daaa5",
         null
        ],
        [
         "18",
         "ebe7ef46ea6f4963a7dd49f501b26779",
         "offer received",
         "{'offer id': '9b98b8c7a33c4b65b9aebfe6a799e6d9'}",
         "0",
         "9b98b8c7a33c4b65b9aebfe6a799e6d9",
         null
        ],
        [
         "19",
         "1e9420836d554513ab90eba98552d0a9",
         "offer received",
         "{'offer id': 'ae264e3637204a6fb9bb56bc8210ddfd'}",
         "0",
         "ae264e3637204a6fb9bb56bc8210ddfd",
         null
        ],
        [
         "20",
         "868317b9be554cb18e50bc68484749a2",
         "offer received",
         "{'offer id': '2906b810c7d4411798c6938adc9daaa5'}",
         "0",
         "2906b810c7d4411798c6938adc9daaa5",
         null
        ],
        [
         "21",
         "f082d80f0aac47a99173ba8ef8fc1909",
         "offer received",
         "{'offer id': '9b98b8c7a33c4b65b9aebfe6a799e6d9'}",
         "0",
         "9b98b8c7a33c4b65b9aebfe6a799e6d9",
         null
        ],
        [
         "22",
         "102e9454054946fda62242d2e176fdce",
         "offer received",
         "{'offer id': '4d5c57ea9a6940dd891ad53e9dbe8da0'}",
         "0",
         "4d5c57ea9a6940dd891ad53e9dbe8da0",
         null
        ],
        [
         "23",
         "4beeb3ed64dd4898b0edf2f6b67426d3",
         "offer received",
         "{'offer id': '2906b810c7d4411798c6938adc9daaa5'}",
         "0",
         "2906b810c7d4411798c6938adc9daaa5",
         null
        ],
        [
         "24",
         "9f30b375d7bd4c62a884ffe7034e09ee",
         "offer received",
         "{'offer id': '2298d6c36e964ae4a3e7e9706d1fb8c2'}",
         "0",
         "2298d6c36e964ae4a3e7e9706d1fb8c2",
         null
        ],
        [
         "25",
         "25c906289d154b66bf579693f89481c9",
         "offer received",
         "{'offer id': '2906b810c7d4411798c6938adc9daaa5'}",
         "0",
         "2906b810c7d4411798c6938adc9daaa5",
         null
        ],
        [
         "26",
         "6e014185620b49bd98749f728747572f",
         "offer received",
         "{'offer id': 'f19421c1d4aa40978ebb69ca19b0e20d'}",
         "0",
         "f19421c1d4aa40978ebb69ca19b0e20d",
         null
        ],
        [
         "27",
         "02c083884c7d45b39cc68e1314fec56c",
         "offer received",
         "{'offer id': 'ae264e3637204a6fb9bb56bc8210ddfd'}",
         "0",
         "ae264e3637204a6fb9bb56bc8210ddfd",
         null
        ],
        [
         "28",
         "c0d210398dee4a0895b24444a5fcd1d2",
         "offer received",
         "{'offer id': '9b98b8c7a33c4b65b9aebfe6a799e6d9'}",
         "0",
         "9b98b8c7a33c4b65b9aebfe6a799e6d9",
         null
        ],
        [
         "29",
         "8be4463721e14d7fa600686bf8c8b2ed",
         "offer received",
         "{'offer id': 'fafdcd668e3743c1bb461111dcafc2a4'}",
         "0",
         "fafdcd668e3743c1bb461111dcafc2a4",
         null
        ],
        [
         "30",
         "57dd18ec5ddc46828afb81ec5977bef2",
         "offer received",
         "{'offer id': '9b98b8c7a33c4b65b9aebfe6a799e6d9'}",
         "0",
         "9b98b8c7a33c4b65b9aebfe6a799e6d9",
         null
        ],
        [
         "31",
         "be8a5d1981a2458d90b255ddc7e0d174",
         "offer received",
         "{'offer id': '5a8bc65990b245e5a138643cd4eb9837'}",
         "0",
         "5a8bc65990b245e5a138643cd4eb9837",
         null
        ],
        [
         "32",
         "a3b9b4bf115e4564933ea2e4bc936843",
         "offer received",
         "{'offer id': '9b98b8c7a33c4b65b9aebfe6a799e6d9'}",
         "0",
         "9b98b8c7a33c4b65b9aebfe6a799e6d9",
         null
        ],
        [
         "33",
         "7584948ea6d04f94b8798624706261c2",
         "offer received",
         "{'offer id': '4d5c57ea9a6940dd891ad53e9dbe8da0'}",
         "0",
         "4d5c57ea9a6940dd891ad53e9dbe8da0",
         null
        ],
        [
         "34",
         "9c64321646bf40f6ad1bc98864eaa6b8",
         "offer received",
         "{'offer id': 'fafdcd668e3743c1bb461111dcafc2a4'}",
         "0",
         "fafdcd668e3743c1bb461111dcafc2a4",
         null
        ],
        [
         "35",
         "676506bad68e4161b9bbaffeb039626b",
         "offer received",
         "{'offer id': 'ae264e3637204a6fb9bb56bc8210ddfd'}",
         "0",
         "ae264e3637204a6fb9bb56bc8210ddfd",
         null
        ],
        [
         "36",
         "9fa9ae8f57894cc9a3b8a9bbe0fc1b2f",
         "offer received",
         "{'offer id': '2906b810c7d4411798c6938adc9daaa5'}",
         "0",
         "2906b810c7d4411798c6938adc9daaa5",
         null
        ],
        [
         "37",
         "020d3a52b9ce432ea5f98fc58e9bfcc4",
         "offer received",
         "{'offer id': '2906b810c7d4411798c6938adc9daaa5'}",
         "0",
         "2906b810c7d4411798c6938adc9daaa5",
         null
        ],
        [
         "38",
         "32fbf97e89274e8a935903f2ad095e1f",
         "offer received",
         "{'offer id': '9b98b8c7a33c4b65b9aebfe6a799e6d9'}",
         "0",
         "9b98b8c7a33c4b65b9aebfe6a799e6d9",
         null
        ],
        [
         "39",
         "fe8264108d5b4f198453bbb1fa7ca6c9",
         "offer received",
         "{'offer id': 'ae264e3637204a6fb9bb56bc8210ddfd'}",
         "0",
         "ae264e3637204a6fb9bb56bc8210ddfd",
         null
        ],
        [
         "40",
         "b7a66e629b134079a9bc7120c7b9947b",
         "offer received",
         "{'offer id': 'f19421c1d4aa40978ebb69ca19b0e20d'}",
         "0",
         "f19421c1d4aa40978ebb69ca19b0e20d",
         null
        ],
        [
         "41",
         "ca82e1ebc759402c8ab95c341755bdf1",
         "offer received",
         "{'offer id': '2906b810c7d4411798c6938adc9daaa5'}",
         "0",
         "2906b810c7d4411798c6938adc9daaa5",
         null
        ],
        [
         "42",
         "e8fe7ffcf1634713a819d48447737c90",
         "offer received",
         "{'offer id': '4d5c57ea9a6940dd891ad53e9dbe8da0'}",
         "0",
         "4d5c57ea9a6940dd891ad53e9dbe8da0",
         null
        ],
        [
         "43",
         "d3f146b615514c6380b168bb3df5f05b",
         "offer received",
         "{'offer id': 'f19421c1d4aa40978ebb69ca19b0e20d'}",
         "0",
         "f19421c1d4aa40978ebb69ca19b0e20d",
         null
        ],
        [
         "44",
         "a5a6ef2b78a04ddc9f374dd7c7f60bff",
         "offer received",
         "{'offer id': '5a8bc65990b245e5a138643cd4eb9837'}",
         "0",
         "5a8bc65990b245e5a138643cd4eb9837",
         null
        ],
        [
         "45",
         "2e87ba0fba1a4d1a8614af771f07a94d",
         "offer received",
         "{'offer id': '2298d6c36e964ae4a3e7e9706d1fb8c2'}",
         "0",
         "2298d6c36e964ae4a3e7e9706d1fb8c2",
         null
        ],
        [
         "46",
         "39dbcf43e24d41f4bbf0f134157e0e1e",
         "offer received",
         "{'offer id': 'ae264e3637204a6fb9bb56bc8210ddfd'}",
         "0",
         "ae264e3637204a6fb9bb56bc8210ddfd",
         null
        ],
        [
         "47",
         "8c7df0c393db488aac3e58b06a7ea5f9",
         "offer received",
         "{'offer id': '2298d6c36e964ae4a3e7e9706d1fb8c2'}",
         "0",
         "2298d6c36e964ae4a3e7e9706d1fb8c2",
         null
        ],
        [
         "48",
         "3a1242dda16248728e350c4bdeb21972",
         "offer received",
         "{'offer id': '4d5c57ea9a6940dd891ad53e9dbe8da0'}",
         "0",
         "4d5c57ea9a6940dd891ad53e9dbe8da0",
         null
        ],
        [
         "49",
         "8045834137dc47faa24f2c4547969f33",
         "offer received",
         "{'offer id': 'f19421c1d4aa40978ebb69ca19b0e20d'}",
         "0",
         "f19421c1d4aa40978ebb69ca19b0e20d",
         null
        ]
       ],
       "shape": {
        "columns": 6,
        "rows": 76277
       }
      },
      "text/html": [
       "<div>\n",
       "<style scoped>\n",
       "    .dataframe tbody tr th:only-of-type {\n",
       "        vertical-align: middle;\n",
       "    }\n",
       "\n",
       "    .dataframe tbody tr th {\n",
       "        vertical-align: top;\n",
       "    }\n",
       "\n",
       "    .dataframe thead th {\n",
       "        text-align: right;\n",
       "    }\n",
       "</style>\n",
       "<table border=\"1\" class=\"dataframe\">\n",
       "  <thead>\n",
       "    <tr style=\"text-align: right;\">\n",
       "      <th></th>\n",
       "      <th>user_id</th>\n",
       "      <th>intxn_event_type</th>\n",
       "      <th>intxn_value</th>\n",
       "      <th>intxn_time</th>\n",
       "      <th>intxn_offer id</th>\n",
       "      <th>intxn_offer_id</th>\n",
       "    </tr>\n",
       "  </thead>\n",
       "  <tbody>\n",
       "    <tr>\n",
       "      <th>0</th>\n",
       "      <td>78afa995795e4d85b5d9ceeca43f5fef</td>\n",
       "      <td>offer received</td>\n",
       "      <td>{'offer id': '9b98b8c7a33c4b65b9aebfe6a799e6d9'}</td>\n",
       "      <td>0</td>\n",
       "      <td>9b98b8c7a33c4b65b9aebfe6a799e6d9</td>\n",
       "      <td>NaN</td>\n",
       "    </tr>\n",
       "    <tr>\n",
       "      <th>1</th>\n",
       "      <td>a03223e636434f42ac4c3df47e8bac43</td>\n",
       "      <td>offer received</td>\n",
       "      <td>{'offer id': '0b1e1539f2cc45b7b9fa7c272da2e1d7'}</td>\n",
       "      <td>0</td>\n",
       "      <td>0b1e1539f2cc45b7b9fa7c272da2e1d7</td>\n",
       "      <td>NaN</td>\n",
       "    </tr>\n",
       "    <tr>\n",
       "      <th>2</th>\n",
       "      <td>e2127556f4f64592b11af22de27a7932</td>\n",
       "      <td>offer received</td>\n",
       "      <td>{'offer id': '2906b810c7d4411798c6938adc9daaa5'}</td>\n",
       "      <td>0</td>\n",
       "      <td>2906b810c7d4411798c6938adc9daaa5</td>\n",
       "      <td>NaN</td>\n",
       "    </tr>\n",
       "    <tr>\n",
       "      <th>3</th>\n",
       "      <td>8ec6ce2a7e7949b1bf142def7d0e0586</td>\n",
       "      <td>offer received</td>\n",
       "      <td>{'offer id': 'fafdcd668e3743c1bb461111dcafc2a4'}</td>\n",
       "      <td>0</td>\n",
       "      <td>fafdcd668e3743c1bb461111dcafc2a4</td>\n",
       "      <td>NaN</td>\n",
       "    </tr>\n",
       "    <tr>\n",
       "      <th>4</th>\n",
       "      <td>68617ca6246f4fbc85e91a2a49552598</td>\n",
       "      <td>offer received</td>\n",
       "      <td>{'offer id': '4d5c57ea9a6940dd891ad53e9dbe8da0'}</td>\n",
       "      <td>0</td>\n",
       "      <td>4d5c57ea9a6940dd891ad53e9dbe8da0</td>\n",
       "      <td>NaN</td>\n",
       "    </tr>\n",
       "    <tr>\n",
       "      <th>...</th>\n",
       "      <td>...</td>\n",
       "      <td>...</td>\n",
       "      <td>...</td>\n",
       "      <td>...</td>\n",
       "      <td>...</td>\n",
       "      <td>...</td>\n",
       "    </tr>\n",
       "    <tr>\n",
       "      <th>257882</th>\n",
       "      <td>d087c473b4d247ccb0abfef59ba12b0e</td>\n",
       "      <td>offer received</td>\n",
       "      <td>{'offer id': 'ae264e3637204a6fb9bb56bc8210ddfd'}</td>\n",
       "      <td>576</td>\n",
       "      <td>ae264e3637204a6fb9bb56bc8210ddfd</td>\n",
       "      <td>NaN</td>\n",
       "    </tr>\n",
       "    <tr>\n",
       "      <th>257883</th>\n",
       "      <td>cb23b66c56f64b109d673d5e56574529</td>\n",
       "      <td>offer received</td>\n",
       "      <td>{'offer id': '2906b810c7d4411798c6938adc9daaa5'}</td>\n",
       "      <td>576</td>\n",
       "      <td>2906b810c7d4411798c6938adc9daaa5</td>\n",
       "      <td>NaN</td>\n",
       "    </tr>\n",
       "    <tr>\n",
       "      <th>257884</th>\n",
       "      <td>6d5f3a774f3d4714ab0c092238f3a1d7</td>\n",
       "      <td>offer received</td>\n",
       "      <td>{'offer id': '2298d6c36e964ae4a3e7e9706d1fb8c2'}</td>\n",
       "      <td>576</td>\n",
       "      <td>2298d6c36e964ae4a3e7e9706d1fb8c2</td>\n",
       "      <td>NaN</td>\n",
       "    </tr>\n",
       "    <tr>\n",
       "      <th>257885</th>\n",
       "      <td>9dc1421481194dcd9400aec7c9ae6366</td>\n",
       "      <td>offer received</td>\n",
       "      <td>{'offer id': 'ae264e3637204a6fb9bb56bc8210ddfd'}</td>\n",
       "      <td>576</td>\n",
       "      <td>ae264e3637204a6fb9bb56bc8210ddfd</td>\n",
       "      <td>NaN</td>\n",
       "    </tr>\n",
       "    <tr>\n",
       "      <th>257886</th>\n",
       "      <td>e4052622e5ba45a8b96b59aba68cf068</td>\n",
       "      <td>offer received</td>\n",
       "      <td>{'offer id': '3f207df678b143eea3cee63160fa8bed'}</td>\n",
       "      <td>576</td>\n",
       "      <td>3f207df678b143eea3cee63160fa8bed</td>\n",
       "      <td>NaN</td>\n",
       "    </tr>\n",
       "  </tbody>\n",
       "</table>\n",
       "<p>76277 rows × 6 columns</p>\n",
       "</div>"
      ],
      "text/plain": [
       "                                 user_id intxn_event_type  \\\n",
       "0       78afa995795e4d85b5d9ceeca43f5fef   offer received   \n",
       "1       a03223e636434f42ac4c3df47e8bac43   offer received   \n",
       "2       e2127556f4f64592b11af22de27a7932   offer received   \n",
       "3       8ec6ce2a7e7949b1bf142def7d0e0586   offer received   \n",
       "4       68617ca6246f4fbc85e91a2a49552598   offer received   \n",
       "...                                  ...              ...   \n",
       "257882  d087c473b4d247ccb0abfef59ba12b0e   offer received   \n",
       "257883  cb23b66c56f64b109d673d5e56574529   offer received   \n",
       "257884  6d5f3a774f3d4714ab0c092238f3a1d7   offer received   \n",
       "257885  9dc1421481194dcd9400aec7c9ae6366   offer received   \n",
       "257886  e4052622e5ba45a8b96b59aba68cf068   offer received   \n",
       "\n",
       "                                             intxn_value  intxn_time  \\\n",
       "0       {'offer id': '9b98b8c7a33c4b65b9aebfe6a799e6d9'}           0   \n",
       "1       {'offer id': '0b1e1539f2cc45b7b9fa7c272da2e1d7'}           0   \n",
       "2       {'offer id': '2906b810c7d4411798c6938adc9daaa5'}           0   \n",
       "3       {'offer id': 'fafdcd668e3743c1bb461111dcafc2a4'}           0   \n",
       "4       {'offer id': '4d5c57ea9a6940dd891ad53e9dbe8da0'}           0   \n",
       "...                                                  ...         ...   \n",
       "257882  {'offer id': 'ae264e3637204a6fb9bb56bc8210ddfd'}         576   \n",
       "257883  {'offer id': '2906b810c7d4411798c6938adc9daaa5'}         576   \n",
       "257884  {'offer id': '2298d6c36e964ae4a3e7e9706d1fb8c2'}         576   \n",
       "257885  {'offer id': 'ae264e3637204a6fb9bb56bc8210ddfd'}         576   \n",
       "257886  {'offer id': '3f207df678b143eea3cee63160fa8bed'}         576   \n",
       "\n",
       "                          intxn_offer id intxn_offer_id  \n",
       "0       9b98b8c7a33c4b65b9aebfe6a799e6d9            NaN  \n",
       "1       0b1e1539f2cc45b7b9fa7c272da2e1d7            NaN  \n",
       "2       2906b810c7d4411798c6938adc9daaa5            NaN  \n",
       "3       fafdcd668e3743c1bb461111dcafc2a4            NaN  \n",
       "4       4d5c57ea9a6940dd891ad53e9dbe8da0            NaN  \n",
       "...                                  ...            ...  \n",
       "257882  ae264e3637204a6fb9bb56bc8210ddfd            NaN  \n",
       "257883  2906b810c7d4411798c6938adc9daaa5            NaN  \n",
       "257884  2298d6c36e964ae4a3e7e9706d1fb8c2            NaN  \n",
       "257885  ae264e3637204a6fb9bb56bc8210ddfd            NaN  \n",
       "257886  3f207df678b143eea3cee63160fa8bed            NaN  \n",
       "\n",
       "[76277 rows x 6 columns]"
      ]
     },
     "execution_count": 17,
     "metadata": {},
     "output_type": "execute_result"
    }
   ],
   "source": [
    "offers_received"
   ]
  },
  {
   "cell_type": "code",
   "execution_count": 11,
   "id": "ca4938af",
   "metadata": {},
   "outputs": [],
   "source": [
    "# conn = create_engine('sqlite:///data/raw_starbucks.db')\n",
    "\n",
    "# portfolio.to_sql('portfolio', conn, if_exists='replace', index=False)\n",
    "# profile.to_sql('profile', conn, if_exists='replace', index=False)\n",
    "# transcript.to_sql('transcript', conn, if_exists='replace', index=False)\n",
    "\n",
    "# conn.dispose()"
   ]
  }
 ],
 "metadata": {
  "kernelspec": {
   "display_name": "base",
   "language": "python",
   "name": "python3"
  },
  "language_info": {
   "codemirror_mode": {
    "name": "ipython",
    "version": 3
   },
   "file_extension": ".py",
   "mimetype": "text/x-python",
   "name": "python",
   "nbconvert_exporter": "python",
   "pygments_lexer": "ipython3",
   "version": "3.12.4"
  }
 },
 "nbformat": 4,
 "nbformat_minor": 5
}
