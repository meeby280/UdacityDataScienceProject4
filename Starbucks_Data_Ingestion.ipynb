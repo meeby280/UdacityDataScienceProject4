{
 "cells": [
  {
   "cell_type": "code",
   "execution_count": 9,
   "id": "99618e43",
   "metadata": {},
   "outputs": [],
   "source": [
    "import pandas as pd\n",
    "import numpy as np\n",
    "\n",
    "from sqlalchemy import create_engine"
   ]
  },
  {
   "cell_type": "code",
   "execution_count": 10,
   "id": "f8d233d9",
   "metadata": {},
   "outputs": [],
   "source": [
    "portfolio = pd.read_json('data/portfolio.json', orient='records', lines=True)\n",
    "profile = pd.read_json('data/profile.json', orient='records', lines=True)\n",
    "transcript = pd.read_json('data/transcript.json', orient='records', lines=True)"
   ]
  },
  {
   "cell_type": "code",
   "execution_count": 11,
   "id": "e08affc4",
   "metadata": {},
   "outputs": [
    {
     "data": {
      "application/vnd.microsoft.datawrangler.viewer.v0+json": {
       "columns": [
        {
         "name": "index",
         "rawType": "int64",
         "type": "integer"
        },
        {
         "name": "reward",
         "rawType": "int64",
         "type": "integer"
        },
        {
         "name": "channels",
         "rawType": "object",
         "type": "string"
        },
        {
         "name": "difficulty",
         "rawType": "int64",
         "type": "integer"
        },
        {
         "name": "duration",
         "rawType": "int64",
         "type": "integer"
        },
        {
         "name": "offer_type",
         "rawType": "object",
         "type": "string"
        },
        {
         "name": "id",
         "rawType": "object",
         "type": "string"
        }
       ],
       "conversionMethod": "pd.DataFrame",
       "ref": "7b9acc05-4de9-4825-b2c5-f157d584221f",
       "rows": [
        [
         "0",
         "10",
         "email",
         "10",
         "7",
         "bogo",
         "ae264e3637204a6fb9bb56bc8210ddfd"
        ],
        [
         "0",
         "10",
         "mobile",
         "10",
         "7",
         "bogo",
         "ae264e3637204a6fb9bb56bc8210ddfd"
        ],
        [
         "0",
         "10",
         "social",
         "10",
         "7",
         "bogo",
         "ae264e3637204a6fb9bb56bc8210ddfd"
        ],
        [
         "1",
         "10",
         "web",
         "10",
         "5",
         "bogo",
         "4d5c57ea9a6940dd891ad53e9dbe8da0"
        ],
        [
         "1",
         "10",
         "email",
         "10",
         "5",
         "bogo",
         "4d5c57ea9a6940dd891ad53e9dbe8da0"
        ],
        [
         "1",
         "10",
         "mobile",
         "10",
         "5",
         "bogo",
         "4d5c57ea9a6940dd891ad53e9dbe8da0"
        ],
        [
         "1",
         "10",
         "social",
         "10",
         "5",
         "bogo",
         "4d5c57ea9a6940dd891ad53e9dbe8da0"
        ],
        [
         "2",
         "0",
         "web",
         "0",
         "4",
         "informational",
         "3f207df678b143eea3cee63160fa8bed"
        ],
        [
         "2",
         "0",
         "email",
         "0",
         "4",
         "informational",
         "3f207df678b143eea3cee63160fa8bed"
        ],
        [
         "2",
         "0",
         "mobile",
         "0",
         "4",
         "informational",
         "3f207df678b143eea3cee63160fa8bed"
        ],
        [
         "3",
         "5",
         "web",
         "5",
         "7",
         "bogo",
         "9b98b8c7a33c4b65b9aebfe6a799e6d9"
        ],
        [
         "3",
         "5",
         "email",
         "5",
         "7",
         "bogo",
         "9b98b8c7a33c4b65b9aebfe6a799e6d9"
        ],
        [
         "3",
         "5",
         "mobile",
         "5",
         "7",
         "bogo",
         "9b98b8c7a33c4b65b9aebfe6a799e6d9"
        ],
        [
         "4",
         "5",
         "web",
         "20",
         "10",
         "discount",
         "0b1e1539f2cc45b7b9fa7c272da2e1d7"
        ],
        [
         "4",
         "5",
         "email",
         "20",
         "10",
         "discount",
         "0b1e1539f2cc45b7b9fa7c272da2e1d7"
        ],
        [
         "5",
         "3",
         "web",
         "7",
         "7",
         "discount",
         "2298d6c36e964ae4a3e7e9706d1fb8c2"
        ],
        [
         "5",
         "3",
         "email",
         "7",
         "7",
         "discount",
         "2298d6c36e964ae4a3e7e9706d1fb8c2"
        ],
        [
         "5",
         "3",
         "mobile",
         "7",
         "7",
         "discount",
         "2298d6c36e964ae4a3e7e9706d1fb8c2"
        ],
        [
         "5",
         "3",
         "social",
         "7",
         "7",
         "discount",
         "2298d6c36e964ae4a3e7e9706d1fb8c2"
        ],
        [
         "6",
         "2",
         "web",
         "10",
         "10",
         "discount",
         "fafdcd668e3743c1bb461111dcafc2a4"
        ],
        [
         "6",
         "2",
         "email",
         "10",
         "10",
         "discount",
         "fafdcd668e3743c1bb461111dcafc2a4"
        ],
        [
         "6",
         "2",
         "mobile",
         "10",
         "10",
         "discount",
         "fafdcd668e3743c1bb461111dcafc2a4"
        ],
        [
         "6",
         "2",
         "social",
         "10",
         "10",
         "discount",
         "fafdcd668e3743c1bb461111dcafc2a4"
        ],
        [
         "7",
         "0",
         "email",
         "0",
         "3",
         "informational",
         "5a8bc65990b245e5a138643cd4eb9837"
        ],
        [
         "7",
         "0",
         "mobile",
         "0",
         "3",
         "informational",
         "5a8bc65990b245e5a138643cd4eb9837"
        ],
        [
         "7",
         "0",
         "social",
         "0",
         "3",
         "informational",
         "5a8bc65990b245e5a138643cd4eb9837"
        ],
        [
         "8",
         "5",
         "web",
         "5",
         "5",
         "bogo",
         "f19421c1d4aa40978ebb69ca19b0e20d"
        ],
        [
         "8",
         "5",
         "email",
         "5",
         "5",
         "bogo",
         "f19421c1d4aa40978ebb69ca19b0e20d"
        ],
        [
         "8",
         "5",
         "mobile",
         "5",
         "5",
         "bogo",
         "f19421c1d4aa40978ebb69ca19b0e20d"
        ],
        [
         "8",
         "5",
         "social",
         "5",
         "5",
         "bogo",
         "f19421c1d4aa40978ebb69ca19b0e20d"
        ],
        [
         "9",
         "2",
         "web",
         "10",
         "7",
         "discount",
         "2906b810c7d4411798c6938adc9daaa5"
        ],
        [
         "9",
         "2",
         "email",
         "10",
         "7",
         "discount",
         "2906b810c7d4411798c6938adc9daaa5"
        ],
        [
         "9",
         "2",
         "mobile",
         "10",
         "7",
         "discount",
         "2906b810c7d4411798c6938adc9daaa5"
        ]
       ],
       "shape": {
        "columns": 6,
        "rows": 33
       }
      },
      "text/html": [
       "<div>\n",
       "<style scoped>\n",
       "    .dataframe tbody tr th:only-of-type {\n",
       "        vertical-align: middle;\n",
       "    }\n",
       "\n",
       "    .dataframe tbody tr th {\n",
       "        vertical-align: top;\n",
       "    }\n",
       "\n",
       "    .dataframe thead th {\n",
       "        text-align: right;\n",
       "    }\n",
       "</style>\n",
       "<table border=\"1\" class=\"dataframe\">\n",
       "  <thead>\n",
       "    <tr style=\"text-align: right;\">\n",
       "      <th></th>\n",
       "      <th>reward</th>\n",
       "      <th>channels</th>\n",
       "      <th>difficulty</th>\n",
       "      <th>duration</th>\n",
       "      <th>offer_type</th>\n",
       "      <th>id</th>\n",
       "    </tr>\n",
       "  </thead>\n",
       "  <tbody>\n",
       "    <tr>\n",
       "      <th>0</th>\n",
       "      <td>10</td>\n",
       "      <td>email</td>\n",
       "      <td>10</td>\n",
       "      <td>7</td>\n",
       "      <td>bogo</td>\n",
       "      <td>ae264e3637204a6fb9bb56bc8210ddfd</td>\n",
       "    </tr>\n",
       "    <tr>\n",
       "      <th>0</th>\n",
       "      <td>10</td>\n",
       "      <td>mobile</td>\n",
       "      <td>10</td>\n",
       "      <td>7</td>\n",
       "      <td>bogo</td>\n",
       "      <td>ae264e3637204a6fb9bb56bc8210ddfd</td>\n",
       "    </tr>\n",
       "    <tr>\n",
       "      <th>0</th>\n",
       "      <td>10</td>\n",
       "      <td>social</td>\n",
       "      <td>10</td>\n",
       "      <td>7</td>\n",
       "      <td>bogo</td>\n",
       "      <td>ae264e3637204a6fb9bb56bc8210ddfd</td>\n",
       "    </tr>\n",
       "    <tr>\n",
       "      <th>1</th>\n",
       "      <td>10</td>\n",
       "      <td>web</td>\n",
       "      <td>10</td>\n",
       "      <td>5</td>\n",
       "      <td>bogo</td>\n",
       "      <td>4d5c57ea9a6940dd891ad53e9dbe8da0</td>\n",
       "    </tr>\n",
       "    <tr>\n",
       "      <th>1</th>\n",
       "      <td>10</td>\n",
       "      <td>email</td>\n",
       "      <td>10</td>\n",
       "      <td>5</td>\n",
       "      <td>bogo</td>\n",
       "      <td>4d5c57ea9a6940dd891ad53e9dbe8da0</td>\n",
       "    </tr>\n",
       "    <tr>\n",
       "      <th>1</th>\n",
       "      <td>10</td>\n",
       "      <td>mobile</td>\n",
       "      <td>10</td>\n",
       "      <td>5</td>\n",
       "      <td>bogo</td>\n",
       "      <td>4d5c57ea9a6940dd891ad53e9dbe8da0</td>\n",
       "    </tr>\n",
       "    <tr>\n",
       "      <th>1</th>\n",
       "      <td>10</td>\n",
       "      <td>social</td>\n",
       "      <td>10</td>\n",
       "      <td>5</td>\n",
       "      <td>bogo</td>\n",
       "      <td>4d5c57ea9a6940dd891ad53e9dbe8da0</td>\n",
       "    </tr>\n",
       "    <tr>\n",
       "      <th>2</th>\n",
       "      <td>0</td>\n",
       "      <td>web</td>\n",
       "      <td>0</td>\n",
       "      <td>4</td>\n",
       "      <td>informational</td>\n",
       "      <td>3f207df678b143eea3cee63160fa8bed</td>\n",
       "    </tr>\n",
       "    <tr>\n",
       "      <th>2</th>\n",
       "      <td>0</td>\n",
       "      <td>email</td>\n",
       "      <td>0</td>\n",
       "      <td>4</td>\n",
       "      <td>informational</td>\n",
       "      <td>3f207df678b143eea3cee63160fa8bed</td>\n",
       "    </tr>\n",
       "    <tr>\n",
       "      <th>2</th>\n",
       "      <td>0</td>\n",
       "      <td>mobile</td>\n",
       "      <td>0</td>\n",
       "      <td>4</td>\n",
       "      <td>informational</td>\n",
       "      <td>3f207df678b143eea3cee63160fa8bed</td>\n",
       "    </tr>\n",
       "    <tr>\n",
       "      <th>3</th>\n",
       "      <td>5</td>\n",
       "      <td>web</td>\n",
       "      <td>5</td>\n",
       "      <td>7</td>\n",
       "      <td>bogo</td>\n",
       "      <td>9b98b8c7a33c4b65b9aebfe6a799e6d9</td>\n",
       "    </tr>\n",
       "    <tr>\n",
       "      <th>3</th>\n",
       "      <td>5</td>\n",
       "      <td>email</td>\n",
       "      <td>5</td>\n",
       "      <td>7</td>\n",
       "      <td>bogo</td>\n",
       "      <td>9b98b8c7a33c4b65b9aebfe6a799e6d9</td>\n",
       "    </tr>\n",
       "    <tr>\n",
       "      <th>3</th>\n",
       "      <td>5</td>\n",
       "      <td>mobile</td>\n",
       "      <td>5</td>\n",
       "      <td>7</td>\n",
       "      <td>bogo</td>\n",
       "      <td>9b98b8c7a33c4b65b9aebfe6a799e6d9</td>\n",
       "    </tr>\n",
       "    <tr>\n",
       "      <th>4</th>\n",
       "      <td>5</td>\n",
       "      <td>web</td>\n",
       "      <td>20</td>\n",
       "      <td>10</td>\n",
       "      <td>discount</td>\n",
       "      <td>0b1e1539f2cc45b7b9fa7c272da2e1d7</td>\n",
       "    </tr>\n",
       "    <tr>\n",
       "      <th>4</th>\n",
       "      <td>5</td>\n",
       "      <td>email</td>\n",
       "      <td>20</td>\n",
       "      <td>10</td>\n",
       "      <td>discount</td>\n",
       "      <td>0b1e1539f2cc45b7b9fa7c272da2e1d7</td>\n",
       "    </tr>\n",
       "    <tr>\n",
       "      <th>5</th>\n",
       "      <td>3</td>\n",
       "      <td>web</td>\n",
       "      <td>7</td>\n",
       "      <td>7</td>\n",
       "      <td>discount</td>\n",
       "      <td>2298d6c36e964ae4a3e7e9706d1fb8c2</td>\n",
       "    </tr>\n",
       "    <tr>\n",
       "      <th>5</th>\n",
       "      <td>3</td>\n",
       "      <td>email</td>\n",
       "      <td>7</td>\n",
       "      <td>7</td>\n",
       "      <td>discount</td>\n",
       "      <td>2298d6c36e964ae4a3e7e9706d1fb8c2</td>\n",
       "    </tr>\n",
       "    <tr>\n",
       "      <th>5</th>\n",
       "      <td>3</td>\n",
       "      <td>mobile</td>\n",
       "      <td>7</td>\n",
       "      <td>7</td>\n",
       "      <td>discount</td>\n",
       "      <td>2298d6c36e964ae4a3e7e9706d1fb8c2</td>\n",
       "    </tr>\n",
       "    <tr>\n",
       "      <th>5</th>\n",
       "      <td>3</td>\n",
       "      <td>social</td>\n",
       "      <td>7</td>\n",
       "      <td>7</td>\n",
       "      <td>discount</td>\n",
       "      <td>2298d6c36e964ae4a3e7e9706d1fb8c2</td>\n",
       "    </tr>\n",
       "    <tr>\n",
       "      <th>6</th>\n",
       "      <td>2</td>\n",
       "      <td>web</td>\n",
       "      <td>10</td>\n",
       "      <td>10</td>\n",
       "      <td>discount</td>\n",
       "      <td>fafdcd668e3743c1bb461111dcafc2a4</td>\n",
       "    </tr>\n",
       "    <tr>\n",
       "      <th>6</th>\n",
       "      <td>2</td>\n",
       "      <td>email</td>\n",
       "      <td>10</td>\n",
       "      <td>10</td>\n",
       "      <td>discount</td>\n",
       "      <td>fafdcd668e3743c1bb461111dcafc2a4</td>\n",
       "    </tr>\n",
       "    <tr>\n",
       "      <th>6</th>\n",
       "      <td>2</td>\n",
       "      <td>mobile</td>\n",
       "      <td>10</td>\n",
       "      <td>10</td>\n",
       "      <td>discount</td>\n",
       "      <td>fafdcd668e3743c1bb461111dcafc2a4</td>\n",
       "    </tr>\n",
       "    <tr>\n",
       "      <th>6</th>\n",
       "      <td>2</td>\n",
       "      <td>social</td>\n",
       "      <td>10</td>\n",
       "      <td>10</td>\n",
       "      <td>discount</td>\n",
       "      <td>fafdcd668e3743c1bb461111dcafc2a4</td>\n",
       "    </tr>\n",
       "    <tr>\n",
       "      <th>7</th>\n",
       "      <td>0</td>\n",
       "      <td>email</td>\n",
       "      <td>0</td>\n",
       "      <td>3</td>\n",
       "      <td>informational</td>\n",
       "      <td>5a8bc65990b245e5a138643cd4eb9837</td>\n",
       "    </tr>\n",
       "    <tr>\n",
       "      <th>7</th>\n",
       "      <td>0</td>\n",
       "      <td>mobile</td>\n",
       "      <td>0</td>\n",
       "      <td>3</td>\n",
       "      <td>informational</td>\n",
       "      <td>5a8bc65990b245e5a138643cd4eb9837</td>\n",
       "    </tr>\n",
       "    <tr>\n",
       "      <th>7</th>\n",
       "      <td>0</td>\n",
       "      <td>social</td>\n",
       "      <td>0</td>\n",
       "      <td>3</td>\n",
       "      <td>informational</td>\n",
       "      <td>5a8bc65990b245e5a138643cd4eb9837</td>\n",
       "    </tr>\n",
       "    <tr>\n",
       "      <th>8</th>\n",
       "      <td>5</td>\n",
       "      <td>web</td>\n",
       "      <td>5</td>\n",
       "      <td>5</td>\n",
       "      <td>bogo</td>\n",
       "      <td>f19421c1d4aa40978ebb69ca19b0e20d</td>\n",
       "    </tr>\n",
       "    <tr>\n",
       "      <th>8</th>\n",
       "      <td>5</td>\n",
       "      <td>email</td>\n",
       "      <td>5</td>\n",
       "      <td>5</td>\n",
       "      <td>bogo</td>\n",
       "      <td>f19421c1d4aa40978ebb69ca19b0e20d</td>\n",
       "    </tr>\n",
       "    <tr>\n",
       "      <th>8</th>\n",
       "      <td>5</td>\n",
       "      <td>mobile</td>\n",
       "      <td>5</td>\n",
       "      <td>5</td>\n",
       "      <td>bogo</td>\n",
       "      <td>f19421c1d4aa40978ebb69ca19b0e20d</td>\n",
       "    </tr>\n",
       "    <tr>\n",
       "      <th>8</th>\n",
       "      <td>5</td>\n",
       "      <td>social</td>\n",
       "      <td>5</td>\n",
       "      <td>5</td>\n",
       "      <td>bogo</td>\n",
       "      <td>f19421c1d4aa40978ebb69ca19b0e20d</td>\n",
       "    </tr>\n",
       "    <tr>\n",
       "      <th>9</th>\n",
       "      <td>2</td>\n",
       "      <td>web</td>\n",
       "      <td>10</td>\n",
       "      <td>7</td>\n",
       "      <td>discount</td>\n",
       "      <td>2906b810c7d4411798c6938adc9daaa5</td>\n",
       "    </tr>\n",
       "    <tr>\n",
       "      <th>9</th>\n",
       "      <td>2</td>\n",
       "      <td>email</td>\n",
       "      <td>10</td>\n",
       "      <td>7</td>\n",
       "      <td>discount</td>\n",
       "      <td>2906b810c7d4411798c6938adc9daaa5</td>\n",
       "    </tr>\n",
       "    <tr>\n",
       "      <th>9</th>\n",
       "      <td>2</td>\n",
       "      <td>mobile</td>\n",
       "      <td>10</td>\n",
       "      <td>7</td>\n",
       "      <td>discount</td>\n",
       "      <td>2906b810c7d4411798c6938adc9daaa5</td>\n",
       "    </tr>\n",
       "  </tbody>\n",
       "</table>\n",
       "</div>"
      ],
      "text/plain": [
       "   reward channels  difficulty  duration     offer_type  \\\n",
       "0      10    email          10         7           bogo   \n",
       "0      10   mobile          10         7           bogo   \n",
       "0      10   social          10         7           bogo   \n",
       "1      10      web          10         5           bogo   \n",
       "1      10    email          10         5           bogo   \n",
       "1      10   mobile          10         5           bogo   \n",
       "1      10   social          10         5           bogo   \n",
       "2       0      web           0         4  informational   \n",
       "2       0    email           0         4  informational   \n",
       "2       0   mobile           0         4  informational   \n",
       "3       5      web           5         7           bogo   \n",
       "3       5    email           5         7           bogo   \n",
       "3       5   mobile           5         7           bogo   \n",
       "4       5      web          20        10       discount   \n",
       "4       5    email          20        10       discount   \n",
       "5       3      web           7         7       discount   \n",
       "5       3    email           7         7       discount   \n",
       "5       3   mobile           7         7       discount   \n",
       "5       3   social           7         7       discount   \n",
       "6       2      web          10        10       discount   \n",
       "6       2    email          10        10       discount   \n",
       "6       2   mobile          10        10       discount   \n",
       "6       2   social          10        10       discount   \n",
       "7       0    email           0         3  informational   \n",
       "7       0   mobile           0         3  informational   \n",
       "7       0   social           0         3  informational   \n",
       "8       5      web           5         5           bogo   \n",
       "8       5    email           5         5           bogo   \n",
       "8       5   mobile           5         5           bogo   \n",
       "8       5   social           5         5           bogo   \n",
       "9       2      web          10         7       discount   \n",
       "9       2    email          10         7       discount   \n",
       "9       2   mobile          10         7       discount   \n",
       "\n",
       "                                 id  \n",
       "0  ae264e3637204a6fb9bb56bc8210ddfd  \n",
       "0  ae264e3637204a6fb9bb56bc8210ddfd  \n",
       "0  ae264e3637204a6fb9bb56bc8210ddfd  \n",
       "1  4d5c57ea9a6940dd891ad53e9dbe8da0  \n",
       "1  4d5c57ea9a6940dd891ad53e9dbe8da0  \n",
       "1  4d5c57ea9a6940dd891ad53e9dbe8da0  \n",
       "1  4d5c57ea9a6940dd891ad53e9dbe8da0  \n",
       "2  3f207df678b143eea3cee63160fa8bed  \n",
       "2  3f207df678b143eea3cee63160fa8bed  \n",
       "2  3f207df678b143eea3cee63160fa8bed  \n",
       "3  9b98b8c7a33c4b65b9aebfe6a799e6d9  \n",
       "3  9b98b8c7a33c4b65b9aebfe6a799e6d9  \n",
       "3  9b98b8c7a33c4b65b9aebfe6a799e6d9  \n",
       "4  0b1e1539f2cc45b7b9fa7c272da2e1d7  \n",
       "4  0b1e1539f2cc45b7b9fa7c272da2e1d7  \n",
       "5  2298d6c36e964ae4a3e7e9706d1fb8c2  \n",
       "5  2298d6c36e964ae4a3e7e9706d1fb8c2  \n",
       "5  2298d6c36e964ae4a3e7e9706d1fb8c2  \n",
       "5  2298d6c36e964ae4a3e7e9706d1fb8c2  \n",
       "6  fafdcd668e3743c1bb461111dcafc2a4  \n",
       "6  fafdcd668e3743c1bb461111dcafc2a4  \n",
       "6  fafdcd668e3743c1bb461111dcafc2a4  \n",
       "6  fafdcd668e3743c1bb461111dcafc2a4  \n",
       "7  5a8bc65990b245e5a138643cd4eb9837  \n",
       "7  5a8bc65990b245e5a138643cd4eb9837  \n",
       "7  5a8bc65990b245e5a138643cd4eb9837  \n",
       "8  f19421c1d4aa40978ebb69ca19b0e20d  \n",
       "8  f19421c1d4aa40978ebb69ca19b0e20d  \n",
       "8  f19421c1d4aa40978ebb69ca19b0e20d  \n",
       "8  f19421c1d4aa40978ebb69ca19b0e20d  \n",
       "9  2906b810c7d4411798c6938adc9daaa5  \n",
       "9  2906b810c7d4411798c6938adc9daaa5  \n",
       "9  2906b810c7d4411798c6938adc9daaa5  "
      ]
     },
     "execution_count": 11,
     "metadata": {},
     "output_type": "execute_result"
    }
   ],
   "source": [
    "portfolio = portfolio.explode('channels')\n",
    "portfolio"
   ]
  },
  {
   "cell_type": "code",
   "execution_count": 13,
   "id": "1af25135",
   "metadata": {},
   "outputs": [
    {
     "data": {
      "application/vnd.microsoft.datawrangler.viewer.v0+json": {
       "columns": [
        {
         "name": "index",
         "rawType": "int64",
         "type": "integer"
        },
        {
         "name": "gender",
         "rawType": "object",
         "type": "unknown"
        },
        {
         "name": "age",
         "rawType": "int64",
         "type": "integer"
        },
        {
         "name": "id",
         "rawType": "object",
         "type": "string"
        },
        {
         "name": "became_member_on",
         "rawType": "int64",
         "type": "integer"
        },
        {
         "name": "income",
         "rawType": "float64",
         "type": "float"
        }
       ],
       "conversionMethod": "pd.DataFrame",
       "ref": "3e35b453-bf5f-4221-b7da-e4ac964b8c4a",
       "rows": [
        [
         "0",
         null,
         "118",
         "68be06ca386d4c31939f3a4f0e3dd783",
         "20170212",
         null
        ],
        [
         "1",
         "F",
         "55",
         "0610b486422d4921ae7d2bf64640c50b",
         "20170715",
         "112000.0"
        ],
        [
         "2",
         null,
         "118",
         "38fe809add3b4fcf9315a9694bb96ff5",
         "20180712",
         null
        ],
        [
         "3",
         "F",
         "75",
         "78afa995795e4d85b5d9ceeca43f5fef",
         "20170509",
         "100000.0"
        ],
        [
         "4",
         null,
         "118",
         "a03223e636434f42ac4c3df47e8bac43",
         "20170804",
         null
        ],
        [
         "5",
         "M",
         "68",
         "e2127556f4f64592b11af22de27a7932",
         "20180426",
         "70000.0"
        ],
        [
         "6",
         null,
         "118",
         "8ec6ce2a7e7949b1bf142def7d0e0586",
         "20170925",
         null
        ],
        [
         "7",
         null,
         "118",
         "68617ca6246f4fbc85e91a2a49552598",
         "20171002",
         null
        ],
        [
         "8",
         "M",
         "65",
         "389bc3fa690240e798340f5a15918d5c",
         "20180209",
         "53000.0"
        ],
        [
         "9",
         null,
         "118",
         "8974fc5686fe429db53ddde067b88302",
         "20161122",
         null
        ],
        [
         "10",
         null,
         "118",
         "c4863c7985cf408faee930f111475da3",
         "20170824",
         null
        ],
        [
         "11",
         null,
         "118",
         "148adfcaa27d485b82f323aaaad036bd",
         "20150919",
         null
        ],
        [
         "12",
         "M",
         "58",
         "2eeac8d8feae4a8cad5a6af0499a211d",
         "20171111",
         "51000.0"
        ],
        [
         "13",
         "F",
         "61",
         "aa4862eba776480b8bb9c68455b8c2e1",
         "20170911",
         "57000.0"
        ],
        [
         "14",
         "M",
         "26",
         "e12aeaf2d47d42479ea1c4ac3d8286c6",
         "20140213",
         "46000.0"
        ],
        [
         "15",
         "F",
         "62",
         "31dda685af34476cad5bc968bdb01c53",
         "20160211",
         "71000.0"
        ],
        [
         "16",
         "M",
         "49",
         "62cf5e10845442329191fc246e7bcea3",
         "20141113",
         "52000.0"
        ],
        [
         "17",
         null,
         "118",
         "744d603ef08c4f33af5a61c8c7628d1c",
         "20170801",
         null
        ],
        [
         "18",
         "M",
         "57",
         "6445de3b47274c759400cd68131d91b4",
         "20171231",
         "42000.0"
        ],
        [
         "19",
         "F",
         "61",
         "a448667f336b42c9a66fc5ffd5d73772",
         "20180501",
         "40000.0"
        ],
        [
         "20",
         "F",
         "40",
         "440cf1fd7580490c971d8c651ed962af",
         "20160504",
         "71000.0"
        ],
        [
         "21",
         "M",
         "64",
         "4b0da7e80e5945209a1fdddfe813dbe0",
         "20170909",
         "100000.0"
        ],
        [
         "22",
         "F",
         "78",
         "c27e0d6ab72c455a8bb66d980963de60",
         "20170616",
         "71000.0"
        ],
        [
         "23",
         null,
         "118",
         "2b826eba31074a059d63b0ae8f50b7d5",
         "20170907",
         null
        ],
        [
         "24",
         "M",
         "42",
         "f806632c011441378d4646567f357a21",
         "20130811",
         "69000.0"
        ],
        [
         "25",
         "F",
         "56",
         "d058f73bf8674a26a95227db098147b1",
         "20180428",
         "88000.0"
        ],
        [
         "26",
         null,
         "118",
         "65aba5c617294649aeb624da249e1ee5",
         "20170330",
         null
        ],
        [
         "27",
         "F",
         "33",
         "c6c9884912c645429f3333f912b55f44",
         "20170926",
         "52000.0"
        ],
        [
         "28",
         "F",
         "46",
         "7429a044884842d6862f516c38b1156f",
         "20170911",
         "59000.0"
        ],
        [
         "29",
         "M",
         "59",
         "ebe7ef46ea6f4963a7dd49f501b26779",
         "20150121",
         "41000.0"
        ],
        [
         "30",
         "M",
         "67",
         "5917d13f6fa04286abdf95f4d5cefb1e",
         "20140823",
         "96000.0"
        ],
        [
         "31",
         "O",
         "53",
         "d1ede868e29245ea91818a903fec04c6",
         "20170916",
         "52000.0"
        ],
        [
         "32",
         "M",
         "22",
         "1e9420836d554513ab90eba98552d0a9",
         "20170925",
         "70000.0"
        ],
        [
         "33",
         "F",
         "96",
         "868317b9be554cb18e50bc68484749a2",
         "20171117",
         "89000.0"
        ],
        [
         "34",
         "M",
         "40",
         "f082d80f0aac47a99173ba8ef8fc1909",
         "20160709",
         "33000.0"
        ],
        [
         "35",
         "F",
         "69",
         "102e9454054946fda62242d2e176fdce",
         "20160814",
         "57000.0"
        ],
        [
         "36",
         null,
         "118",
         "4beeb3ed64dd4898b0edf2f6b67426d3",
         "20160707",
         null
        ],
        [
         "37",
         "M",
         "56",
         "8dabe2142cdf4013a6f4786edf8ab00f",
         "20140511",
         "68000.0"
        ],
        [
         "38",
         "F",
         "26",
         "9f30b375d7bd4c62a884ffe7034e09ee",
         "20170812",
         "63000.0"
        ],
        [
         "39",
         null,
         "118",
         "25c906289d154b66bf579693f89481c9",
         "20180113",
         null
        ],
        [
         "40",
         "M",
         "75",
         "6e014185620b49bd98749f728747572f",
         "20151112",
         "40000.0"
        ],
        [
         "41",
         "F",
         "20",
         "02c083884c7d45b39cc68e1314fec56c",
         "20160711",
         "30000.0"
        ],
        [
         "42",
         "M",
         "45",
         "c0d210398dee4a0895b24444a5fcd1d2",
         "20180707",
         "33000.0"
        ],
        [
         "43",
         "M",
         "61",
         "8b70ca1f5f5a45bdac2ac2f990b71526",
         "20171121",
         "98000.0"
        ],
        [
         "44",
         null,
         "118",
         "5b8f1f0e0930464f93bb55e59b5a04e0",
         "20141111",
         null
        ],
        [
         "45",
         null,
         "118",
         "8be4463721e14d7fa600686bf8c8b2ed",
         "20170511",
         null
        ],
        [
         "46",
         "F",
         "69",
         "8e7c7465e98c43d8a01f51e2b5c29542",
         "20130918",
         "37000.0"
        ],
        [
         "47",
         "F",
         "54",
         "57dd18ec5ddc46828afb81ec5977bef2",
         "20170207",
         "80000.0"
        ],
        [
         "48",
         "M",
         "39",
         "be8a5d1981a2458d90b255ddc7e0d174",
         "20140527",
         "51000.0"
        ],
        [
         "49",
         "F",
         "41",
         "3f89b8f80ebc4f94b7074f28071aa8d4",
         "20150921",
         "41000.0"
        ]
       ],
       "shape": {
        "columns": 5,
        "rows": 17000
       }
      },
      "text/html": [
       "<div>\n",
       "<style scoped>\n",
       "    .dataframe tbody tr th:only-of-type {\n",
       "        vertical-align: middle;\n",
       "    }\n",
       "\n",
       "    .dataframe tbody tr th {\n",
       "        vertical-align: top;\n",
       "    }\n",
       "\n",
       "    .dataframe thead th {\n",
       "        text-align: right;\n",
       "    }\n",
       "</style>\n",
       "<table border=\"1\" class=\"dataframe\">\n",
       "  <thead>\n",
       "    <tr style=\"text-align: right;\">\n",
       "      <th></th>\n",
       "      <th>gender</th>\n",
       "      <th>age</th>\n",
       "      <th>id</th>\n",
       "      <th>became_member_on</th>\n",
       "      <th>income</th>\n",
       "    </tr>\n",
       "  </thead>\n",
       "  <tbody>\n",
       "    <tr>\n",
       "      <th>0</th>\n",
       "      <td>None</td>\n",
       "      <td>118</td>\n",
       "      <td>68be06ca386d4c31939f3a4f0e3dd783</td>\n",
       "      <td>20170212</td>\n",
       "      <td>NaN</td>\n",
       "    </tr>\n",
       "    <tr>\n",
       "      <th>1</th>\n",
       "      <td>F</td>\n",
       "      <td>55</td>\n",
       "      <td>0610b486422d4921ae7d2bf64640c50b</td>\n",
       "      <td>20170715</td>\n",
       "      <td>112000.0</td>\n",
       "    </tr>\n",
       "    <tr>\n",
       "      <th>2</th>\n",
       "      <td>None</td>\n",
       "      <td>118</td>\n",
       "      <td>38fe809add3b4fcf9315a9694bb96ff5</td>\n",
       "      <td>20180712</td>\n",
       "      <td>NaN</td>\n",
       "    </tr>\n",
       "    <tr>\n",
       "      <th>3</th>\n",
       "      <td>F</td>\n",
       "      <td>75</td>\n",
       "      <td>78afa995795e4d85b5d9ceeca43f5fef</td>\n",
       "      <td>20170509</td>\n",
       "      <td>100000.0</td>\n",
       "    </tr>\n",
       "    <tr>\n",
       "      <th>4</th>\n",
       "      <td>None</td>\n",
       "      <td>118</td>\n",
       "      <td>a03223e636434f42ac4c3df47e8bac43</td>\n",
       "      <td>20170804</td>\n",
       "      <td>NaN</td>\n",
       "    </tr>\n",
       "    <tr>\n",
       "      <th>...</th>\n",
       "      <td>...</td>\n",
       "      <td>...</td>\n",
       "      <td>...</td>\n",
       "      <td>...</td>\n",
       "      <td>...</td>\n",
       "    </tr>\n",
       "    <tr>\n",
       "      <th>16995</th>\n",
       "      <td>F</td>\n",
       "      <td>45</td>\n",
       "      <td>6d5f3a774f3d4714ab0c092238f3a1d7</td>\n",
       "      <td>20180604</td>\n",
       "      <td>54000.0</td>\n",
       "    </tr>\n",
       "    <tr>\n",
       "      <th>16996</th>\n",
       "      <td>M</td>\n",
       "      <td>61</td>\n",
       "      <td>2cb4f97358b841b9a9773a7aa05a9d77</td>\n",
       "      <td>20180713</td>\n",
       "      <td>72000.0</td>\n",
       "    </tr>\n",
       "    <tr>\n",
       "      <th>16997</th>\n",
       "      <td>M</td>\n",
       "      <td>49</td>\n",
       "      <td>01d26f638c274aa0b965d24cefe3183f</td>\n",
       "      <td>20170126</td>\n",
       "      <td>73000.0</td>\n",
       "    </tr>\n",
       "    <tr>\n",
       "      <th>16998</th>\n",
       "      <td>F</td>\n",
       "      <td>83</td>\n",
       "      <td>9dc1421481194dcd9400aec7c9ae6366</td>\n",
       "      <td>20160307</td>\n",
       "      <td>50000.0</td>\n",
       "    </tr>\n",
       "    <tr>\n",
       "      <th>16999</th>\n",
       "      <td>F</td>\n",
       "      <td>62</td>\n",
       "      <td>e4052622e5ba45a8b96b59aba68cf068</td>\n",
       "      <td>20170722</td>\n",
       "      <td>82000.0</td>\n",
       "    </tr>\n",
       "  </tbody>\n",
       "</table>\n",
       "<p>17000 rows × 5 columns</p>\n",
       "</div>"
      ],
      "text/plain": [
       "      gender  age                                id  became_member_on  \\\n",
       "0       None  118  68be06ca386d4c31939f3a4f0e3dd783          20170212   \n",
       "1          F   55  0610b486422d4921ae7d2bf64640c50b          20170715   \n",
       "2       None  118  38fe809add3b4fcf9315a9694bb96ff5          20180712   \n",
       "3          F   75  78afa995795e4d85b5d9ceeca43f5fef          20170509   \n",
       "4       None  118  a03223e636434f42ac4c3df47e8bac43          20170804   \n",
       "...      ...  ...                               ...               ...   \n",
       "16995      F   45  6d5f3a774f3d4714ab0c092238f3a1d7          20180604   \n",
       "16996      M   61  2cb4f97358b841b9a9773a7aa05a9d77          20180713   \n",
       "16997      M   49  01d26f638c274aa0b965d24cefe3183f          20170126   \n",
       "16998      F   83  9dc1421481194dcd9400aec7c9ae6366          20160307   \n",
       "16999      F   62  e4052622e5ba45a8b96b59aba68cf068          20170722   \n",
       "\n",
       "         income  \n",
       "0           NaN  \n",
       "1      112000.0  \n",
       "2           NaN  \n",
       "3      100000.0  \n",
       "4           NaN  \n",
       "...         ...  \n",
       "16995   54000.0  \n",
       "16996   72000.0  \n",
       "16997   73000.0  \n",
       "16998   50000.0  \n",
       "16999   82000.0  \n",
       "\n",
       "[17000 rows x 5 columns]"
      ]
     },
     "execution_count": 13,
     "metadata": {},
     "output_type": "execute_result"
    }
   ],
   "source": [
    "profile"
   ]
  },
  {
   "cell_type": "code",
   "execution_count": 15,
   "id": "363241c7",
   "metadata": {},
   "outputs": [
    {
     "data": {
      "application/vnd.microsoft.datawrangler.viewer.v0+json": {
       "columns": [
        {
         "name": "gender",
         "rawType": "object",
         "type": "unknown"
        },
        {
         "name": "age",
         "rawType": "int64",
         "type": "integer"
        },
        {
         "name": "id",
         "rawType": "int64",
         "type": "integer"
        },
        {
         "name": "became_member_on",
         "rawType": "int64",
         "type": "integer"
        },
        {
         "name": "income",
         "rawType": "int64",
         "type": "integer"
        }
       ],
       "conversionMethod": "pd.DataFrame",
       "ref": "83ecc297-4c17-4f97-bee6-3b000c99836e",
       "rows": [
        [
         "F",
         "6129",
         "6129",
         "6129",
         "6129"
        ],
        [
         "M",
         "8484",
         "8484",
         "8484",
         "8484"
        ],
        [
         "O",
         "212",
         "212",
         "212",
         "212"
        ],
        [
         null,
         "2175",
         "2175",
         "2175",
         "0"
        ]
       ],
       "shape": {
        "columns": 4,
        "rows": 4
       }
      },
      "text/html": [
       "<div>\n",
       "<style scoped>\n",
       "    .dataframe tbody tr th:only-of-type {\n",
       "        vertical-align: middle;\n",
       "    }\n",
       "\n",
       "    .dataframe tbody tr th {\n",
       "        vertical-align: top;\n",
       "    }\n",
       "\n",
       "    .dataframe thead th {\n",
       "        text-align: right;\n",
       "    }\n",
       "</style>\n",
       "<table border=\"1\" class=\"dataframe\">\n",
       "  <thead>\n",
       "    <tr style=\"text-align: right;\">\n",
       "      <th></th>\n",
       "      <th>age</th>\n",
       "      <th>id</th>\n",
       "      <th>became_member_on</th>\n",
       "      <th>income</th>\n",
       "    </tr>\n",
       "    <tr>\n",
       "      <th>gender</th>\n",
       "      <th></th>\n",
       "      <th></th>\n",
       "      <th></th>\n",
       "      <th></th>\n",
       "    </tr>\n",
       "  </thead>\n",
       "  <tbody>\n",
       "    <tr>\n",
       "      <th>F</th>\n",
       "      <td>6129</td>\n",
       "      <td>6129</td>\n",
       "      <td>6129</td>\n",
       "      <td>6129</td>\n",
       "    </tr>\n",
       "    <tr>\n",
       "      <th>M</th>\n",
       "      <td>8484</td>\n",
       "      <td>8484</td>\n",
       "      <td>8484</td>\n",
       "      <td>8484</td>\n",
       "    </tr>\n",
       "    <tr>\n",
       "      <th>O</th>\n",
       "      <td>212</td>\n",
       "      <td>212</td>\n",
       "      <td>212</td>\n",
       "      <td>212</td>\n",
       "    </tr>\n",
       "    <tr>\n",
       "      <th>NaN</th>\n",
       "      <td>2175</td>\n",
       "      <td>2175</td>\n",
       "      <td>2175</td>\n",
       "      <td>0</td>\n",
       "    </tr>\n",
       "  </tbody>\n",
       "</table>\n",
       "</div>"
      ],
      "text/plain": [
       "         age    id  became_member_on  income\n",
       "gender                                      \n",
       "F       6129  6129              6129    6129\n",
       "M       8484  8484              8484    8484\n",
       "O        212   212               212     212\n",
       "NaN     2175  2175              2175       0"
      ]
     },
     "execution_count": 15,
     "metadata": {},
     "output_type": "execute_result"
    }
   ],
   "source": [
    "profile.groupby( ['gender'], dropna=False ).count()"
   ]
  },
  {
   "cell_type": "code",
   "execution_count": 16,
   "id": "57082475",
   "metadata": {},
   "outputs": [
    {
     "data": {
      "application/vnd.microsoft.datawrangler.viewer.v0+json": {
       "columns": [
        {
         "name": "index",
         "rawType": "int64",
         "type": "integer"
        },
        {
         "name": "person",
         "rawType": "object",
         "type": "string"
        },
        {
         "name": "event",
         "rawType": "object",
         "type": "string"
        },
        {
         "name": "value",
         "rawType": "object",
         "type": "unknown"
        },
        {
         "name": "time",
         "rawType": "int64",
         "type": "integer"
        }
       ],
       "conversionMethod": "pd.DataFrame",
       "ref": "3f75e2f2-94a5-4c95-b3c2-8150e1e367bf",
       "rows": [
        [
         "0",
         "78afa995795e4d85b5d9ceeca43f5fef",
         "offer received",
         "{'offer id': '9b98b8c7a33c4b65b9aebfe6a799e6d9'}",
         "0"
        ],
        [
         "1",
         "a03223e636434f42ac4c3df47e8bac43",
         "offer received",
         "{'offer id': '0b1e1539f2cc45b7b9fa7c272da2e1d7'}",
         "0"
        ],
        [
         "2",
         "e2127556f4f64592b11af22de27a7932",
         "offer received",
         "{'offer id': '2906b810c7d4411798c6938adc9daaa5'}",
         "0"
        ],
        [
         "3",
         "8ec6ce2a7e7949b1bf142def7d0e0586",
         "offer received",
         "{'offer id': 'fafdcd668e3743c1bb461111dcafc2a4'}",
         "0"
        ],
        [
         "4",
         "68617ca6246f4fbc85e91a2a49552598",
         "offer received",
         "{'offer id': '4d5c57ea9a6940dd891ad53e9dbe8da0'}",
         "0"
        ],
        [
         "5",
         "389bc3fa690240e798340f5a15918d5c",
         "offer received",
         "{'offer id': 'f19421c1d4aa40978ebb69ca19b0e20d'}",
         "0"
        ],
        [
         "6",
         "c4863c7985cf408faee930f111475da3",
         "offer received",
         "{'offer id': '2298d6c36e964ae4a3e7e9706d1fb8c2'}",
         "0"
        ],
        [
         "7",
         "2eeac8d8feae4a8cad5a6af0499a211d",
         "offer received",
         "{'offer id': '3f207df678b143eea3cee63160fa8bed'}",
         "0"
        ],
        [
         "8",
         "aa4862eba776480b8bb9c68455b8c2e1",
         "offer received",
         "{'offer id': '0b1e1539f2cc45b7b9fa7c272da2e1d7'}",
         "0"
        ],
        [
         "9",
         "31dda685af34476cad5bc968bdb01c53",
         "offer received",
         "{'offer id': '0b1e1539f2cc45b7b9fa7c272da2e1d7'}",
         "0"
        ],
        [
         "10",
         "744d603ef08c4f33af5a61c8c7628d1c",
         "offer received",
         "{'offer id': '0b1e1539f2cc45b7b9fa7c272da2e1d7'}",
         "0"
        ],
        [
         "11",
         "3d02345581554e81b7b289ab5e288078",
         "offer received",
         "{'offer id': '0b1e1539f2cc45b7b9fa7c272da2e1d7'}",
         "0"
        ],
        [
         "12",
         "4b0da7e80e5945209a1fdddfe813dbe0",
         "offer received",
         "{'offer id': 'ae264e3637204a6fb9bb56bc8210ddfd'}",
         "0"
        ],
        [
         "13",
         "c27e0d6ab72c455a8bb66d980963de60",
         "offer received",
         "{'offer id': '3f207df678b143eea3cee63160fa8bed'}",
         "0"
        ],
        [
         "14",
         "d53717f5400c4e84affdaeda9dd926b3",
         "offer received",
         "{'offer id': '0b1e1539f2cc45b7b9fa7c272da2e1d7'}",
         "0"
        ],
        [
         "15",
         "f806632c011441378d4646567f357a21",
         "offer received",
         "{'offer id': 'fafdcd668e3743c1bb461111dcafc2a4'}",
         "0"
        ],
        [
         "16",
         "d058f73bf8674a26a95227db098147b1",
         "offer received",
         "{'offer id': '0b1e1539f2cc45b7b9fa7c272da2e1d7'}",
         "0"
        ],
        [
         "17",
         "65aba5c617294649aeb624da249e1ee5",
         "offer received",
         "{'offer id': '2906b810c7d4411798c6938adc9daaa5'}",
         "0"
        ],
        [
         "18",
         "ebe7ef46ea6f4963a7dd49f501b26779",
         "offer received",
         "{'offer id': '9b98b8c7a33c4b65b9aebfe6a799e6d9'}",
         "0"
        ],
        [
         "19",
         "1e9420836d554513ab90eba98552d0a9",
         "offer received",
         "{'offer id': 'ae264e3637204a6fb9bb56bc8210ddfd'}",
         "0"
        ],
        [
         "20",
         "868317b9be554cb18e50bc68484749a2",
         "offer received",
         "{'offer id': '2906b810c7d4411798c6938adc9daaa5'}",
         "0"
        ],
        [
         "21",
         "f082d80f0aac47a99173ba8ef8fc1909",
         "offer received",
         "{'offer id': '9b98b8c7a33c4b65b9aebfe6a799e6d9'}",
         "0"
        ],
        [
         "22",
         "102e9454054946fda62242d2e176fdce",
         "offer received",
         "{'offer id': '4d5c57ea9a6940dd891ad53e9dbe8da0'}",
         "0"
        ],
        [
         "23",
         "4beeb3ed64dd4898b0edf2f6b67426d3",
         "offer received",
         "{'offer id': '2906b810c7d4411798c6938adc9daaa5'}",
         "0"
        ],
        [
         "24",
         "9f30b375d7bd4c62a884ffe7034e09ee",
         "offer received",
         "{'offer id': '2298d6c36e964ae4a3e7e9706d1fb8c2'}",
         "0"
        ],
        [
         "25",
         "25c906289d154b66bf579693f89481c9",
         "offer received",
         "{'offer id': '2906b810c7d4411798c6938adc9daaa5'}",
         "0"
        ],
        [
         "26",
         "6e014185620b49bd98749f728747572f",
         "offer received",
         "{'offer id': 'f19421c1d4aa40978ebb69ca19b0e20d'}",
         "0"
        ],
        [
         "27",
         "02c083884c7d45b39cc68e1314fec56c",
         "offer received",
         "{'offer id': 'ae264e3637204a6fb9bb56bc8210ddfd'}",
         "0"
        ],
        [
         "28",
         "c0d210398dee4a0895b24444a5fcd1d2",
         "offer received",
         "{'offer id': '9b98b8c7a33c4b65b9aebfe6a799e6d9'}",
         "0"
        ],
        [
         "29",
         "8be4463721e14d7fa600686bf8c8b2ed",
         "offer received",
         "{'offer id': 'fafdcd668e3743c1bb461111dcafc2a4'}",
         "0"
        ],
        [
         "30",
         "57dd18ec5ddc46828afb81ec5977bef2",
         "offer received",
         "{'offer id': '9b98b8c7a33c4b65b9aebfe6a799e6d9'}",
         "0"
        ],
        [
         "31",
         "be8a5d1981a2458d90b255ddc7e0d174",
         "offer received",
         "{'offer id': '5a8bc65990b245e5a138643cd4eb9837'}",
         "0"
        ],
        [
         "32",
         "a3b9b4bf115e4564933ea2e4bc936843",
         "offer received",
         "{'offer id': '9b98b8c7a33c4b65b9aebfe6a799e6d9'}",
         "0"
        ],
        [
         "33",
         "7584948ea6d04f94b8798624706261c2",
         "offer received",
         "{'offer id': '4d5c57ea9a6940dd891ad53e9dbe8da0'}",
         "0"
        ],
        [
         "34",
         "9c64321646bf40f6ad1bc98864eaa6b8",
         "offer received",
         "{'offer id': 'fafdcd668e3743c1bb461111dcafc2a4'}",
         "0"
        ],
        [
         "35",
         "676506bad68e4161b9bbaffeb039626b",
         "offer received",
         "{'offer id': 'ae264e3637204a6fb9bb56bc8210ddfd'}",
         "0"
        ],
        [
         "36",
         "9fa9ae8f57894cc9a3b8a9bbe0fc1b2f",
         "offer received",
         "{'offer id': '2906b810c7d4411798c6938adc9daaa5'}",
         "0"
        ],
        [
         "37",
         "020d3a52b9ce432ea5f98fc58e9bfcc4",
         "offer received",
         "{'offer id': '2906b810c7d4411798c6938adc9daaa5'}",
         "0"
        ],
        [
         "38",
         "32fbf97e89274e8a935903f2ad095e1f",
         "offer received",
         "{'offer id': '9b98b8c7a33c4b65b9aebfe6a799e6d9'}",
         "0"
        ],
        [
         "39",
         "fe8264108d5b4f198453bbb1fa7ca6c9",
         "offer received",
         "{'offer id': 'ae264e3637204a6fb9bb56bc8210ddfd'}",
         "0"
        ],
        [
         "40",
         "b7a66e629b134079a9bc7120c7b9947b",
         "offer received",
         "{'offer id': 'f19421c1d4aa40978ebb69ca19b0e20d'}",
         "0"
        ],
        [
         "41",
         "ca82e1ebc759402c8ab95c341755bdf1",
         "offer received",
         "{'offer id': '2906b810c7d4411798c6938adc9daaa5'}",
         "0"
        ],
        [
         "42",
         "e8fe7ffcf1634713a819d48447737c90",
         "offer received",
         "{'offer id': '4d5c57ea9a6940dd891ad53e9dbe8da0'}",
         "0"
        ],
        [
         "43",
         "d3f146b615514c6380b168bb3df5f05b",
         "offer received",
         "{'offer id': 'f19421c1d4aa40978ebb69ca19b0e20d'}",
         "0"
        ],
        [
         "44",
         "a5a6ef2b78a04ddc9f374dd7c7f60bff",
         "offer received",
         "{'offer id': '5a8bc65990b245e5a138643cd4eb9837'}",
         "0"
        ],
        [
         "45",
         "2e87ba0fba1a4d1a8614af771f07a94d",
         "offer received",
         "{'offer id': '2298d6c36e964ae4a3e7e9706d1fb8c2'}",
         "0"
        ],
        [
         "46",
         "39dbcf43e24d41f4bbf0f134157e0e1e",
         "offer received",
         "{'offer id': 'ae264e3637204a6fb9bb56bc8210ddfd'}",
         "0"
        ],
        [
         "47",
         "8c7df0c393db488aac3e58b06a7ea5f9",
         "offer received",
         "{'offer id': '2298d6c36e964ae4a3e7e9706d1fb8c2'}",
         "0"
        ],
        [
         "48",
         "3a1242dda16248728e350c4bdeb21972",
         "offer received",
         "{'offer id': '4d5c57ea9a6940dd891ad53e9dbe8da0'}",
         "0"
        ],
        [
         "49",
         "8045834137dc47faa24f2c4547969f33",
         "offer received",
         "{'offer id': 'f19421c1d4aa40978ebb69ca19b0e20d'}",
         "0"
        ]
       ],
       "shape": {
        "columns": 4,
        "rows": 306534
       }
      },
      "text/html": [
       "<div>\n",
       "<style scoped>\n",
       "    .dataframe tbody tr th:only-of-type {\n",
       "        vertical-align: middle;\n",
       "    }\n",
       "\n",
       "    .dataframe tbody tr th {\n",
       "        vertical-align: top;\n",
       "    }\n",
       "\n",
       "    .dataframe thead th {\n",
       "        text-align: right;\n",
       "    }\n",
       "</style>\n",
       "<table border=\"1\" class=\"dataframe\">\n",
       "  <thead>\n",
       "    <tr style=\"text-align: right;\">\n",
       "      <th></th>\n",
       "      <th>person</th>\n",
       "      <th>event</th>\n",
       "      <th>value</th>\n",
       "      <th>time</th>\n",
       "    </tr>\n",
       "  </thead>\n",
       "  <tbody>\n",
       "    <tr>\n",
       "      <th>0</th>\n",
       "      <td>78afa995795e4d85b5d9ceeca43f5fef</td>\n",
       "      <td>offer received</td>\n",
       "      <td>{'offer id': '9b98b8c7a33c4b65b9aebfe6a799e6d9'}</td>\n",
       "      <td>0</td>\n",
       "    </tr>\n",
       "    <tr>\n",
       "      <th>1</th>\n",
       "      <td>a03223e636434f42ac4c3df47e8bac43</td>\n",
       "      <td>offer received</td>\n",
       "      <td>{'offer id': '0b1e1539f2cc45b7b9fa7c272da2e1d7'}</td>\n",
       "      <td>0</td>\n",
       "    </tr>\n",
       "    <tr>\n",
       "      <th>2</th>\n",
       "      <td>e2127556f4f64592b11af22de27a7932</td>\n",
       "      <td>offer received</td>\n",
       "      <td>{'offer id': '2906b810c7d4411798c6938adc9daaa5'}</td>\n",
       "      <td>0</td>\n",
       "    </tr>\n",
       "    <tr>\n",
       "      <th>3</th>\n",
       "      <td>8ec6ce2a7e7949b1bf142def7d0e0586</td>\n",
       "      <td>offer received</td>\n",
       "      <td>{'offer id': 'fafdcd668e3743c1bb461111dcafc2a4'}</td>\n",
       "      <td>0</td>\n",
       "    </tr>\n",
       "    <tr>\n",
       "      <th>4</th>\n",
       "      <td>68617ca6246f4fbc85e91a2a49552598</td>\n",
       "      <td>offer received</td>\n",
       "      <td>{'offer id': '4d5c57ea9a6940dd891ad53e9dbe8da0'}</td>\n",
       "      <td>0</td>\n",
       "    </tr>\n",
       "    <tr>\n",
       "      <th>...</th>\n",
       "      <td>...</td>\n",
       "      <td>...</td>\n",
       "      <td>...</td>\n",
       "      <td>...</td>\n",
       "    </tr>\n",
       "    <tr>\n",
       "      <th>306529</th>\n",
       "      <td>b3a1272bc9904337b331bf348c3e8c17</td>\n",
       "      <td>transaction</td>\n",
       "      <td>{'amount': 1.5899999999999999}</td>\n",
       "      <td>714</td>\n",
       "    </tr>\n",
       "    <tr>\n",
       "      <th>306530</th>\n",
       "      <td>68213b08d99a4ae1b0dcb72aebd9aa35</td>\n",
       "      <td>transaction</td>\n",
       "      <td>{'amount': 9.53}</td>\n",
       "      <td>714</td>\n",
       "    </tr>\n",
       "    <tr>\n",
       "      <th>306531</th>\n",
       "      <td>a00058cf10334a308c68e7631c529907</td>\n",
       "      <td>transaction</td>\n",
       "      <td>{'amount': 3.61}</td>\n",
       "      <td>714</td>\n",
       "    </tr>\n",
       "    <tr>\n",
       "      <th>306532</th>\n",
       "      <td>76ddbd6576844afe811f1a3c0fbb5bec</td>\n",
       "      <td>transaction</td>\n",
       "      <td>{'amount': 3.5300000000000002}</td>\n",
       "      <td>714</td>\n",
       "    </tr>\n",
       "    <tr>\n",
       "      <th>306533</th>\n",
       "      <td>c02b10e8752c4d8e9b73f918558531f7</td>\n",
       "      <td>transaction</td>\n",
       "      <td>{'amount': 4.05}</td>\n",
       "      <td>714</td>\n",
       "    </tr>\n",
       "  </tbody>\n",
       "</table>\n",
       "<p>306534 rows × 4 columns</p>\n",
       "</div>"
      ],
      "text/plain": [
       "                                  person           event  \\\n",
       "0       78afa995795e4d85b5d9ceeca43f5fef  offer received   \n",
       "1       a03223e636434f42ac4c3df47e8bac43  offer received   \n",
       "2       e2127556f4f64592b11af22de27a7932  offer received   \n",
       "3       8ec6ce2a7e7949b1bf142def7d0e0586  offer received   \n",
       "4       68617ca6246f4fbc85e91a2a49552598  offer received   \n",
       "...                                  ...             ...   \n",
       "306529  b3a1272bc9904337b331bf348c3e8c17     transaction   \n",
       "306530  68213b08d99a4ae1b0dcb72aebd9aa35     transaction   \n",
       "306531  a00058cf10334a308c68e7631c529907     transaction   \n",
       "306532  76ddbd6576844afe811f1a3c0fbb5bec     transaction   \n",
       "306533  c02b10e8752c4d8e9b73f918558531f7     transaction   \n",
       "\n",
       "                                                   value  time  \n",
       "0       {'offer id': '9b98b8c7a33c4b65b9aebfe6a799e6d9'}     0  \n",
       "1       {'offer id': '0b1e1539f2cc45b7b9fa7c272da2e1d7'}     0  \n",
       "2       {'offer id': '2906b810c7d4411798c6938adc9daaa5'}     0  \n",
       "3       {'offer id': 'fafdcd668e3743c1bb461111dcafc2a4'}     0  \n",
       "4       {'offer id': '4d5c57ea9a6940dd891ad53e9dbe8da0'}     0  \n",
       "...                                                  ...   ...  \n",
       "306529                    {'amount': 1.5899999999999999}   714  \n",
       "306530                                  {'amount': 9.53}   714  \n",
       "306531                                  {'amount': 3.61}   714  \n",
       "306532                    {'amount': 3.5300000000000002}   714  \n",
       "306533                                  {'amount': 4.05}   714  \n",
       "\n",
       "[306534 rows x 4 columns]"
      ]
     },
     "execution_count": 16,
     "metadata": {},
     "output_type": "execute_result"
    }
   ],
   "source": [
    "transcript"
   ]
  },
  {
   "cell_type": "code",
   "execution_count": null,
   "id": "93e4f7f3",
   "metadata": {},
   "outputs": [],
   "source": []
  },
  {
   "cell_type": "code",
   "execution_count": 12,
   "id": "ca4938af",
   "metadata": {},
   "outputs": [],
   "source": [
    "# conn = create_engine('sqlite:///data/raw_starbucks.db')\n",
    "\n",
    "# portfolio.to_sql('portfolio', conn, if_exists='replace', index=False)\n",
    "# profile.to_sql('profile', conn, if_exists='replace', index=False)\n",
    "# transcript.to_sql('transcript', conn, if_exists='replace', index=False)\n",
    "\n",
    "# conn.dispose()"
   ]
  }
 ],
 "metadata": {
  "kernelspec": {
   "display_name": "base",
   "language": "python",
   "name": "python3"
  },
  "language_info": {
   "codemirror_mode": {
    "name": "ipython",
    "version": 3
   },
   "file_extension": ".py",
   "mimetype": "text/x-python",
   "name": "python",
   "nbconvert_exporter": "python",
   "pygments_lexer": "ipython3",
   "version": "3.12.4"
  }
 },
 "nbformat": 4,
 "nbformat_minor": 5
}
